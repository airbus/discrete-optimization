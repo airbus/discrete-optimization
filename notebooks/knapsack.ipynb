{
 "cells": [
  {
   "cell_type": "markdown",
   "id": "1d78f810",
   "metadata": {},
   "source": [
    "# Knapsack problem\n",
    "This is a very common combinatorial optimization problem where you are given a knapsack of a given weight capacity $C$ and a bunch of items with values and weight. The goal is to fill the knapsack with the best aggregated value, respecting the weight constraint.\n",
    "\n",
    "![knapsack problem illustration](https://upload.wikimedia.org/wikipedia/commons/f/fd/Knapsack.svg \"Image from wikipedia: https://commons.wikimedia.org/wiki/File:Knapsack.svg\").\n",
    "\n",
    "We handle here the *0-1 knapsack problem* where each item can only be taken once.\n",
    "\n",
    "Many different optimization approach can be tested on the combinatorial problem, we'll see a few during the notebook:\n",
    "\n",
    "- [Greedy heuristic methods](#Greedy-heuristic)\n",
    "- [Mixed Integer Linear Programming (MILP)](#Mixed-integer-linear-programming-(MILP))\n",
    "- [Constraint Programming (CP)](#Constraint-Programming-(CP))\n",
    "- [Large neighborhood search](#Large-neighborhood-search), a metaheuristic on top of CP or MILP"
   ]
  },
  {
   "cell_type": "markdown",
   "id": "57f968f2",
   "metadata": {},
   "source": [
    "## Prerequisites\n",
    "\n",
    "Before running this notebook, you need to \n",
    "- install [minizinc](https://www.minizinc.org/) and config it so that it is found by the jupyter kernel (on linux, it means updating the `PATH` variable)\n",
    "- install discrete-optimization in your jupyter kernel\n",
    "    ```\n",
    "    pip install discrete-optimization\n",
    "    ```\n",
    "\n"
   ]
  },
  {
   "cell_type": "markdown",
   "id": "67aef81b",
   "metadata": {},
   "source": [
    "### Imports"
   ]
  },
  {
   "cell_type": "code",
   "execution_count": null,
   "id": "1d9d36f5",
   "metadata": {},
   "outputs": [],
   "source": [
    "import logging\n",
    "import random\n",
    "\n",
    "import nest_asyncio\n",
    "import numpy as np\n",
    "\n",
    "from discrete_optimization.datasets import fetch_data_from_coursera\n",
    "from discrete_optimization.generic_tools.cp_tools import CPSolverName, ParametersCP\n",
    "from discrete_optimization.generic_tools.do_problem import get_default_objective_setup\n",
    "from discrete_optimization.generic_tools.lns_cp import LNS_CP\n",
    "from discrete_optimization.generic_tools.lp_tools import MilpSolverName, ParametersMilp\n",
    "from discrete_optimization.knapsack.knapsack_parser import (\n",
    "    get_data_available,\n",
    "    parse_file,\n",
    ")\n",
    "from discrete_optimization.knapsack.knapsack_solvers import look_for_solver\n",
    "from discrete_optimization.knapsack.solvers.cp_solvers import CPKnapsackMZN2\n",
    "from discrete_optimization.knapsack.solvers.greedy_solvers import GreedyBest\n",
    "from discrete_optimization.knapsack.solvers.knapsack_lns_cp_solver import (\n",
    "    ConstraintHandlerKnapsack,\n",
    ")\n",
    "from discrete_optimization.knapsack.solvers.knapsack_lns_solver import (\n",
    "    InitialKnapsackMethod,\n",
    "    InitialKnapsackSolution,\n",
    ")\n",
    "from discrete_optimization.knapsack.solvers.lp_solvers import LPKnapsack\n",
    "\n",
    "# patch asyncio so that applications using async functions can run in jupyter\n",
    "nest_asyncio.apply()\n",
    "\n",
    "# set logging level\n",
    "logging.basicConfig(level=logging.INFO)"
   ]
  },
  {
   "cell_type": "markdown",
   "id": "e2cb9e88",
   "metadata": {},
   "source": [
    "### Download datasets\n",
    "\n",
    "If not yet available, we import the datasets from [coursera](https://github.com/discreteoptimization/assignment)."
   ]
  },
  {
   "cell_type": "code",
   "execution_count": null,
   "id": "f4df9bb9",
   "metadata": {},
   "outputs": [],
   "source": [
    "needed_datasets = [\"ks_500_0\"]\n",
    "files_available_paths = get_data_available()\n",
    "\n",
    "download_needed = False\n",
    "for dataset in needed_datasets:\n",
    "    if len([f for f in files_available_paths if dataset in f]) == 0:\n",
    "        download_needed = True\n",
    "        break\n",
    "\n",
    "if download_needed:\n",
    "    fetch_data_from_coursera()"
   ]
  },
  {
   "cell_type": "markdown",
   "id": "9db3b70d",
   "metadata": {},
   "source": [
    "We will use the dataset [ks_500_0](https://github.com/discreteoptimization/assignment/blob/master/knapsack/data/ks_500_0) where we have 500 items at hand to put in the knapsack."
   ]
  },
  {
   "cell_type": "markdown",
   "id": "a6ac38b0",
   "metadata": {},
   "source": [
    "### Set random seed\n",
    "\n",
    "If reproducible results are wanted, we can fix the random seed."
   ]
  },
  {
   "cell_type": "code",
   "execution_count": null,
   "id": "b68de4dd",
   "metadata": {},
   "outputs": [],
   "source": [
    "def set_random_seed(seed=42):\n",
    "    random.seed(seed)\n",
    "    np.random.seed(seed)\n",
    "\n",
    "\n",
    "set_random_seed()"
   ]
  },
  {
   "cell_type": "markdown",
   "id": "e226b613",
   "metadata": {},
   "source": [
    "## Parse input data"
   ]
  },
  {
   "cell_type": "markdown",
   "id": "3dfa73d4",
   "metadata": {},
   "source": [
    "We parse the dataset file to load it as a discrete-optimization problem. In this case we get a `discrete_optimization.knapsack.knapsack_model.KnapsackModel`."
   ]
  },
  {
   "cell_type": "code",
   "execution_count": null,
   "id": "499a6964",
   "metadata": {},
   "outputs": [],
   "source": [
    "files_available_paths = get_data_available()\n",
    "model_file = [f for f in files_available_paths if \"ks_500_0\" in f][0]\n",
    "model = parse_file(model_file, force_recompute_values=True)\n",
    "print(type(model))"
   ]
  },
  {
   "cell_type": "markdown",
   "id": "6a60783e",
   "metadata": {},
   "source": [
    "Here is a representation of the corresponding model."
   ]
  },
  {
   "cell_type": "code",
   "execution_count": null,
   "id": "8aad02d5",
   "metadata": {},
   "outputs": [],
   "source": [
    "print(model)"
   ]
  },
  {
   "cell_type": "markdown",
   "id": "1f2d5a36",
   "metadata": {},
   "source": [
    "We can get a first solution which respect the constraint (but of course is not optimal) by not taking any item.\n",
    "\n",
    "In the following representation of a solution:\n",
    "- \"Value\" is the aggregated values of the taken items, \n",
    "- \"Weight\" is the aggregated weight of the taken items, which should respect the knapsack capacity constraint\n",
    "- \"Taken\" is a list of number of items taken for each type. For instance [0, 1, 0, ...] means that\n",
    "  - item 0 is not taken\n",
    "  - item 1 is taken\n",
    "  - item 2 is not taken\n",
    "  - ..."
   ]
  },
  {
   "cell_type": "code",
   "execution_count": null,
   "id": "b4a33e95",
   "metadata": {},
   "outputs": [],
   "source": [
    "solution = model.get_dummy_solution()\n",
    "print(solution)"
   ]
  },
  {
   "cell_type": "markdown",
   "id": "dda53516",
   "metadata": {},
   "source": [
    "## Solve"
   ]
  },
  {
   "cell_type": "markdown",
   "id": "cc242754",
   "metadata": {},
   "source": [
    "We can get the list of solvers compatible with this model."
   ]
  },
  {
   "cell_type": "code",
   "execution_count": null,
   "id": "15c6e128",
   "metadata": {},
   "outputs": [],
   "source": [
    "look_for_solver(model)"
   ]
  },
  {
   "cell_type": "markdown",
   "id": "5a2928fa",
   "metadata": {},
   "source": [
    "### Greedy heuristic\n",
    "\n",
    "The first solver we try here is the greedy solver which is very fast but sub-optimal. The solution it will find is not necessarily the best possible solution, but it will respect the constraints.\n",
    "\n",
    "The greedy method consists in sorting the items by density which is defined as $\\frac{\\text{value}}{\\text{weight}}$ and trying to fill the knapsack starting by the denser items. We stop when further items cannot respect the capacity constraint."
   ]
  },
  {
   "cell_type": "markdown",
   "id": "f6dbc6a6",
   "metadata": {},
   "source": [
    "We first intialize the solver."
   ]
  },
  {
   "cell_type": "code",
   "execution_count": null,
   "id": "e4433a96",
   "metadata": {},
   "outputs": [],
   "source": [
    "greedy_solver = GreedyBest(knapsack_model=model)"
   ]
  },
  {
   "cell_type": "markdown",
   "id": "fad07445",
   "metadata": {},
   "source": [
    "We run it."
   ]
  },
  {
   "cell_type": "code",
   "execution_count": null,
   "id": "59db1888",
   "metadata": {},
   "outputs": [],
   "source": [
    "results_greedy = greedy_solver.solve()"
   ]
  },
  {
   "cell_type": "markdown",
   "id": "e8eac3c8",
   "metadata": {},
   "source": [
    "We retrieve and display the best solution found by the greedy solver."
   ]
  },
  {
   "cell_type": "code",
   "execution_count": null,
   "id": "01dc74d6",
   "metadata": {},
   "outputs": [],
   "source": [
    "print(results_greedy.get_best_solution())"
   ]
  },
  {
   "cell_type": "markdown",
   "id": "1bff9dc2",
   "metadata": {},
   "source": [
    "Different KPI of the solution are printed but you can retrieve them by calling the `evaluate` function of the knapsack problem:"
   ]
  },
  {
   "cell_type": "code",
   "execution_count": null,
   "id": "3565924e",
   "metadata": {},
   "outputs": [],
   "source": [
    "kpis = model.evaluate(results_greedy.get_best_solution())\n",
    "print(kpis)"
   ]
  },
  {
   "cell_type": "markdown",
   "id": "4c5705e2",
   "metadata": {},
   "source": [
    "### Mixed-integer linear programming (MILP)\n",
    "\n",
    "[Linear programming (LP)](https://en.wikipedia.org/wiki/Linear_programming) is a powerful tool to optimize a mathematical model where constraints and objective functions are all linear based. \n",
    "\n",
    "Mixed Integer linear programming is a special LP model where a given subset of variables have to take integer values, which makes it a **combinatorial** optimization problem, generally NP-Hard.\n",
    "\n",
    "However using LP relaxations and [Branch and bound](https://en.wikipedia.org/wiki/Branch_and_bound) methods, solving discrete optimization problems using MILP solvers is often very efficient, which is the case for the highly linear problem that is knapsack."
   ]
  },
  {
   "cell_type": "markdown",
   "id": "0123c108",
   "metadata": {},
   "source": [
    "Linear formulation of knapsack is pretty straightforward: \n",
    "\n",
    "$X_{opt}=argmax(V.x)\\; s.t \\; W.x\\leq C \\;and \\; x\\in \\{0, 1\\}^N$ where $V$ is the value vector, $W$ is the weight vector, $C$ is the capacity of the knapsack."
   ]
  },
  {
   "cell_type": "markdown",
   "id": "72a9c241",
   "metadata": {},
   "source": [
    "#### COIN-OR Branch-and-Cut solver\n",
    "\n",
    "We will use here a solver which is a wrap around CBC solver of [mip python library](https://python-mip.readthedocs.io/en/latest/intro.html), itself a wrap around [COIN-OR Branch-and-Cut solver - CBC](https://github.com/coin-or/Cbc)."
   ]
  },
  {
   "cell_type": "code",
   "execution_count": null,
   "id": "3c3c00f3",
   "metadata": {},
   "outputs": [],
   "source": [
    "lp_solver_cbc = LPKnapsack(knapsack_model=model, milp_solver_name=MilpSolverName.CBC)"
   ]
  },
  {
   "cell_type": "code",
   "execution_count": null,
   "id": "3d601396",
   "metadata": {},
   "outputs": [],
   "source": [
    "params_milp = ParametersMilp(\n",
    "    time_limit=100,\n",
    "    pool_solutions=10000,\n",
    "    mip_gap_abs=0.0001,\n",
    "    mip_gap=0.001,\n",
    "    retrieve_all_solution=False,\n",
    "    n_solutions_max=10000,\n",
    ")\n",
    "results_cbc = lp_solver_cbc.solve(parameters_milp=params_milp)"
   ]
  },
  {
   "cell_type": "code",
   "execution_count": null,
   "id": "511f1d03",
   "metadata": {},
   "outputs": [],
   "source": [
    "print(results_cbc.get_best_solution())"
   ]
  },
  {
   "cell_type": "markdown",
   "id": "766676ab",
   "metadata": {},
   "source": [
    "#### Use another MILP solver backend:  Gurobi  (optional)\n",
    "\n",
    "If you have a license for [gurobi](https://www.gurobi.com/) which is a powerful commercial engine, you can also use it to solve the knapsack problem. \n",
    "\n",
    "Please uncomment the next cell, if you want to do so."
   ]
  },
  {
   "cell_type": "raw",
   "id": "d207ac79",
   "metadata": {},
   "source": [
    "lp_solver_gurobi = LPKnapsack(knapsack_model=model, milp_solver_name=MilpSolverName.GRB)\n",
    "params_milp = ParametersMilp(\n",
    "    time_limit=100,\n",
    "    pool_solutions=10000,\n",
    "    mip_gap_abs=0.0001,\n",
    "    mip_gap=0.001,\n",
    "    retrieve_all_solution=False,\n",
    "    n_solutions_max=10000,\n",
    ")\n",
    "results_gurobi = lp_solver_gurobi.solve(parameters_milp=params_milp)\n",
    "\n",
    "print(results_gurobi.get_best_solution())"
   ]
  },
  {
   "cell_type": "markdown",
   "id": "231814ac",
   "metadata": {},
   "source": [
    "### Constraint Programming (CP)\n",
    "\n",
    "[small description needed] \n",
    "\n",
    "We use here the [chuffed](https://github.com/chuffed/chuffed#description) solver which is a state of the art lazy clause solver. "
   ]
  },
  {
   "cell_type": "markdown",
   "id": "b0ec4c91",
   "metadata": {},
   "source": [
    "Here we let the solver run for 50s max before returning the best solution found so far."
   ]
  },
  {
   "cell_type": "code",
   "execution_count": null,
   "id": "fff7e526",
   "metadata": {},
   "outputs": [],
   "source": [
    "cp_solver = CPKnapsackMZN2(knapsack_model=model, cp_solver_name=CPSolverName.CHUFFED)\n",
    "parameters_cp = ParametersCP.default()\n",
    "parameters_cp.time_limit = 50\n",
    "results_cp = cp_solver.solve(parameters_cp)"
   ]
  },
  {
   "cell_type": "code",
   "execution_count": null,
   "id": "05ec0e46",
   "metadata": {},
   "outputs": [],
   "source": [
    "print(results_cp.get_best_solution())"
   ]
  },
  {
   "cell_type": "markdown",
   "id": "e0350e6a",
   "metadata": {},
   "source": [
    "We see that the CP solver get a worse solution than the LP solver, even worse than the greedy solver. But it can be wrapped in a Large Neighborhood Search solver."
   ]
  },
  {
   "cell_type": "markdown",
   "id": "8a0551cc",
   "metadata": {},
   "source": [
    "### Large neighborhood search\n",
    "\n",
    "This is a metaheuristic on top of CP or MILP solvers.\n",
    "\n",
    "[small description needed]\n",
    "\n",
    "We use it here on top of the previous CP chuffed solver."
   ]
  },
  {
   "cell_type": "code",
   "execution_count": null,
   "id": "15418ccb",
   "metadata": {},
   "outputs": [],
   "source": [
    "set_random_seed()\n",
    "\n",
    "params_objective_function = get_default_objective_setup(problem=model)\n",
    "print(params_objective_function)\n",
    "params_cp = ParametersCP.default()\n",
    "params_cp.time_limit = 5\n",
    "params_cp.time_limit_iter0 = 5\n",
    "nb_iteration_lns = 10\n",
    "\n",
    "cp_solver = CPKnapsackMZN2(\n",
    "    model,\n",
    "    cp_solver_name=CPSolverName.CHUFFED,\n",
    "    params_objective_function=params_objective_function,\n",
    ")\n",
    "\n",
    "# initial solution: only 0\n",
    "initial_solution_provider = InitialKnapsackSolution(\n",
    "    problem=model,\n",
    "    initial_method=InitialKnapsackMethod.DUMMY,\n",
    "    params_objective_function=params_objective_function,\n",
    ")\n",
    "print(initial_solution_provider)\n",
    "\n",
    "# constraint handler\n",
    "constraint_handler = ConstraintHandlerKnapsack(problem=model, fraction_to_fix=0.8)\n",
    "\n",
    "# solve\n",
    "lns_solver = LNS_CP(\n",
    "    problem=model,\n",
    "    cp_solver=cp_solver,\n",
    "    initial_solution_provider=initial_solution_provider,\n",
    "    constraint_handler=constraint_handler,\n",
    "    params_objective_function=params_objective_function,\n",
    ")\n",
    "result_lns = lns_solver.solve_lns(\n",
    "    parameters_cp=params_cp, nb_iteration_lns=nb_iteration_lns\n",
    ")"
   ]
  },
  {
   "cell_type": "code",
   "execution_count": null,
   "id": "85e54a3c",
   "metadata": {},
   "outputs": [],
   "source": [
    "print(result_lns.get_best_solution())"
   ]
  },
  {
   "cell_type": "markdown",
   "id": "93e7be0b",
   "metadata": {},
   "source": [
    "We remark that the result is better than with solely the CP solver even though we pass at most the same total time in a CP solver."
   ]
  },
  {
   "cell_type": "markdown",
   "id": "f36779d2",
   "metadata": {},
   "source": [
    "*NB: even setting random seed give different results at each run ...*"
   ]
  },
  {
   "cell_type": "markdown",
   "id": "02f78f32",
   "metadata": {},
   "source": [
    "Starting from a greedy solution ensures improving the greedy result (even just a little)."
   ]
  },
  {
   "cell_type": "code",
   "execution_count": null,
   "id": "e1c8167c",
   "metadata": {},
   "outputs": [],
   "source": [
    "set_random_seed()\n",
    "\n",
    "params_objective_function = get_default_objective_setup(problem=model)\n",
    "print(params_objective_function)\n",
    "params_cp = ParametersCP.default()\n",
    "params_cp.time_limit = 5\n",
    "params_cp.time_limit_iter0 = 5\n",
    "nb_iteration_lns = 10\n",
    "\n",
    "cp_solver = CPKnapsackMZN2(\n",
    "    model,\n",
    "    cp_solver_name=CPSolverName.CHUFFED,\n",
    "    params_objective_function=params_objective_function,\n",
    ")\n",
    "\n",
    "# initial solution: only 0\n",
    "initial_solution_provider = InitialKnapsackSolution(\n",
    "    problem=model,\n",
    "    initial_method=InitialKnapsackMethod.GREEDY,\n",
    "    params_objective_function=params_objective_function,\n",
    ")\n",
    "print(initial_solution_provider)\n",
    "\n",
    "# constraint handler\n",
    "constraint_handler = ConstraintHandlerKnapsack(problem=model, fraction_to_fix=0.8)\n",
    "\n",
    "# solve\n",
    "lns_solver = LNS_CP(\n",
    "    problem=model,\n",
    "    cp_solver=cp_solver,\n",
    "    initial_solution_provider=initial_solution_provider,\n",
    "    constraint_handler=constraint_handler,\n",
    "    params_objective_function=params_objective_function,\n",
    ")\n",
    "result_lns = lns_solver.solve_lns(\n",
    "    parameters_cp=params_cp, nb_iteration_lns=nb_iteration_lns\n",
    ")"
   ]
  },
  {
   "cell_type": "code",
   "execution_count": null,
   "id": "f3039d06",
   "metadata": {},
   "outputs": [],
   "source": [
    "print(result_lns.get_best_solution())"
   ]
  },
  {
   "cell_type": "markdown",
   "id": "2a2f1fa2",
   "metadata": {},
   "source": [
    "## Conclusion\n",
    "\n",
    "[text needed]"
   ]
  }
 ],
 "metadata": {
  "kernelspec": {
   "display_name": "Python 3 (ipykernel)",
   "language": "python",
   "name": "python3"
  },
  "language_info": {
   "codemirror_mode": {
    "name": "ipython",
    "version": 3
   },
   "file_extension": ".py",
   "mimetype": "text/x-python",
   "name": "python",
   "nbconvert_exporter": "python",
   "pygments_lexer": "ipython3",
   "version": "3.8.11"
  },
  "toc": {
   "base_numbering": 1,
   "nav_menu": {},
   "number_sections": true,
   "sideBar": true,
   "skip_h1_title": true,
   "title_cell": "Table of Contents",
   "title_sidebar": "Contents",
   "toc_cell": false,
   "toc_position": {
    "height": "calc(100% - 180px)",
    "left": "10px",
    "top": "150px",
    "width": "366px"
   },
   "toc_section_display": true,
   "toc_window_display": true
  }
 },
 "nbformat": 4,
 "nbformat_minor": 5
}
