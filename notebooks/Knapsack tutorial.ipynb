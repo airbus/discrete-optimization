{
 "cells": [
  {
   "cell_type": "markdown",
   "id": "1d78f810",
   "metadata": {},
   "source": [
    "# Knapsack problem\n",
    "This is a very common combinatorial optimization problem where you are given a knapsack of a given weight capacity $C$ and a bunch of items with values and weight. The goal is to fill the knapsack with the best aggregated value, respecting the weight constraint.\n",
    "\n",
    "![knapsack problem illustration](https://upload.wikimedia.org/wikipedia/commons/f/fd/Knapsack.svg \"Image from wikipedia: https://commons.wikimedia.org/wiki/File:Knapsack.svg\").\n",
    "\n",
    "We handle here the *0-1 knapsack problem* where each item can only be taken once.\n",
    "\n",
    "Many different optimization approach can be tested on the combinatorial problem, we'll see a few during the notebook:\n",
    "\n",
    "- [Greedy heuristic methods](#Greedy-heuristic)\n",
    "- [Mixed Integer Linear Programming (MILP)](#Mixed-integer-linear-programming)\n",
    "- [Constraint Programming (CP)](#Constraint-Programming)\n",
    "- [Large neighborhood search (LNS)](#Large-neighborhood-search), a metaheuristic on top of CP or MILP"
   ]
  },
  {
   "cell_type": "markdown",
   "id": "57f968f2",
   "metadata": {},
   "source": [
    "## Prerequisites\n",
    "\n",
    "Concerning the python kernel to use for this notebook:\n",
    "- If running locally, be sure to use an environment with discrete-optimization and minizinc.\n",
    "- If running on colab, the next cell does it for you.\n",
    "- If running on binder, the environment should be ready.\n"
   ]
  },
  {
   "cell_type": "code",
   "execution_count": null,
   "id": "222f6a8f-d0e9-4e95-8cf5-c5882747e710",
   "metadata": {},
   "outputs": [],
   "source": [
    "# On Colab: install the library\n",
    "on_colab = \"google.colab\" in str(get_ipython())\n",
    "if on_colab:\n",
    "    import importlib\n",
    "    import os\n",
    "    import sys  # noqa: avoid having this import removed by pycln\n",
    "\n",
    "    !{sys.executable} -m pip install -U pip\n",
    "\n",
    "    # uninstall google protobuf conflicting with ray and sb3\n",
    "    ! pip uninstall -y protobuf\n",
    "\n",
    "    # install dev version for dev doc, or release version for release doc\n",
    "    !{sys.executable} -m pip install git+https://github.com/airbus/discrete-optimization@master#egg=discrete-optimization\n",
    "\n",
    "    # be sure to load the proper cffi (downgraded compared to the one initially on colab)\n",
    "    import cffi\n",
    "\n",
    "    importlib.reload(cffi)\n",
    "\n",
    "    # install and configure minizinc\n",
    "    !curl -o minizinc.AppImage -L https://github.com/MiniZinc/MiniZincIDE/releases/download/2.6.3/MiniZincIDE-2.6.3-x86_64.AppImage\n",
    "    !chmod +x minizinc.AppImage\n",
    "    !./minizinc.AppImage --appimage-extract\n",
    "    os.environ[\"PATH\"] = f\"{os.getcwd()}/squashfs-root/usr/bin/:{os.environ['PATH']}\"\n",
    "    os.environ[\"LD_LIBRARY_PATH\"] = (\n",
    "        f\"{os.getcwd()}/squashfs-root/usr/lib/:{os.environ['LD_LIBRARY_PATH']}\"\n",
    "    )"
   ]
  },
  {
   "cell_type": "markdown",
   "id": "67aef81b",
   "metadata": {},
   "source": [
    "### Imports"
   ]
  },
  {
   "cell_type": "code",
   "execution_count": null,
   "id": "1d9d36f5",
   "metadata": {},
   "outputs": [],
   "source": [
    "import logging\n",
    "import random\n",
    "\n",
    "import nest_asyncio\n",
    "import numpy as np\n",
    "\n",
    "from discrete_optimization.datasets import fetch_data_from_coursera\n",
    "from discrete_optimization.generic_tools.cp_tools import CPSolverName, ParametersCP\n",
    "from discrete_optimization.generic_tools.do_problem import get_default_objective_setup\n",
    "from discrete_optimization.generic_tools.lns_cp import LNS_CP\n",
    "from discrete_optimization.generic_tools.lp_tools import MilpSolverName, ParametersMilp\n",
    "from discrete_optimization.knapsack.knapsack_parser import (\n",
    "    get_data_available,\n",
    "    parse_file,\n",
    ")\n",
    "from discrete_optimization.knapsack.knapsack_solvers import look_for_solver\n",
    "from discrete_optimization.knapsack.solvers.cp_solvers import CPKnapsackMZN2\n",
    "from discrete_optimization.knapsack.solvers.greedy_solvers import GreedyBest\n",
    "from discrete_optimization.knapsack.solvers.knapsack_lns_cp_solver import (\n",
    "    ConstraintHandlerKnapsack,\n",
    ")\n",
    "from discrete_optimization.knapsack.solvers.knapsack_lns_solver import (\n",
    "    InitialKnapsackMethod,\n",
    "    InitialKnapsackSolution,\n",
    ")\n",
    "from discrete_optimization.knapsack.solvers.lp_solvers import LPKnapsack\n",
    "\n",
    "# patch asyncio so that applications using async functions can run in jupyter\n",
    "nest_asyncio.apply()\n",
    "\n",
    "# set logging level\n",
    "logging.basicConfig(level=logging.INFO)"
   ]
  },
  {
   "cell_type": "markdown",
   "id": "e2cb9e88",
   "metadata": {},
   "source": [
    "### Download datasets\n",
    "\n",
    "If not yet available, we import the datasets from [coursera](https://github.com/discreteoptimization/assignment)."
   ]
  },
  {
   "cell_type": "code",
   "execution_count": null,
   "id": "f4df9bb9",
   "metadata": {},
   "outputs": [],
   "source": [
    "needed_datasets = [\"ks_500_0\"]\n",
    "download_needed = False\n",
    "try:\n",
    "    files_available_paths = get_data_available()\n",
    "    for dataset in needed_datasets:\n",
    "        if len([f for f in files_available_paths if dataset in f]) == 0:\n",
    "            download_needed = True\n",
    "            break\n",
    "except:\n",
    "    download_needed = True\n",
    "\n",
    "if download_needed:\n",
    "    fetch_data_from_coursera()"
   ]
  },
  {
   "cell_type": "markdown",
   "id": "9db3b70d",
   "metadata": {},
   "source": [
    "We will use the dataset [ks_500_0](https://github.com/discreteoptimization/assignment/blob/master/knapsack/data/ks_500_0) where we have 500 items at hand to put in the knapsack."
   ]
  },
  {
   "cell_type": "markdown",
   "id": "a6ac38b0",
   "metadata": {},
   "source": [
    "### Set random seed\n",
    "\n",
    "If reproducible results are wanted, we can fix the random seed."
   ]
  },
  {
   "cell_type": "code",
   "execution_count": null,
   "id": "b68de4dd",
   "metadata": {},
   "outputs": [],
   "source": [
    "def set_random_seed(seed=42):\n",
    "    random.seed(seed)\n",
    "    np.random.seed(seed)\n",
    "\n",
    "\n",
    "set_random_seed()"
   ]
  },
  {
   "cell_type": "markdown",
   "id": "e226b613",
   "metadata": {},
   "source": [
    "## Parse input data"
   ]
  },
  {
   "cell_type": "markdown",
   "id": "3dfa73d4",
   "metadata": {},
   "source": [
    "We parse the dataset file to load it as a discrete-optimization problem. In this case we get a `discrete_optimization.knapsack.knapsack_model.KnapsackModel`."
   ]
  },
  {
   "cell_type": "code",
   "execution_count": null,
   "id": "499a6964",
   "metadata": {},
   "outputs": [],
   "source": [
    "files_available_paths = get_data_available()\n",
    "model_file = [f for f in files_available_paths if \"ks_500_0\" in f][0]\n",
    "model = parse_file(model_file, force_recompute_values=True)\n",
    "print(type(model))"
   ]
  },
  {
   "cell_type": "markdown",
   "id": "6a60783e",
   "metadata": {},
   "source": [
    "Here is a representation of the corresponding model."
   ]
  },
  {
   "cell_type": "code",
   "execution_count": null,
   "id": "8aad02d5",
   "metadata": {},
   "outputs": [],
   "source": [
    "print(model)"
   ]
  },
  {
   "cell_type": "markdown",
   "id": "1f2d5a36",
   "metadata": {},
   "source": [
    "We can get a first solution which respect the constraint (but of course is not optimal) by not taking any item.\n",
    "\n",
    "In the following representation of a solution:\n",
    "- \"Value\" is the aggregated values of the taken items, \n",
    "- \"Weight\" is the aggregated weight of the taken items, which should respect the knapsack capacity constraint\n",
    "- \"Taken\" is a list of number of items taken for each type. For instance [0, 1, 0, ...] means that\n",
    "  - item 0 is not taken\n",
    "  - item 1 is taken\n",
    "  - item 2 is not taken\n",
    "  - ..."
   ]
  },
  {
   "cell_type": "code",
   "execution_count": null,
   "id": "b4a33e95",
   "metadata": {},
   "outputs": [],
   "source": [
    "solution = model.get_dummy_solution()\n",
    "print(solution)"
   ]
  },
  {
   "cell_type": "markdown",
   "id": "dda53516",
   "metadata": {},
   "source": [
    "## Solve"
   ]
  },
  {
   "cell_type": "markdown",
   "id": "cc242754",
   "metadata": {},
   "source": [
    "We can get the list of solvers compatible with this model."
   ]
  },
  {
   "cell_type": "code",
   "execution_count": null,
   "id": "15c6e128",
   "metadata": {},
   "outputs": [],
   "source": [
    "look_for_solver(model)"
   ]
  },
  {
   "cell_type": "markdown",
   "id": "5a2928fa",
   "metadata": {},
   "source": [
    "### Greedy heuristic\n",
    "\n",
    "The first solver we try here is the greedy solver which is very fast but sub-optimal. The solution it will find is not necessarily the best possible solution, but it will respect the constraints.\n",
    "\n",
    "The greedy method consists in sorting the items by density which is defined as $\\frac{\\text{value}}{\\text{weight}}$ and trying to fill the knapsack starting by the denser items. We stop when further items cannot respect the capacity constraint. This heuristic makes a lot of sense because in the case where we would allow <b>fractional</b> decision variable it would actually lead to the optimal solution."
   ]
  },
  {
   "cell_type": "markdown",
   "id": "f6dbc6a6",
   "metadata": {},
   "source": [
    "We first intialize the solver."
   ]
  },
  {
   "cell_type": "code",
   "execution_count": null,
   "id": "e4433a96",
   "metadata": {},
   "outputs": [],
   "source": [
    "greedy_solver = GreedyBest(problem=model)"
   ]
  },
  {
   "cell_type": "markdown",
   "id": "fad07445",
   "metadata": {},
   "source": [
    "We run it."
   ]
  },
  {
   "cell_type": "code",
   "execution_count": null,
   "id": "59db1888",
   "metadata": {},
   "outputs": [],
   "source": [
    "results_greedy = greedy_solver.solve()"
   ]
  },
  {
   "cell_type": "markdown",
   "id": "e8eac3c8",
   "metadata": {},
   "source": [
    "We retrieve and display the best solution found by the greedy solver."
   ]
  },
  {
   "cell_type": "code",
   "execution_count": null,
   "id": "01dc74d6",
   "metadata": {},
   "outputs": [],
   "source": [
    "print(results_greedy.get_best_solution())"
   ]
  },
  {
   "cell_type": "markdown",
   "id": "1bff9dc2",
   "metadata": {},
   "source": [
    "Different KPI of the solution are printed but you can retrieve them by calling the `evaluate` function of the knapsack problem.\n",
    "You can also check if the solution satisfy the constraints of the problem."
   ]
  },
  {
   "cell_type": "code",
   "execution_count": null,
   "id": "3565924e",
   "metadata": {},
   "outputs": [],
   "source": [
    "kpis = model.evaluate(results_greedy.get_best_solution())\n",
    "satisfy = model.satisfy(results_greedy.get_best_solution())\n",
    "print(kpis)\n",
    "print(\"Solution Satisfy constraints : \", satisfy)"
   ]
  },
  {
   "cell_type": "markdown",
   "id": "6afa2a1d",
   "metadata": {},
   "source": [
    "'weight_violation' is a kpi storing the weight quantity exceeding the knapsack capacity. Here we can verify that we get a satisfiable solution with 'weight_violation'==0."
   ]
  },
  {
   "cell_type": "markdown",
   "id": "4c5705e2",
   "metadata": {},
   "source": [
    "### Mixed-integer linear programming\n",
    "\n",
    "[Linear programming (LP)](https://en.wikipedia.org/wiki/Linear_programming) is a powerful tool to optimize a mathematical model where constraints and objective functions are all linear based. \n",
    "\n",
    "Mixed Integer linear programming (MILP) is a special LP model where a given subset of variables have to take integer values, which makes it a **combinatorial** optimization problem, generally NP-Hard.\n",
    "\n",
    "However using LP relaxations and [Branch and bound](https://en.wikipedia.org/wiki/Branch_and_bound) methods, solving discrete optimization problems using MILP solvers is often very efficient, which is the case for the highly linear problem that is knapsack."
   ]
  },
  {
   "cell_type": "markdown",
   "id": "0123c108",
   "metadata": {},
   "source": [
    "Linear formulation of knapsack is pretty straightforward: \n",
    "\n",
    "$X_{opt}=argmax(V.x)\\; s.t \\; W.x\\leq C \\;and \\; x\\in \\{0, 1\\}^N$ where $V$ is the value vector, $W$ is the weight vector, $C$ is the capacity of the knapsack."
   ]
  },
  {
   "cell_type": "markdown",
   "id": "72a9c241",
   "metadata": {},
   "source": [
    "#### COIN-OR Branch-and-Cut solver\n",
    "\n",
    "We will use here a solver which is a wrap around CBC solver of [mip python library](https://python-mip.readthedocs.io/en/latest/intro.html), itself a wrap around [COIN-OR Branch-and-Cut solver - CBC](https://github.com/coin-or/Cbc)."
   ]
  },
  {
   "cell_type": "code",
   "execution_count": null,
   "id": "3c3c00f3",
   "metadata": {},
   "outputs": [],
   "source": [
    "lp_solver_cbc = LPKnapsack(problem=model, milp_solver_name=MilpSolverName.CBC)"
   ]
  },
  {
   "cell_type": "code",
   "execution_count": null,
   "id": "3d601396",
   "metadata": {},
   "outputs": [],
   "source": [
    "params_milp = ParametersMilp(\n",
    "    time_limit=100,\n",
    "    pool_solutions=10000,\n",
    "    mip_gap_abs=0.0001,\n",
    "    mip_gap=0.001,\n",
    "    retrieve_all_solution=False,\n",
    "    n_solutions_max=10000,\n",
    ")\n",
    "results_cbc = lp_solver_cbc.solve(parameters_milp=params_milp)"
   ]
  },
  {
   "cell_type": "code",
   "execution_count": null,
   "id": "511f1d03",
   "metadata": {},
   "outputs": [],
   "source": [
    "print(results_cbc.get_best_solution())\n",
    "print(model.evaluate(results_cbc.get_best_solution()))"
   ]
  },
  {
   "cell_type": "markdown",
   "id": "766676ab",
   "metadata": {},
   "source": [
    "#### Use another MILP solver backend:  Gurobi  (optional)\n",
    "\n",
    "If you have a license for [gurobi](https://www.gurobi.com/) which is a powerful commercial engine, you can also use it to solve the knapsack problem. \n",
    "\n",
    "Please uncomment the next cell, if you want to do so."
   ]
  },
  {
   "cell_type": "raw",
   "id": "d207ac79",
   "metadata": {},
   "source": [
    "lp_solver_gurobi = LPKnapsack(problem=model, milp_solver_name=MilpSolverName.GRB)\n",
    "params_milp = ParametersMilp(\n",
    "    time_limit=100,\n",
    "    pool_solutions=10000,\n",
    "    mip_gap_abs=0.0001,\n",
    "    mip_gap=0.001,\n",
    "    retrieve_all_solution=False,\n",
    "    n_solutions_max=10000,\n",
    ")\n",
    "results_gurobi = lp_solver_gurobi.solve(parameters_milp=params_milp)\n",
    "\n",
    "print(results_gurobi.get_best_solution())"
   ]
  },
  {
   "cell_type": "markdown",
   "id": "231814ac",
   "metadata": {},
   "source": [
    "### Constraint Programming\n",
    "\n",
    "One of the main class of methods to solve discrete optimization problem is Constraint programming [(CP)](https://en.wikipedia.org/wiki/Constraint_programming). CP solvers explore the state variables and propagate constraints in a clever way. Using constraint programming, users declaratively state the constraints on the feasible solutions for a set of decision variables. Constraints specify the properties of a solution to be found.\n",
    "In discrete-optimization library, [minizinc](https://www.minizinc.org/) declarative language and its [python api](https://minizinc-python.readthedocs.io/en/latest/) is used extensively. However it is quite easy to use other modeling library such as [Cpmpy](https://github.com/CPMpy/cpmpy/tree/master/cpmpy) in the future.\n",
    "Some constraint programming models are stored in discrete_optimization/knapsack/minizinc folder.\n",
    "\n",
    "In this notebook, we'll use the [chuffed](https://github.com/chuffed/chuffed#description) solver which is a state of the art lazy clause solver. "
   ]
  },
  {
   "cell_type": "markdown",
   "id": "b0ec4c91",
   "metadata": {},
   "source": [
    "Here we let the solver run for 50s max before returning the best solution found so far."
   ]
  },
  {
   "cell_type": "code",
   "execution_count": null,
   "id": "fff7e526",
   "metadata": {},
   "outputs": [],
   "source": [
    "cp_solver = CPKnapsackMZN2(problem=model, cp_solver_name=CPSolverName.CHUFFED)\n",
    "parameters_cp = ParametersCP.default()\n",
    "parameters_cp.time_limit = 50\n",
    "results_cp = cp_solver.solve(parameters_cp=parameters_cp)"
   ]
  },
  {
   "cell_type": "code",
   "execution_count": null,
   "id": "05ec0e46",
   "metadata": {},
   "outputs": [],
   "source": [
    "print(results_cp.get_best_solution())"
   ]
  },
  {
   "cell_type": "markdown",
   "id": "e0350e6a",
   "metadata": {},
   "source": [
    "We see that the CP solver get a worse solution than the LP solver, even worse than the greedy solver. But it can be wrapped in a Large Neighborhood Search solver."
   ]
  },
  {
   "cell_type": "markdown",
   "id": "8a0551cc",
   "metadata": {},
   "source": [
    "### Large neighborhood search\n",
    "LNS is a iterative metaheuristic method aiming at improving the quality of solution by \"destroying\" and \"repairing\" current solution. Implementation of LNS is discrete-optimization is quite simple. To have a LNS working one needs : \n",
    "- One algorithm to provide an initial solution of the problem\n",
    "- CP or LP model for the problem to solve\n",
    "- Constraint Builder object : change the problem to solve in a given iteration (typically a set of variable to current values) (\"destroy\")\n",
    "- post process object : from an iteration solving, rebuild a solution object for the original problem. (\"repair\")\n",
    "\n",
    "To make it concrete below is a LNS+CP example for knapsack."
   ]
  },
  {
   "cell_type": "code",
   "execution_count": null,
   "id": "15418ccb",
   "metadata": {},
   "outputs": [],
   "source": [
    "set_random_seed()\n",
    "params_objective_function = get_default_objective_setup(problem=model)\n",
    "params_cp = ParametersCP.default()\n",
    "params_cp.time_limit = 5\n",
    "params_cp.time_limit_iter0 = 5\n",
    "nb_iteration_lns = 10\n",
    "\n",
    "# Base CP solver.\n",
    "cp_solver = CPKnapsackMZN2(\n",
    "    model,\n",
    "    cp_solver_name=CPSolverName.CHUFFED,\n",
    "    params_objective_function=params_objective_function,\n",
    ")\n",
    "\n",
    "# initial solution: DUMMY corresponds to a starting solution filled with 0!\n",
    "initial_solution_provider = InitialKnapsackSolution(\n",
    "    problem=model,\n",
    "    initial_method=InitialKnapsackMethod.DUMMY,\n",
    "    params_objective_function=params_objective_function,\n",
    ")\n",
    "\n",
    "# constraint handler: will fix 80% of variables to current solution.\n",
    "constraint_handler = ConstraintHandlerKnapsack(problem=model, fraction_to_fix=0.8)\n",
    "\n",
    "# LNS Solver.\n",
    "lns_solver = LNS_CP(\n",
    "    problem=model,\n",
    "    cp_solver=cp_solver,\n",
    "    initial_solution_provider=initial_solution_provider,\n",
    "    constraint_handler=constraint_handler,\n",
    "    params_objective_function=params_objective_function,\n",
    ")\n",
    "result_lns = lns_solver.solve_lns(\n",
    "    parameters_cp=params_cp, nb_iteration_lns=nb_iteration_lns, max_time_seconds=100\n",
    ")"
   ]
  },
  {
   "cell_type": "code",
   "execution_count": null,
   "id": "85e54a3c",
   "metadata": {},
   "outputs": [],
   "source": [
    "print(result_lns.get_best_solution())"
   ]
  },
  {
   "cell_type": "markdown",
   "id": "93e7be0b",
   "metadata": {},
   "source": [
    "We remark that the result is better than with solely the CP solver even though we pass at most the same total time in a CP solver."
   ]
  },
  {
   "cell_type": "markdown",
   "id": "f36779d2",
   "metadata": {},
   "source": [
    "*NB: even setting random seed give different results at each run ...*"
   ]
  },
  {
   "cell_type": "markdown",
   "id": "d66ffc6d",
   "metadata": {},
   "source": [
    "We can plot the evolution of the objective function through LNS iterations to illustrate how we are improving the value of knapsack. "
   ]
  },
  {
   "cell_type": "code",
   "execution_count": null,
   "id": "7855357e",
   "metadata": {},
   "outputs": [],
   "source": [
    "import matplotlib.pyplot as plt\n",
    "\n",
    "plt.plot(\n",
    "    [x[1] for x in result_lns.list_solution_fits][1:]\n",
    ")  # we don't plot the first solution (0 value)."
   ]
  },
  {
   "cell_type": "markdown",
   "id": "3aebd277",
   "metadata": {},
   "source": [
    "#### Starting from a greedy solution."
   ]
  },
  {
   "cell_type": "code",
   "execution_count": null,
   "id": "e1c8167c",
   "metadata": {},
   "outputs": [],
   "source": [
    "set_random_seed()\n",
    "\n",
    "params_objective_function = get_default_objective_setup(problem=model)\n",
    "print(params_objective_function)\n",
    "params_cp = ParametersCP.default()\n",
    "params_cp.time_limit = 5\n",
    "params_cp.time_limit_iter0 = 5\n",
    "nb_iteration_lns = 10\n",
    "\n",
    "cp_solver = CPKnapsackMZN2(\n",
    "    model,\n",
    "    cp_solver_name=CPSolverName.CHUFFED,\n",
    "    params_objective_function=params_objective_function,\n",
    ")\n",
    "\n",
    "# initial solution: greedy one, way better than the 0 filled one :)\n",
    "initial_solution_provider = InitialKnapsackSolution(\n",
    "    problem=model,\n",
    "    initial_method=InitialKnapsackMethod.GREEDY,\n",
    "    params_objective_function=params_objective_function,\n",
    ")\n",
    "print(initial_solution_provider)\n",
    "\n",
    "# constraint handler\n",
    "constraint_handler = ConstraintHandlerKnapsack(problem=model, fraction_to_fix=0.8)\n",
    "\n",
    "# solve\n",
    "lns_solver = LNS_CP(\n",
    "    problem=model,\n",
    "    cp_solver=cp_solver,\n",
    "    initial_solution_provider=initial_solution_provider,\n",
    "    constraint_handler=constraint_handler,\n",
    "    params_objective_function=params_objective_function,\n",
    ")\n",
    "result_lns = lns_solver.solve_lns(\n",
    "    parameters_cp=params_cp, nb_iteration_lns=nb_iteration_lns, max_time_seconds=100\n",
    ")"
   ]
  },
  {
   "cell_type": "code",
   "execution_count": null,
   "id": "f3039d06",
   "metadata": {},
   "outputs": [],
   "source": [
    "print(result_lns.get_best_solution())\n",
    "plt.plot([x[1] for x in result_lns.list_solution_fits])"
   ]
  },
  {
   "cell_type": "markdown",
   "id": "5f3bec74",
   "metadata": {},
   "source": [
    "Starting from a greedy solution ensures improving the greedy result (even just a little). LNS should be run further to improve more the greedy solution."
   ]
  },
  {
   "cell_type": "markdown",
   "id": "2a2f1fa2",
   "metadata": {},
   "source": [
    "## Conclusion\n",
    "\n",
    "In this notebook, you had an introduction on the main philosophy of discrete-optimization library : \n",
    "- Problem and Solution definition as python object with a simple api : \n",
    "    - problem.evaluate/satisfy(solution) functions\n",
    "- Solver API : \n",
    "    - take usually a Problem in its constructor methods\n",
    "    - implements a solve(params) function, returning a ResultStorage object possibly containing intermediate solutions\n",
    "- Examples of solvers : for knapsack and actually all implemented optimization templates you'll have access to : \n",
    "    - greedy methods to compute fast solution, sometimes of good quality.\n",
    "    - linear programming models/solvers\n",
    "    - constraint programming models/solvers\n",
    "    - large neighborhood search\n",
    "    \n",
    "In future notebooks, you will meet other methods adding new tools in our pocket, such as local search methods or genetic algorithms."
   ]
  }
 ],
 "metadata": {
  "kernelspec": {
   "display_name": "Python 3 (ipykernel)",
   "language": "python",
   "name": "python3"
  },
  "language_info": {
   "codemirror_mode": {
    "name": "ipython",
    "version": 3
   },
   "file_extension": ".py",
   "mimetype": "text/x-python",
   "name": "python",
   "nbconvert_exporter": "python",
   "pygments_lexer": "ipython3",
   "version": "3.8.18"
  },
  "toc": {
   "base_numbering": 1,
   "nav_menu": {},
   "number_sections": true,
   "sideBar": true,
   "skip_h1_title": true,
   "title_cell": "Table of Contents",
   "title_sidebar": "Contents",
   "toc_cell": false,
   "toc_position": {
    "height": "calc(100% - 180px)",
    "left": "10px",
    "top": "150px",
    "width": "366px"
   },
   "toc_section_display": true,
   "toc_window_display": true
  }
 },
 "nbformat": 4,
 "nbformat_minor": 5
}
