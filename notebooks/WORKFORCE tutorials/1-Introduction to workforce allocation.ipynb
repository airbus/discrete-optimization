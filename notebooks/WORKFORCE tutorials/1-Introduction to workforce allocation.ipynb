{
 "cells": [
  {
   "cell_type": "markdown",
   "metadata": {},
   "source": [
    "# 1. Introduction to the Workforce Allocation Problem (WAP)\n",
    "\n",
    "Welcome to this series on the **Workforce Allocation Problem (WAP)**. In this first notebook, we will introduce the problem's core concepts, constraints, and objectives. We'll explore a sample problem instance and build a simple, heuristic-based solution to understand the fundamentals before diving into more advanced optimization techniques in the upcoming notebooks."
   ]
  },
  {
   "cell_type": "markdown",
   "metadata": {},
   "source": [
    "## What is the Workforce Allocation Problem?\n",
    "\n",
    "The Workforce Allocation Problem is a type of assignment and scheduling problem where you need to assign a set of resources (teams) to a set of jobs (tasks) while respecting a variety of constraints. It's a common challenge in workforce management, project planning, and logistics.\n",
    "\n",
    "**Core Entities:**\n",
    "* A set of $N$ **tasks** or **activities**, each with a predefined start time $s_i$ and end time $e_i$.\n",
    "* A set of $M$ **teams** or **resources**, each with its own work calendar defining their windows of availability.\n",
    "\n",
    "**Core Constraints:**\n",
    "* **Unique Assignment:** Each task must be assigned to exactly one team.\n",
    "* **Conflict Constraint:** If two tasks $i$ and $k$ overlap in time (i.e., their time intervals $[s_i, e_i)$ and $[s_k, e_k)$ intersect), they cannot be assigned to the same team.\n",
    "* **Availability Constraint:** A team can only be assigned to a task if it is available for the *entire duration* of that task.\n",
    "* **Compatibility Constraint:** Some tasks may have a restricted list of teams that are qualified to perform them (e.g., due to skill requirements).\n",
    "\n",
    "**Objective:**\n",
    "* The primary objective is typically to find a valid assignment of teams to all tasks that **minimizes the total number of unique teams used**."
   ]
  },
  {
   "cell_type": "markdown",
   "metadata": {},
   "source": [
    "### Prerequisites\n",
    "\n",
    "These notebooks require the `discrete-optimization` library. If you are running this on Google Colab, the following cell will install it for you."
   ]
  },
  {
   "cell_type": "code",
   "execution_count": null,
   "metadata": {},
   "outputs": [],
   "source": [
    "# On Colab: install the library\n",
    "import sys\n",
    "\n",
    "ON_COLAB = \"google.colab\" in sys.modules\n",
    "if ON_COLAB:\n",
    "    !{sys.executable} -m pip install -U pip\n",
    "    !{sys.executable} -m pip install discrete-optimization"
   ]
  },
  {
   "cell_type": "markdown",
   "metadata": {},
   "source": [
    "### Imports"
   ]
  },
  {
   "cell_type": "code",
   "execution_count": null,
   "metadata": {},
   "outputs": [],
   "source": [
    "import logging\n",
    "\n",
    "import networkx as nx\n",
    "\n",
    "from discrete_optimization.datasets import fetch_data_from_cp25\n",
    "from discrete_optimization.workforce.allocation.parser import (\n",
    "    build_allocation_problem_from_scheduling,\n",
    ")\n",
    "\n",
    "# Import necessary classes from the discrete-optimization library\n",
    "from discrete_optimization.workforce.allocation.problem import (\n",
    "    TeamAllocationProblem,\n",
    "    TeamAllocationSolution,\n",
    ")\n",
    "from discrete_optimization.workforce.allocation.utils import plot_allocation_solution\n",
    "from discrete_optimization.workforce.scheduling.parser import (\n",
    "    get_data_available,\n",
    "    parse_json_to_problem,\n",
    ")\n",
    "\n",
    "# Set a default renderer for Plotly figures\n",
    "# pio.renderers.default = \"svg\"\n",
    "\n",
    "\n",
    "# Set logging to a basic level\n",
    "logging.basicConfig(level=logging.INFO)"
   ]
  },
  {
   "cell_type": "markdown",
   "metadata": {},
   "source": [
    "### Load a Problem Instance\n",
    "\n",
    "For this problem, we'll load an instance from a JSON format that describes a more general scheduling problem. We then convert this into a `TeamAllocationProblem` instance."
   ]
  },
  {
   "cell_type": "code",
   "execution_count": null,
   "metadata": {},
   "outputs": [],
   "source": [
    "# Get paths to available data files\n",
    "files = get_data_available()\n",
    "if not files:\n",
    "    fetch_data_from_cp25()\n",
    "    files = get_data_available()\n",
    "\n",
    "# We will use the second available instance for this tutorial\n",
    "file_path = files[1]\n",
    "\n",
    "# First, parse the file into a general scheduling problem\n",
    "scheduling_problem = parse_json_to_problem(file_path)\n",
    "# For this notebook we discard this constraint\n",
    "scheduling_problem.same_allocation = []\n",
    "# Next, convert it into a TeamAllocationProblem\n",
    "# This helper function automatically computes the conflict and compatibility graphs\n",
    "problem: TeamAllocationProblem = build_allocation_problem_from_scheduling(\n",
    "    problem=scheduling_problem\n",
    ")\n",
    "\n",
    "print(f\"Problem Loaded:\")\n",
    "print(f\"Number of tasks: {problem.number_of_activity}\")\n",
    "print(f\"Number of teams: {problem.number_of_teams}\")"
   ]
  },
  {
   "cell_type": "markdown",
   "metadata": {},
   "source": [
    "## Visualizing the Problem\n",
    "\n",
    "To better understand the instance, we can visualize its key components."
   ]
  },
  {
   "cell_type": "markdown",
   "metadata": {},
   "source": [
    "### The Activity Conflict Graph\n",
    "The time overlaps between tasks create a conflict graph. \n",
    "In this graph, each task is a node, and an edge is drawn between two tasks if they overlap in time. \n",
    "This means they are in conflict and must be assigned to different teams. \n",
    "This is a classic graph coloring constraint, where no two adjacent nodes can have the same color (or in our case, the same team).\n",
    "You can hover over the nodes to see the task names and zoom or pan to explore the connections."
   ]
  },
  {
   "cell_type": "code",
   "execution_count": null,
   "metadata": {},
   "outputs": [],
   "source": [
    "import plotly.graph_objects as go\n",
    "\n",
    "# Convert the graph to networkx for layout calculation\n",
    "conflict_graph_nx = problem.graph_activity.to_networkx()\n",
    "pos = nx.spring_layout(conflict_graph_nx, seed=42)\n",
    "\n",
    "# Create the edge trace for Plotly\n",
    "edge_x = []\n",
    "edge_y = []\n",
    "for edge in conflict_graph_nx.edges():\n",
    "    x0, y0 = pos[edge[0]]\n",
    "    x1, y1 = pos[edge[1]]\n",
    "    edge_x.extend([x0, x1, None])\n",
    "    edge_y.extend([y0, y1, None])\n",
    "\n",
    "edge_trace = go.Scatter(\n",
    "    x=edge_x,\n",
    "    y=edge_y,\n",
    "    line=dict(width=0.5, color=\"#888\"),\n",
    "    hoverinfo=\"none\",\n",
    "    mode=\"lines\",\n",
    ")\n",
    "\n",
    "# Create the node trace for Plotly\n",
    "node_x = []\n",
    "node_y = []\n",
    "node_text = []\n",
    "for node in conflict_graph_nx.nodes():\n",
    "    x, y = pos[node]\n",
    "    node_x.append(x)\n",
    "    node_y.append(y)\n",
    "    node_text.append(str(node))\n",
    "\n",
    "node_trace = go.Scatter(\n",
    "    x=node_x,\n",
    "    y=node_y,\n",
    "    mode=\"markers+text\",\n",
    "    hoverinfo=\"text\",\n",
    "    text=node_text,\n",
    "    textposition=\"top center\",\n",
    "    marker=dict(showscale=False, color=\"#6495ED\", size=10, line_width=2),\n",
    ")\n",
    "\n",
    "# Create the figure with a fixed square size\n",
    "fig = go.Figure(\n",
    "    data=[edge_trace, node_trace],\n",
    "    layout=go.Layout(\n",
    "        title=\"<br>Activity Conflict Graph\",\n",
    "        titlefont_size=16,\n",
    "        showlegend=False,\n",
    "        hovermode=\"closest\",\n",
    "        margin=dict(b=20, l=5, r=5, t=40),\n",
    "        width=800,  # Set width\n",
    "        height=800,  # Set height to be the same as width\n",
    "        xaxis=dict(showgrid=False, zeroline=False, showticklabels=False),\n",
    "        yaxis=dict(showgrid=False, zeroline=False, showticklabels=False),\n",
    "    ),\n",
    ")\n",
    "\n",
    "fig.show()"
   ]
  },
  {
   "cell_type": "markdown",
   "metadata": {},
   "source": [
    "### Team-Task Compatibility\n",
    "\n",
    "Not all teams can perform all tasks, due to skill requirements or calendar availability. Let's inspect the allowed teams for a few sample tasks."
   ]
  },
  {
   "cell_type": "code",
   "execution_count": null,
   "metadata": {},
   "outputs": [],
   "source": [
    "tasks_to_check = [\"27775\", \"35745\"]\n",
    "for task_name in tasks_to_check:\n",
    "    allowed_teams = problem.compute_allowed_team_for_task(task_name)\n",
    "    print(f\"Task '{task_name}' can be performed by teams: {allowed_teams}\\n\")"
   ]
  },
  {
   "cell_type": "markdown",
   "metadata": {},
   "source": [
    "In this case, the task \"35745\" has to be done by some specialized team."
   ]
  },
  {
   "cell_type": "markdown",
   "metadata": {},
   "source": [
    "## A Simple (Handcrafted) Solution\n",
    "\n",
    "Before using powerful optimizers, let's create a feasible solution using a simple greedy heuristic. This will give us a baseline to compare against later.\n",
    "\n",
    "**The Greedy Algorithm:**\n",
    "1.  Sort tasks by their start time.\n",
    "2.  For each task, iterate through the teams (from team 0 to team M-1).\n",
    "3.  Assign the task to the *first* team that is both **allowed** (compatible and available) and **free** (not assigned to an overlapping task).\n"
   ]
  },
  {
   "cell_type": "code",
   "execution_count": null,
   "metadata": {},
   "outputs": [],
   "source": [
    "def solve_greedy(problem: TeamAllocationProblem) -> TeamAllocationSolution:\n",
    "    \"\"\"A simple greedy solver for the Workforce Allocation Problem.\"\"\"\n",
    "    # Initialize allocation with -1 (unassigned)\n",
    "    allocation = [-1] * problem.number_of_activity\n",
    "\n",
    "    # Sort tasks by start time\n",
    "    task_indices = sorted(\n",
    "        range(problem.number_of_activity),\n",
    "        key=lambda i: problem.schedule[problem.index_to_activities_name[i]][0],\n",
    "    )\n",
    "\n",
    "    for task_index in task_indices:\n",
    "        task_name = problem.index_to_activities_name[task_index]\n",
    "        task_start, task_end = problem.schedule[task_name]\n",
    "\n",
    "        allowed_teams_indices = problem.compute_allowed_team_index_for_task(task_name)\n",
    "\n",
    "        for team_index in sorted(allowed_teams_indices):\n",
    "            is_team_free = True\n",
    "            # Check for conflicts with tasks already assigned to this team\n",
    "            for other_task_index, assigned_team in enumerate(allocation):\n",
    "                if assigned_team == team_index:\n",
    "                    other_task_name = problem.index_to_activities_name[other_task_index]\n",
    "                    other_start, other_end = problem.schedule[other_task_name]\n",
    "                    # Check for time overlap\n",
    "                    if max(task_start, other_start) < min(task_end, other_end):\n",
    "                        is_team_free = False\n",
    "                        break\n",
    "\n",
    "            if is_team_free:\n",
    "                allocation[task_index] = team_index\n",
    "                break  # Move to the next task\n",
    "\n",
    "    # Check if all tasks were assigned\n",
    "    if -1 in allocation:\n",
    "        print(\"Warning: Greedy solver could not assign all tasks.\")\n",
    "\n",
    "    return TeamAllocationSolution(problem=problem, allocation=allocation)"
   ]
  },
  {
   "cell_type": "code",
   "execution_count": null,
   "metadata": {},
   "outputs": [],
   "source": [
    "# Solve with our greedy heuristic\n",
    "greedy_solution = solve_greedy(problem)\n",
    "\n",
    "# Evaluate the solution\n",
    "fitness = problem.evaluate(greedy_solution)\n",
    "satisfy = problem.satisfy(greedy_solution)\n",
    "\n",
    "print(f\"Greedy Solution Found:\")\n",
    "print(f\"  - Is the solution feasible? {satisfy}\")\n",
    "print(f\"  - Number of teams used: {fitness.get('nb_teams', 'N/A')}\")\n",
    "print(f\"  - Number of constraint violations: {fitness.get('nb_violations', 0)}\")"
   ]
  },
  {
   "cell_type": "markdown",
   "metadata": {},
   "source": [
    "### Visualizing the Greedy Solution\n",
    "\n",
    "Now let's plot the resulting schedule. The plot below is a Gantt-style chart where each row represents a team, and the bars represent the tasks assigned to them."
   ]
  },
  {
   "cell_type": "code",
   "execution_count": null,
   "metadata": {},
   "outputs": [],
   "source": [
    "fig = plot_allocation_solution(\n",
    "    problem=problem,\n",
    "    sol=greedy_solution,\n",
    "    title=\"Greedy Allocation Schedule\",\n",
    "    display=False,\n",
    ")\n",
    "fig.show()"
   ]
  },
  {
   "cell_type": "markdown",
   "metadata": {},
   "source": [
    "## Conclusion\n",
    "\n",
    "In this notebook, we've defined the Team Allocation Problem, explored its structure by visualizing its constraints, and built a simple greedy solution. This provides a solid foundation and a baseline result.\n",
    "\n",
    "However, this greedy approach is not guaranteed to find the *optimal* solution (i.e., the one using the minimum possible number of teams). \n",
    "\n",
    "➡️ **Next up:** In [Notebook 2](2-Solving%20workforce%20allocation%20with%20CP.ipynb), we will formulate this problem using **Constraint Programming** to find a provably optimal solution."
   ]
  },
  {
   "cell_type": "markdown",
   "metadata": {},
   "source": []
  }
 ],
 "metadata": {
  "kernelspec": {
   "display_name": "Python 3 (ipykernel)",
   "language": "python",
   "name": "python3"
  },
  "language_info": {
   "codemirror_mode": {
    "name": "ipython",
    "version": 3
   },
   "file_extension": ".py",
   "mimetype": "text/x-python",
   "name": "python",
   "nbconvert_exporter": "python",
   "pygments_lexer": "ipython3",
   "version": "3.13.8"
  }
 },
 "nbformat": 4,
 "nbformat_minor": 4
}
