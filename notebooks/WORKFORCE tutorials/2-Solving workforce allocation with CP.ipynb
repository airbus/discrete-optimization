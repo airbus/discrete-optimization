{
 "cells": [
  {
   "cell_type": "markdown",
   "metadata": {},
   "source": [
    "# 2. Solving the Workforce Allocation Problem with Constraint Programming (CP)\n",
    "\n",
    "In the previous notebook, we introduced the Workforce Allocation Problem (WAP) and created a baseline solution using a simple greedy heuristic. While fast, that approach doesn't guarantee optimality. \n",
    "\n",
    "In this notebook, we'll formulate WAP as a **Constraint Programming (CP)** model. CP is a powerful paradigm for solving combinatorial optimization problems by focusing on constraints and variables. We will use it to find a provably optimal solution that minimizes the number of teams used."
   ]
  },
  {
   "cell_type": "markdown",
   "metadata": {},
   "source": [
    "### Prerequisites\n",
    "\n",
    "This notebook requires the `discrete-optimization` library and its dependencies, including `ortools` and `cpmpy`."
   ]
  },
  {
   "cell_type": "code",
   "execution_count": null,
   "metadata": {},
   "outputs": [],
   "source": [
    "# On Colab: install the library\n",
    "import sys\n",
    "\n",
    "ON_COLAB = \"google.colab\" in sys.modules\n",
    "if ON_COLAB:\n",
    "    !{sys.executable} -m pip install -U pip\n",
    "    !{sys.executable} -m pip install discrete-optimization"
   ]
  },
  {
   "cell_type": "markdown",
   "metadata": {},
   "source": [
    "### Imports"
   ]
  },
  {
   "cell_type": "code",
   "execution_count": null,
   "metadata": {},
   "outputs": [],
   "source": [
    "from discrete_optimization.datasets import fetch_data_from_cp25\n",
    "from discrete_optimization.generic_tools.cp_tools import ParametersCp\n",
    "\n",
    "# Import problem and parser\n",
    "from discrete_optimization.workforce.allocation.parser import (\n",
    "    build_allocation_problem_from_scheduling,\n",
    ")\n",
    "\n",
    "# Import the CP-SAT solver\n",
    "from discrete_optimization.workforce.allocation.solvers.cpsat import (\n",
    "    CpsatTeamAllocationSolver,\n",
    "    ModelisationAllocationOrtools,\n",
    ")\n",
    "\n",
    "# Import plotting utilities\n",
    "from discrete_optimization.workforce.allocation.utils import plot_allocation_solution\n",
    "from discrete_optimization.workforce.scheduling.parser import (\n",
    "    get_data_available,\n",
    "    parse_json_to_problem,\n",
    ")"
   ]
  },
  {
   "cell_type": "markdown",
   "metadata": {},
   "source": [
    "### Load a Problem Instance\n",
    "\n",
    "For this problem, we'll load an instance from a JSON format that describes a more general scheduling problem. We then convert this into a `TeamAllocationProblem` instance."
   ]
  },
  {
   "cell_type": "code",
   "execution_count": null,
   "metadata": {},
   "outputs": [],
   "source": [
    "files = get_data_available()\n",
    "if not files:\n",
    "    fetch_data_from_cp25()\n",
    "    files = get_data_available()\n",
    "\n",
    "file_path = files[1]\n",
    "scheduling_problem = parse_json_to_problem(file_path)\n",
    "problem = build_allocation_problem_from_scheduling(problem=scheduling_problem)"
   ]
  },
  {
   "cell_type": "markdown",
   "metadata": {},
   "source": [
    "## The CP Model Formulation\n",
    "\n",
    "To solve the workforce allocation problem with Constraint Programming, we must define our problem in terms of variables, constraints, and an objective function.\n",
    "\n",
    "### Decision Variables\n",
    "The core decision is: *which team performs which task?* We can model this with binary variables:\n",
    "\n",
    "$$ x_{i,j} = \\begin{cases} 1 & \\text{if task } i \\text{ is assigned to team } j \\\\ 0 & \\text{otherwise} \\end{cases} $$\n",
    "\n",
    "### Constraints\n",
    "We translate the problem's rules into mathematical constraints:\n",
    "\n",
    "1. **Assignment Constraint:** Each task must be assigned to exactly one team.\n",
    "   $$ \\sum_{j \\in \\text{Teams}} x_{i,j} = 1 \\quad \\forall i \\in \\text{Tasks} $$\n",
    "\n",
    "2. **Conflict Constraint (coloring):** If tasks $i$ and $k$ overlap, they can't be assigned to the same team.\n",
    "   $$ x_{i,j} + x_{k,j} \\le 1 \\quad \\forall j \\in \\text{Teams}, \\forall (i, k) \\in \\text{OverlappingTasks} $$\n",
    "   Another way of modeling conflict constraint is to consider **cliques** of overlapping tasks, i.e set of tasks all overlapping with each other.\n",
    "   In this case, $$\\forall c \\in Cliques, \\forall j \\in \\text{Teams}, \\sum_{i \\in c}x_{i,j} \\leq 1 $$, this generalizes the previous constraint.\n",
    "\n",
    "3. **Compatibility/Availability Constraints:** \n",
    "A task can only be assigned to an allowed team. This is handled by only creating variables $x_{i,j}$ where team $j$ is allowed for task $i$.\n",
    "\n",
    "### Objective Function\n",
    "Our goal is to minimize the number of teams used. We introduce a binary variable $y_j$ for each team, which is $1$ if the team is used at all, and $0$ otherwise. \n",
    "\n",
    "* **Objective:**\n",
    "    $$ \\text{minimize} \\sum_{j \\in \\text{Teams}} y_j $$\n",
    "\n",
    "* **Linking Constraint:** The variable $y_j$ is forced to $1$ if any task is assigned to team $j$.\n",
    "    $$ x_{i,j} \\le y_j \\quad \\forall i \\in \\text{Tasks}, \\forall j \\in \\text{Teams} $$"
   ]
  },
  {
   "cell_type": "markdown",
   "metadata": {},
   "source": [
    "### Solving the Problem\n",
    "\n",
    "Our library encapsulates this logic. We can instantiate the `CpsatTeamAllocationSolver`, build the model, and launch the solver."
   ]
  },
  {
   "cell_type": "code",
   "execution_count": null,
   "metadata": {},
   "outputs": [],
   "source": [
    "# Instantiate the solver\n",
    "solver = CpsatTeamAllocationSolver(problem)\n",
    "\n",
    "# Initialize the CP model with the binary variable formulation\n",
    "solver.init_model(modelisation_allocation=ModelisationAllocationOrtools.BINARY)\n",
    "\n",
    "# Set CP solver parameters (e.g., number of workers)\n",
    "cp_params = ParametersCp.default_cpsat()\n",
    "cp_params.nb_process = 6  # Use 6 cores\n",
    "\n",
    "# Solve the problem with a 30-second time limit\n",
    "result_storage = solver.solve(parameters_cp=cp_params, time_limit=30)\n",
    "\n",
    "# Get the best solution found\n",
    "optimal_solution, fitness = result_storage.get_best_solution_fit()"
   ]
  },
  {
   "cell_type": "code",
   "execution_count": null,
   "metadata": {},
   "outputs": [],
   "source": [
    "print(f\"CP Solver Finished:\")\n",
    "print(f\"  - Status: {solver.status_solver}\")\n",
    "print(f\"  - Is the solution feasible? {problem.satisfy(optimal_solution)}\")\n",
    "print(f\"  - Optimal number of teams used: {int(optimal_solution.kpis['nb_teams'])}\")"
   ]
  },
  {
   "cell_type": "markdown",
   "metadata": {},
   "source": [
    "Compare this result to the greedy solution from the previous notebook. The CP solver should find a solution that uses an equal or fewer number of teams, demonstrating the power of optimization over simple heuristics."
   ]
  },
  {
   "cell_type": "markdown",
   "metadata": {},
   "source": [
    "### Visualizing the Optimal Solution"
   ]
  },
  {
   "cell_type": "code",
   "execution_count": null,
   "metadata": {},
   "outputs": [],
   "source": [
    "fig = plot_allocation_solution(\n",
    "    problem=problem,\n",
    "    sol=optimal_solution,\n",
    "    title=\"Optimal Allocation Schedule (CP-SAT)\",\n",
    "    display=False,\n",
    ")\n",
    "fig.show()"
   ]
  },
  {
   "cell_type": "markdown",
   "metadata": {},
   "source": [
    "## Conclusion\n",
    "\n",
    "In this notebook, we successfully modeled the Workforce Allocation Problem using Constraint Programming and found an optimal solution. This demonstrates how a declarative approach like CP can handle complex combinatorial constraints effectively.\n",
    "\n",
    "But what happens when the real world intervenes? A team might call in sick, their equipment might break, or their availability might change. A static, optimal plan can quickly become invalid.\n",
    "\n",
    "➡️ **Next up:** In [Notebook 3](3_Disruptions_and_Scenarios.ipynb), we'll explore how to model these disruptions and see what happens to our carefully crafted solution."
   ]
  }
 ],
 "metadata": {
  "kernelspec": {
   "display_name": "Python 3 (ipykernel)",
   "language": "python",
   "name": "python3"
  },
  "language_info": {
   "codemirror_mode": {
    "name": "ipython",
    "version": 3
   },
   "file_extension": ".py",
   "mimetype": "text/x-python",
   "name": "python",
   "nbconvert_exporter": "python",
   "pygments_lexer": "ipython3",
   "version": "3.9.18"
  }
 },
 "nbformat": 4,
 "nbformat_minor": 4
}
