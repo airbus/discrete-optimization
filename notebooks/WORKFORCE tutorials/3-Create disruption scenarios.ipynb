{
 "cells": [
  {
   "cell_type": "markdown",
   "metadata": {},
   "source": [
    "# 3. Handling Disruptions in Workforce Allocation\n",
    "\n",
    "In the previous notebook, we found an optimal solution to the Workforce Allocation Problem. However, real-world operations are rarely static. Disruptions—such as a team becoming unavailable can make your current plan/allocation obsolete and even infeasible.\n",
    "\n",
    "This notebook focuses on modeling such disruptions. We will use a scenario generator to create modified problem instances from our original plan. We will see how some disruptions can be accommodated, while others can make the problem **unsatisfiable (UNSAT)**, meaning no solution exists that respects all the rules."
   ]
  },
  {
   "cell_type": "markdown",
   "metadata": {},
   "source": [
    "### Prerequisites"
   ]
  },
  {
   "cell_type": "code",
   "execution_count": null,
   "metadata": {},
   "outputs": [],
   "source": [
    "# On Colab: install the library\n",
    "import sys\n",
    "\n",
    "ON_COLAB = \"google.colab\" in sys.modules\n",
    "if ON_COLAB:\n",
    "    !{sys.executable} -m pip install -U pip\n",
    "    !{sys.executable} -m pip install discrete-optimization"
   ]
  },
  {
   "cell_type": "markdown",
   "metadata": {},
   "source": [
    "### Imports"
   ]
  },
  {
   "cell_type": "code",
   "execution_count": null,
   "metadata": {},
   "outputs": [],
   "source": [
    "import copy\n",
    "\n",
    "from discrete_optimization.datasets import fetch_data_from_cp25\n",
    "from discrete_optimization.generic_tools.do_solver import StatusSolver\n",
    "from discrete_optimization.workforce.allocation.parser import (\n",
    "    build_allocation_problem_from_scheduling,\n",
    ")\n",
    "\n",
    "# Import problem and parser\n",
    "from discrete_optimization.workforce.allocation.problem import (\n",
    "    AllocationAdditionalConstraint,\n",
    ")\n",
    "\n",
    "# Import the CP-SAT solver and the scenario generator\n",
    "from discrete_optimization.workforce.allocation.solvers.cpsat import (\n",
    "    CpsatTeamAllocationSolver,\n",
    "    ModelisationAllocationOrtools,\n",
    ")\n",
    "\n",
    "# Import plotting utilities and CP parameters\n",
    "from discrete_optimization.workforce.allocation.utils import plot_allocation_solution\n",
    "from discrete_optimization.workforce.generators.resource_scenario import (\n",
    "    ParamsRandomness,\n",
    "    generate_allocation_disruption,\n",
    ")\n",
    "from discrete_optimization.workforce.scheduling.parser import (\n",
    "    get_data_available,\n",
    "    parse_json_to_problem,\n",
    ")"
   ]
  },
  {
   "cell_type": "markdown",
   "metadata": {},
   "source": [
    "### Load Original Problem and Optimal Solution\n",
    "\n",
    "First, we will solve the original problem to get an optimal baseline plan, which will then be disrupted."
   ]
  },
  {
   "cell_type": "code",
   "execution_count": null,
   "metadata": {},
   "outputs": [],
   "source": [
    "# Load the original problem\n",
    "files = get_data_available()\n",
    "if not files:\n",
    "    fetch_data_from_cp25()\n",
    "    files = get_data_available()\n",
    "file_path = files[1]\n",
    "scheduling_problem = parse_json_to_problem(file_path)\n",
    "original_problem = build_allocation_problem_from_scheduling(problem=scheduling_problem)\n",
    "\n",
    "# Solve it to get the optimal baseline solution\n",
    "solver = CpsatTeamAllocationSolver(original_problem)\n",
    "solver.init_model(modelisation_allocation=ModelisationAllocationOrtools.BINARY)\n",
    "result_storage = solver.solve(time_limit=30)\n",
    "baseline_solution, _ = result_storage.get_best_solution_fit()\n",
    "baseline_fits = original_problem.evaluate(baseline_solution)\n",
    "print(f\"Baseline optimal solution found with {int(baseline_fits['nb_teams'])} teams.\")"
   ]
  },
  {
   "cell_type": "markdown",
   "metadata": {},
   "source": [
    "## Generating Disruption Scenarios\n",
    "\n",
    "We will use the `generate_allocation_disruption` function to introduce changes. This function modifies team calendars to simulate unavailability."
   ]
  },
  {
   "cell_type": "markdown",
   "metadata": {},
   "source": [
    "### Example 1: A Solvable Disruption\n",
    "\n",
    "Let's create a minor disruption where one team is unavailable for a short period. The optimizer should be able to find a new solution, possibly by reassigning a few tasks."
   ]
  },
  {
   "cell_type": "code",
   "execution_count": null,
   "metadata": {},
   "outputs": [],
   "source": [
    "# Parameters for a small disruption\n",
    "params_small_disruption = ParamsRandomness(\n",
    "    lower_nb_disruption=1,  # 1 period of unavailability\n",
    "    upper_nb_disruption=1,\n",
    "    lower_nb_teams=1,  # for 1 team\n",
    "    upper_nb_teams=1,\n",
    "    duration_discrete_distribution=([30], [1.0]),  # 30 minutes long\n",
    ")\n",
    "\n",
    "# Generate the disrupted problem\n",
    "disruption_scenario = generate_allocation_disruption(\n",
    "    original_allocation_problem=original_problem,\n",
    "    original_solution=baseline_solution,\n",
    "    params_randomness=params_small_disruption,\n",
    ")\n",
    "disrupted_problem_1 = disruption_scenario[\"new_allocation_problem\"]\n",
    "\n",
    "# Solve the new problem\n",
    "solver_1 = CpsatTeamAllocationSolver(disrupted_problem_1)\n",
    "solver_1.init_model()\n",
    "result_1 = solver_1.solve(time_limit=10)\n",
    "solution_1, _ = result_1.get_best_solution_fit()\n",
    "fitness_1 = original_problem.evaluate(baseline_solution)\n",
    "\n",
    "print(f\"After small disruption:\")\n",
    "print(f\"  - Solver Status: {solver_1.status_solver}\")\n",
    "print(f\"  - New number of teams: {int(fitness_1['nb_teams'])}\")"
   ]
  },
  {
   "cell_type": "code",
   "execution_count": null,
   "metadata": {},
   "outputs": [],
   "source": [
    "# Visualize the new solution along with the minor disruption\n",
    "if solver_1.status_solver in {StatusSolver.OPTIMAL, StatusSolver.SATISFIED}:\n",
    "    fig = plot_allocation_solution(\n",
    "        problem=disrupted_problem_1,\n",
    "        sol=solution_1,\n",
    "        title=\"Corrected allocation problem with \",\n",
    "        use_color_map=True,\n",
    "        plot_breaks=True,\n",
    "        color_break=\"black\",\n",
    "        display=False,\n",
    "    )\n",
    "    fig.show()"
   ]
  },
  {
   "cell_type": "markdown",
   "metadata": {},
   "source": [
    "### Example 2: An Unsatisfiable (UNSAT) Scenario\n",
    "\n",
    "Now, let's create a more severe disruption that makes the problem impossible to solve. A simple way to do this is to impose a new business constraint that conflicts with the optimal solution. For example, an equipment might break and lead to use less team than expected. \n",
    "\n",
    "In the following cells, we emulate this situation by specifiying to our model that it should find solution with an additional constraint ($nb\\_teams\\leq max\\_teams\\_allowed$)\n",
    "\n"
   ]
  },
  {
   "cell_type": "markdown",
   "metadata": {},
   "source": []
  },
  {
   "cell_type": "code",
   "execution_count": null,
   "metadata": {},
   "outputs": [],
   "source": [
    "# The optimal solution required N teams. Let's create a new problem that only allows N-1.\n",
    "\n",
    "optimal_teams_count = int(baseline_fits[\"nb_teams\"])\n",
    "max_teams_allowed = optimal_teams_count - 1\n",
    "\n",
    "# Create a copy of the original problem to add the new constraint\n",
    "problem_unsat = copy.deepcopy(original_problem)\n",
    "\n",
    "# Add the new constraint: nb_max_teams\n",
    "if problem_unsat.allocation_additional_constraint is None:\n",
    "    problem_unsat.allocation_additional_constraint = AllocationAdditionalConstraint()\n",
    "problem_unsat.allocation_additional_constraint.nb_max_teams = max_teams_allowed\n",
    "\n",
    "print(f\"Original optimal teams: {optimal_teams_count}\")\n",
    "print(f\"New constraint: Maximum teams allowed = {max_teams_allowed}\")\n",
    "\n",
    "# Try to solve this impossible problem\n",
    "solver_unsat = CpsatTeamAllocationSolver(problem_unsat)\n",
    "solver_unsat.init_model()\n",
    "result_unsat = solver_unsat.solve(time_limit=10)\n",
    "\n",
    "print(f\"\\nAfter severe disruption:\")\n",
    "print(f\"  - Solver Status: {solver_unsat.status_solver}\")"
   ]
  },
  {
   "cell_type": "markdown",
   "metadata": {},
   "source": [
    "As expected, the solver returns an `UNSATISFIABLE` status. It has mathematically proven that no solution exists that can satisfy all tasks, all constraints (overlap, availability), AND the new requirement of using fewer teams."
   ]
  },
  {
   "cell_type": "markdown",
   "metadata": {},
   "source": [
    "## Conclusion\n",
    "\n",
    "We have demonstrated how to model disruptions, either by changing resource availability or by adding new, stricter constraints. We've also seen how this can lead to an infeasible, or UNSAT, problem.\n",
    "\n",
    "The crucial question for a planner is now: **why** is it infeasible? Which specific combination of tasks and constraints is causing the conflict? Just knowing that a problem is unsolvable isn't enough to make a good business decision.\n",
    "\n",
    "➡️ **Next up:** In our final [Notebook 4](4_Explaining_Unsatisfiable_Problems.ipynb), we'll use advanced techniques to diagnose the cause of infeasibility and interactively find a compromise solution."
   ]
  }
 ],
 "metadata": {
  "kernelspec": {
   "display_name": "do_env",
   "language": "python",
   "name": "python3"
  },
  "language_info": {
   "codemirror_mode": {
    "name": "ipython",
    "version": 3
   },
   "file_extension": ".py",
   "mimetype": "text/x-python",
   "name": "python",
   "nbconvert_exporter": "python",
   "pygments_lexer": "ipython3",
   "version": "3.9.18"
  }
 },
 "nbformat": 4,
 "nbformat_minor": 4
}
