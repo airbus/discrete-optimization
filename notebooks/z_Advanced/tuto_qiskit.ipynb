{
 "cells": [
  {
   "cell_type": "markdown",
   "id": "220905dc-d6fe-464c-bbda-b661af6543dd",
   "metadata": {},
   "source": [
    "Première cell pour éxécuter dans environnement avec discrete_optimization de github mais pas installer en package python"
   ]
  },
  {
   "cell_type": "code",
   "execution_count": 1,
   "id": "f3b177ce-a4b8-4f43-ae92-15c5bfcaabb5",
   "metadata": {},
   "outputs": [],
   "source": [
    "import sys \n",
    "sys.path.append(\"/Users/AGAUVZFV/Desktop/discrete-optimization\")\n",
    "import os\n",
    "os.environ[\"DO_SKIP_MZN_CHECK\"] = \"1\" "
   ]
  },
  {
   "cell_type": "markdown",
   "id": "4b74b0c6-2aad-43ab-9c2c-a131ffeec0d5",
   "metadata": {},
   "source": [
    "other useful import"
   ]
  },
  {
   "cell_type": "code",
   "execution_count": 2,
   "id": "26efd9d5-90c9-4fb5-ae46-f85b935ff094",
   "metadata": {},
   "outputs": [],
   "source": [
    "from discrete_optimization.maximum_independent_set.mis_model import MisProblem\n",
    "from discrete_optimization.maximum_independent_set.solvers.mis_gurobi import MisMilpSolver\n",
    "from discrete_optimization.maximum_independent_set.mis_plot import plot_mis_solution, plot_mis_graph\n",
    "from discrete_optimization.maximum_independent_set.solvers.mis_quantum import QAOAMisSolver\n",
    "from qiskit_aer import AerSimulator\n",
    "import networkx as nx"
   ]
  },
  {
   "cell_type": "markdown",
   "id": "fd7c42c6-1626-45dd-b262-6195039887f3",
   "metadata": {},
   "source": [
    "The objectif of this tutorial is to present how we can use discrete_optimization to solve optimization problem using quantum simulator or quantum real device with qiskit. \n",
    "\n",
    "It's free to use simulator but to use quantum real divice you need an IBM account. You can have one for free BUT you will be limited to ten minutes of use by month and you can't use session (we talk about session a bit later) who is a very pratical way to execute job on real device.\n",
    "\n",
    "This tutorial has not to purpose to present a method to solve very large problem, nothing of revolutionnary here, just a quantum gadget to see what we can do actually with quantum technologies, the good point as the bad point."
   ]
  },
  {
   "cell_type": "markdown",
   "id": "37b171d5-8111-4626-b4fa-78680ed8251b",
   "metadata": {},
   "source": [
    "The first step is, of course, to creat the problem to solve, here we are going to solve a maximum_independent_set.\n",
    "In a graph we search a subset of nodes who are not connected two by two. We want to maximize the side of this subset.\n",
    "An example of a graph with 6 nodes where the maximum_independent_set is the subset of nodes (1,5,6)."
   ]
  },
  {
   "cell_type": "code",
   "execution_count": 3,
   "id": "4c36eeca-5a59-4b76-88ee-ef31192b3af9",
   "metadata": {},
   "outputs": [
    {
     "data": {
      "image/png": "[encoded data removed]",
      "text/plain": [
       "<Figure size 640x480 with 1 Axes>"
      ]
     },
     "metadata": {},
     "output_type": "display_data"
    }
   ],
   "source": [
    "    graph = nx.Graph()\n",
    "\n",
    "    graph.add_edge(1, 2)\n",
    "    graph.add_edge(1, 3)\n",
    "    graph.add_edge(2, 4)\n",
    "    graph.add_edge(2, 6)\n",
    "    graph.add_edge(3, 4)\n",
    "    graph.add_edge(3, 5)\n",
    "    graph.add_edge(4, 5)\n",
    "    graph.add_edge(4, 6)\n",
    "\n",
    "    misProblem = MisProblem(graph)\n",
    "    plot_mis_graph(misProblem)"
   ]
  },
  {
   "cell_type": "markdown",
   "id": "302cdc6c-5a60-4002-bfd0-8e8f0fe758cc",
   "metadata": {},
   "source": [
    "We are going to see how solve this problem with a non-noisy quantum simulator or a real quantum device. We develop a tools that just need a MisProblem object and a qiskit backend object and who can solve the mis Problem using the QAOA algorithm. Quantum approximate optimization algorithm is a well-known hybrid algorithm that use the Ising representation of a QUBO problem. LIEN vers article QAOA + ising formulation Article présentant l'algorithm QAOA : https://arxiv.org/abs/1411.4028 "
   ]
  },
  {
   "cell_type": "code",
   "execution_count": 6,
   "id": "f801bf84-1dae-4834-8fca-4c91ca68a204",
   "metadata": {},
   "outputs": [
    {
     "name": "stderr",
     "output_type": "stream",
     "text": [
      "C:\\Users\\AGAUVZFV\\AppData\\Local\\miniconda3\\envs\\d-opti\\Lib\\site-packages\\qiskit_ibm_runtime\\fake_provider\\local_service.py:243: UserWarning: Options {'default_shots': 10000} have no effect in local testing mode.\n",
      "  warnings.warn(f\"Options {options_copy} have no effect in local testing mode.\")\n"
     ]
    },
    {
     "name": "stdout",
     "output_type": "stream",
     "text": [
      "Iters. done: 1 [Current cost: -0.583984375]\n",
      "Iters. done: 2 [Current cost: 0.0556640625]\n",
      "Iters. done: 3 [Current cost: -0.207763671875]\n",
      "Iters. done: 4 [Current cost: -0.89794921875]\n",
      "Iters. done: 5 [Current cost: -0.594482421875]\n",
      "Iters. done: 6 [Current cost: 1.247802734375]\n",
      "Iters. done: 7 [Current cost: -0.0087890625]\n",
      "Iters. done: 8 [Current cost: -0.426513671875]\n",
      "Iters. done: 9 [Current cost: -0.564208984375]\n",
      "Iters. done: 10 [Current cost: -0.8447265625]\n",
      "Iters. done: 11 [Current cost: -0.4990234375]\n",
      "Iters. done: 12 [Current cost: -0.824462890625]\n",
      "Iters. done: 13 [Current cost: -0.923828125]\n",
      "Iters. done: 14 [Current cost: -0.868896484375]\n",
      "Iters. done: 15 [Current cost: -0.927978515625]\n",
      "Iters. done: 16 [Current cost: -0.944580078125]\n",
      "Iters. done: 17 [Current cost: -0.950439453125]\n",
      "Iters. done: 18 [Current cost: -0.951171875]\n",
      "Iters. done: 19 [Current cost: -0.910400390625]\n",
      "Iters. done: 20 [Current cost: -0.959228515625]\n",
      "Iters. done: 21 [Current cost: -0.942626953125]\n",
      "Iters. done: 22 [Current cost: -0.955322265625]\n",
      "Iters. done: 23 [Current cost: -0.931640625]\n",
      "Iters. done: 24 [Current cost: -0.937255859375]\n",
      "Iters. done: 25 [Current cost: -0.93310546875]\n",
      "Iters. done: 26 [Current cost: -0.936767578125]\n",
      "Iters. done: 27 [Current cost: -0.933837890625]\n",
      "Iters. done: 28 [Current cost: -0.9453125]\n",
      "Iters. done: 29 [Current cost: -0.945068359375]\n",
      "Iters. done: 30 [Current cost: -0.929931640625]\n",
      "Iters. done: 31 [Current cost: -0.93115234375]\n",
      "Iters. done: 32 [Current cost: -0.95751953125]\n",
      "Iters. done: 33 [Current cost: -0.931640625]\n",
      "Iters. done: 34 [Current cost: -0.93798828125]\n",
      "Iters. done: 35 [Current cost: -0.91943359375]\n",
      "Iters. done: 36 [Current cost: -0.945068359375]\n",
      "Iters. done: 37 [Current cost: -0.955810546875]\n",
      "Iters. done: 38 [Current cost: -0.944091796875]\n",
      "Iters. done: 39 [Current cost: -0.95263671875]\n",
      "Iters. done: 40 [Current cost: -0.95068359375]\n",
      "Iters. done: 41 [Current cost: -0.95703125]\n",
      "Iters. done: 42 [Current cost: -0.93994140625]\n",
      "Iters. done: 43 [Current cost: -0.939697265625]\n",
      "Iters. done: 44 [Current cost: -0.9482421875]\n",
      "Iters. done: 45 [Current cost: -0.9404296875]\n",
      "Iters. done: 46 [Current cost: -0.9296875]\n",
      "nb_node in mis = 3.0\n",
      "nodes in mis =[1, 6, 5]\n"
     ]
    }
   ],
   "source": [
    "# we declare the MisProblem\n",
    "misProblem = MisProblem(graph)\n",
    "\n",
    "# we declare the QAOA solver we are going to use\n",
    "misSolver = QAOAMisSolver(misProblem)\n",
    "\n",
    "# then we need a backend, a backend is an object wo define how and where the quantum part of the algorithm is run\n",
    "# it can be a simulator or a real quantum device\n",
    "\n",
    "# here we declare a simulator\n",
    "backend = AerSimulator()\n",
    "\n",
    "# then we need to initialize the solver, in fact we transform the mis problem on his QUBO form\n",
    "misSolver.init_model()\n",
    "\n",
    "# after that we can run the solver using the defined backend\n",
    "res = misSolver.solve(backend=backend)\n",
    "\n",
    "sol, _ = res.get_best_solution_fit()\n",
    "print(sol)"
   ]
  },
  {
   "cell_type": "markdown",
   "id": "946aaf2a-ea8d-481a-8df2-d9cf5e213065",
   "metadata": {},
   "source": [
    "If you have an IBM account you can declare the backend as follow, where the \"token\" parameter is your personnal IBM token to use a real quantum device. If you have a premium account please set the parameter \"use-session\" of the solver to True. A session give a guaranted acces to the device, if you don't use session, you can have a lot of waiting time beetween two different job (because other jobs can be insert in the queue). In QAOA we create a new job at each iteration of the optimizer and one final job after the minimization step is over."
   ]
  },
  {
   "cell_type": "code",
   "execution_count": 5,
   "id": "c97813de-a503-48fd-be7e-c8114ce07e25",
   "metadata": {},
   "outputs": [],
   "source": [
    "# from qiskit_ibm_runtime import QiskitRuntimeService\n",
    "\n",
    "# service = QiskitRuntimeService(channel=\"ibm_quantum\", token=token)\n",
    "# backend = service.least_busy(operational=True, simulator=False)\n",
    "# misSolver.init_model()\n",
    "# misSolver.solve(backend=backend, use_session=True)\n",
    "# sol, _ = res.get_best_solution_fit()\n",
    "# print(sol)"
   ]
  },
  {
   "cell_type": "markdown",
   "id": "a6fbf5d7-f7ba-43c8-a224-a5326bffd6a2",
   "metadata": {},
   "source": [
    "Here we have not define any parameters except the backend, in fact there is a lot of parameters we can chose.\n",
    "\n",
    "They can be defined in a kwargs parameter\n",
    "\n",
    "Hyperparameters we can modifiy and can influence the performance of the algorithm are :\n",
    "\n",
    "- \"method\" the scipy optimizer we want to use for the classical optimization step\n",
    "- \"reps\" : the deep of the quantum circuit\n",
    "- \"optimization_level\" : the level of optimization of the circuit\n",
    "- \"nb_shots\" who define the number of time we want to repeat the quantum circuit (not used on simulator)\n",
    "\n",
    "by default we use the \"COBYLA\" method, you can give value for three hyperparameters in the kwargs :\n",
    "\n",
    "- maxiter : the maximum number of iteration of the optimizer\n",
    "- rhobeg : ???\n",
    "- tol : ???\n",
    "\n",
    "for all other scipy optimizer https://docs.scipy.org/doc/scipy-1.13.1/reference/generated/scipy.optimize.minimize.html (or it's also possible for cobyla), if you want to define some parameters you can do it with a kwargs parameter \"options\", who is a dictionnary of possible options for the optimizer.\n",
    "\n"
   ]
  },
  {
   "cell_type": "code",
   "execution_count": null,
   "id": "a423d5cc-af42-4a7d-abca-15c4c86a7699",
   "metadata": {},
   "outputs": [],
   "source": [
    "# kwargs = {\"method\": \"your_method\"}\n",
    "# options = {\"options1\": op1, \"options2\": op2, ...}\n",
    "# kwargs[\"options\"] = options"
   ]
  },
  {
   "cell_type": "markdown",
   "id": "45fbfbc2-6262-4765-a9e9-fc35233c9906",
   "metadata": {},
   "source": [
    "There is also the possibility to use an optimizer define in qiskit_algorithms (https://github.com/qiskit-community/qiskit-algorithms/tree/stable/0.3/qiskit_algorithms/optimizers). To use one of them you have just te create it and then passed it in the kwargs as \"optimizer\" parameter."
   ]
  },
  {
   "cell_type": "code",
   "execution_count": 7,
   "id": "ce79fe2a-ecf2-4d78-934e-83e212252667",
   "metadata": {},
   "outputs": [],
   "source": [
    "# optimizer = SPSA()\n",
    "# kwargs = {\"optimizer\": optimizer} or kwargs[\"optimizer\"] = optimizer if kwargs already exist"
   ]
  }
 ],
 "metadata": {
  "kernelspec": {
   "display_name": "d-opti",
   "language": "python",
   "name": "d-opti"
  },
  "language_info": {
   "codemirror_mode": {
    "name": "ipython",
    "version": 3
   },
   "file_extension": ".py",
   "mimetype": "text/x-python",
   "name": "python",
   "nbconvert_exporter": "python",
   "pygments_lexer": "ipython3",
   "version": "3.12.3"
  }
 },
 "nbformat": 4,
 "nbformat_minor": 5
}
