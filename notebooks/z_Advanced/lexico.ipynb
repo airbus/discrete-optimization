{
 "cells": [
  {
   "cell_type": "markdown",
   "id": "78ea1f1e-a834-4309-97a1-6af9aff0bad1",
   "metadata": {},
   "source": [
    "# Lexicographic optimization\n",
    "\n",
    "[Lexicographic optimization](https://en.wikipedia.org/wiki/Lexicographic_optimization) is a kind of multiobjective optimization. The basic idea being that the objectives can be ranked according to their importance, and that a small improvement of the most important objective is always seen better as any improvement of the second one.\n",
    "\n",
    "In discrete-optimization, a sequential algorithm is implemented for lexicographic optimization and available with the meta-solver `LexicoSolver`.\n",
    "It is wrapping another solver, and performs sequentially mono-objective optimizations on each objective, starting from the most important, and adding a new constraint on the last objective at the end of each step, to avoid degrading it.\n",
    "\n",
    "Pseudo-code would be:\n",
    "\n",
    "```\n",
    "For each objective:\n",
    "  - optimize on it\n",
    "  - add a constraint on it to be always better than the best value found\n",
    "```"
   ]
  },
  {
   "cell_type": "markdown",
   "id": "352b4e75-2813-49f2-8f88-617591501687",
   "metadata": {},
   "source": [
    "To be used as a subsolver of `LexicoSolver` a solver needs to implement some methods. Its method `implements_lexico_api` should return `True` which means that it implements:\n",
    "- `get_lexico_objectives_available()`: list of labels available\n",
    "  corresponding to the internal objectives the solver can optimize.\n",
    "  Defaults to`problem.get_objective_names()`.\n",
    "- `set_lexico_objective()`: update the internal objective the subsolver\n",
    "  will optimize\n",
    "- `get_lexico_objective_value()`: retrieve the value of the intern\n",
    "  objective currently optimized\n",
    "- `add_lexico_constraint()`: add a constraint to the internal model\n",
    "  on the given objective to avoid worsening it."
   ]
  },
  {
   "cell_type": "markdown",
   "id": "31298420-3207-4ff8-9f09-201c18057d05",
   "metadata": {},
   "source": [
    "_**NB:** the constraints are added on the **internal** objectives of the solver. In some cases, this could be slightly different than the actual objectives computed afterwards with `rcpsp_problem.evaluate()` and stored in the result storage. So it could happen that the actual objectives worsen in a further step._"
   ]
  },
  {
   "cell_type": "markdown",
   "id": "7124ef95-42e1-46c4-92f5-8bd8b203ba5e",
   "metadata": {},
   "source": [
    "To illustrate the lexicographic solver, we will use a RCPSP problem. See the [introductory notebook on RCPSP](../RCPSP%20tutorials/RCPSP-1%20Introduction.ipynb) for further details."
   ]
  },
  {
   "cell_type": "markdown",
   "id": "6feb025f-cbe0-442d-afaa-9603024bcdd7",
   "metadata": {},
   "source": [
    "## Prerequisites\n",
    "\n",
    "Concerning the python kernel to use for this notebook:\n",
    "- If running locally, be sure to use an environment with discrete-optimization;\n",
    "- If running on colab, the next cell does it for you;\n",
    "- If running on binder, the environment should be ready.\n"
   ]
  },
  {
   "cell_type": "code",
   "execution_count": null,
   "id": "14014abe-77c7-4dff-a104-054294b1e241",
   "metadata": {},
   "outputs": [],
   "source": [
    "# On Colab: install the library\n",
    "on_colab = \"google.colab\" in str(get_ipython())\n",
    "if on_colab:\n",
    "    import sys  # noqa: avoid having this import removed by pycln\n",
    "\n",
    "    !{sys.executable} -m pip install -U pip\n",
    "\n",
    "    # uninstall google protobuf conflicting with ray and sb3\n",
    "    ! pip uninstall -y protobuf\n",
    "\n",
    "    # install dev version for dev doc, or release version for release doc\n",
    "    !{sys.executable} -m pip install git+https://github.com/airbus/discrete-optimization@master#egg=discrete-optimization"
   ]
  },
  {
   "cell_type": "markdown",
   "id": "be15f1ad-5782-425b-b5e0-d385e6a9325c",
   "metadata": {},
   "source": [
    "### Imports"
   ]
  },
  {
   "cell_type": "code",
   "execution_count": null,
   "id": "5d8cbd0a-3773-41e8-a2fe-57d05e17ab41",
   "metadata": {},
   "outputs": [],
   "source": [
    "import logging\n",
    "import random\n",
    "from typing import Optional\n",
    "\n",
    "import matplotlib.pyplot as plt\n",
    "import numpy as np\n",
    "import yaml\n",
    "\n",
    "from discrete_optimization.datasets import fetch_data_from_psplib\n",
    "from discrete_optimization.generic_tools.callbacks.callback import Callback\n",
    "from discrete_optimization.generic_tools.callbacks.loggers import ObjectiveLogger\n",
    "from discrete_optimization.generic_tools.cp_tools import ParametersCP\n",
    "from discrete_optimization.generic_tools.do_solver import SolverDO\n",
    "from discrete_optimization.generic_tools.lexico_tools import LexicoSolver\n",
    "from discrete_optimization.generic_tools.result_storage.result_storage import (\n",
    "    ResultStorage,\n",
    ")\n",
    "from discrete_optimization.rcpsp.rcpsp_parser import get_data_available, parse_file\n",
    "from discrete_optimization.rcpsp.solver.cpsat_solver import (\n",
    "    CPSatRCPSPSolverCumulativeResource,\n",
    ")\n",
    "\n",
    "seed = 8851\n",
    "np.random.seed(seed)\n",
    "random.seed(seed)"
   ]
  },
  {
   "cell_type": "markdown",
   "id": "3cae4fee-6c77-44b3-b3d6-d6776e00056f",
   "metadata": {},
   "source": [
    "### Logging configuration\n",
    "\n",
    "We want to display debug logs for discrete-optimization but not for others packages (like matplotlib). We use a logging config defined in a yaml file."
   ]
  },
  {
   "cell_type": "code",
   "execution_count": null,
   "id": "ad9c2ce3-e64f-4d3d-b9a7-1fcf5b3228ec",
   "metadata": {},
   "outputs": [],
   "source": [
    "%%writefile lexico-logging.yml\n",
    "version: 1\n",
    "formatters:\n",
    "  simple:\n",
    "    format: '%(asctime)s:%(levelname)s:%(message)s'\n",
    "handlers:\n",
    "  console:\n",
    "    class: logging.StreamHandler\n",
    "    level: DEBUG\n",
    "    formatter: simple\n",
    "    stream: ext://sys.stdout\n",
    "loggers:\n",
    "  discrete_optimization:\n",
    "    level: DEBUG\n",
    "    handlers: [console]\n",
    "    propagate: False\n",
    "root:\n",
    "  level: INFO\n",
    "  handlers: [console]"
   ]
  },
  {
   "cell_type": "code",
   "execution_count": null,
   "id": "2f28e5cb-7bce-4ffd-adf7-9e3aa1974190",
   "metadata": {},
   "outputs": [],
   "source": [
    "with open(\"lexico-logging.yml\", \"rt\") as f:\n",
    "    dico_config = yaml.safe_load(f)\n",
    "\n",
    "logging.config.dictConfig(dico_config)"
   ]
  },
  {
   "cell_type": "markdown",
   "id": "1c957942-d643-4664-9fb2-c36dee2c70dc",
   "metadata": {},
   "source": [
    "### Download datasets\n",
    "\n",
    "If not yet available, we import the datasets from [psplib](https://www.om-db.wi.tum.de/psplib/data.html)."
   ]
  },
  {
   "cell_type": "code",
   "execution_count": null,
   "id": "03c16bb2-5ecc-4c98-98d2-68c4bb898483",
   "metadata": {},
   "outputs": [],
   "source": [
    "needed_datasets = [\"j1201_1.sm\"]\n",
    "download_needed = False\n",
    "try:\n",
    "    files_available_paths = get_data_available()\n",
    "    for dataset in needed_datasets:\n",
    "        if len([f for f in files_available_paths if dataset in f]) == 0:\n",
    "            download_needed = True\n",
    "            break\n",
    "except:\n",
    "    download_needed = True\n",
    "\n",
    "if download_needed:\n",
    "    fetch_data_from_psplib()"
   ]
  },
  {
   "cell_type": "code",
   "execution_count": null,
   "id": "2f5480ab-7393-4e88-b1cc-d39769069073",
   "metadata": {},
   "outputs": [],
   "source": [
    "files_available = get_data_available()\n",
    "file = [f for f in files_available if \"j1201_1.sm\" in f][0]\n",
    "rcpsp_problem = parse_file(file)"
   ]
  },
  {
   "cell_type": "markdown",
   "id": "d4e89627-0fc4-485c-a041-a2b20828a8d3",
   "metadata": {},
   "source": [
    "## Lexico-ready subsolver \n",
    "\n",
    "We choose a solver based on [ortools cpsat](https://developers.google.com/optimization/cp/cp_solver) that has the proper methods implemented. "
   ]
  },
  {
   "cell_type": "code",
   "execution_count": null,
   "id": "7fb3c34f-3d2d-4686-b04c-42607ee78b22",
   "metadata": {},
   "outputs": [],
   "source": [
    "subsolver = CPSatRCPSPSolverCumulativeResource(problem=rcpsp_problem)\n",
    "subsolver.implements_lexico_api()"
   ]
  },
  {
   "cell_type": "markdown",
   "id": "461905b1-1a75-47f1-8022-256b812ea892",
   "metadata": {},
   "source": [
    "Le us take a look at available internal objectives:"
   ]
  },
  {
   "cell_type": "code",
   "execution_count": null,
   "id": "7ff579e2-e2e0-441e-b93d-c17adb7d36fe",
   "metadata": {},
   "outputs": [],
   "source": [
    "subsolver.get_lexico_objectives_available()"
   ]
  },
  {
   "cell_type": "markdown",
   "id": "5eeb8b4e-d114-4502-b6f7-dbe806f1701c",
   "metadata": {},
   "source": [
    "## User-defined callbacks\n",
    "\n",
    "We used the callback API (see corresponding [tutorial](./callbacks.ipynb)) to\n",
    "- store the internal objectives values at each iteration\n",
    "- remember which step corresponds to a change of objective"
   ]
  },
  {
   "cell_type": "markdown",
   "id": "efbe7665-e250-4324-8efd-d04cb193be5a",
   "metadata": {},
   "source": [
    "### Store internal objectives"
   ]
  },
  {
   "cell_type": "code",
   "execution_count": null,
   "id": "81689aa6-23a6-452a-93ae-26dda17286e7",
   "metadata": {},
   "outputs": [],
   "source": [
    "class InternalObjectivesCallback(Callback):\n",
    "    def __init__(self, objectives):\n",
    "        self.objectives = objectives\n",
    "        self.objectives_values = {obj: [] for obj in objectives}\n",
    "\n",
    "    def on_step_end(\n",
    "        self, step: int, res: ResultStorage, solver: SolverDO\n",
    "    ) -> Optional[bool]:\n",
    "        # restrict the result storage to last found solution\n",
    "        res_last = ResultStorage(mode_optim=res.mode_optim, list_solution_fits=res[-1:])\n",
    "        # get corresponding internal objective value\n",
    "        for obj in self.objectives:\n",
    "            self.objectives_values[obj].append(\n",
    "                solver.get_lexico_objective_value(obj=obj, res=res)\n",
    "            )"
   ]
  },
  {
   "cell_type": "markdown",
   "id": "4515b005-b205-4404-922b-4579945dc7e4",
   "metadata": {},
   "source": [
    "### Store objective changing steps"
   ]
  },
  {
   "cell_type": "code",
   "execution_count": null,
   "id": "2735be5e-24c0-4eac-beb0-a8ef0510686a",
   "metadata": {},
   "outputs": [],
   "source": [
    "class ObjectiveEndStepCallback(Callback):\n",
    "    def __init__(self, objectives):\n",
    "        self.objectives = objectives\n",
    "        self.objective_end_step = {}\n",
    "\n",
    "    def on_step_end(\n",
    "        self, step: int, res: ResultStorage, solver: SolverDO\n",
    "    ) -> Optional[bool]:\n",
    "        obj = self.objectives[step]\n",
    "        self.objective_end_step[obj] = len(res)"
   ]
  },
  {
   "cell_type": "markdown",
   "id": "0a48012c-6d7b-4486-a4de-c074715bf29d",
   "metadata": {},
   "source": [
    "## Lexico optimization\n"
   ]
  },
  {
   "cell_type": "code",
   "execution_count": null,
   "id": "e63d0a46-922c-456e-8f93-7b7d84a8547e",
   "metadata": {},
   "outputs": [],
   "source": [
    "solver = LexicoSolver(\n",
    "    problem=rcpsp_problem,\n",
    "    subsolver=subsolver,\n",
    ")\n",
    "solver.init_model()\n",
    "\n",
    "# order of objectives\n",
    "objectives = [\"makespan\", \"used_resource\"]\n",
    "\n",
    "# parameters passed to the subsolver\n",
    "parameters_cp = ParametersCP.default_cpsat()\n",
    "time_limit = 4  # timeout for each single-objective optimization\n",
    "ortools_cpsat_solver_kwargs = dict(random_seed=seed, num_search_workers=1)\n",
    "\n",
    "# callback to store internal objectives (for future visualization)\n",
    "internal_obj_cb = InternalObjectivesCallback(objectives)\n",
    "# callback to store objective changing steps (for future visualization)\n",
    "obj_end_step_cb = ObjectiveEndStepCallback(objectives)\n",
    "\n",
    "# lexicographic optimization\n",
    "result_storage = solver.solve(\n",
    "    subsolver_callbacks=[ObjectiveLogger(), internal_obj_cb],\n",
    "    callbacks=[obj_end_step_cb],\n",
    "    parameters_cp=parameters_cp,\n",
    "    time_limit=time_limit,\n",
    "    objectives=objectives,\n",
    ")"
   ]
  },
  {
   "cell_type": "markdown",
   "id": "d4b9e72c-0478-4551-bb84-52092c5de7e3",
   "metadata": {},
   "source": [
    "## Visualization"
   ]
  },
  {
   "cell_type": "code",
   "execution_count": null,
   "id": "863e41a6-fc7d-4617-b913-2702f1c12f8c",
   "metadata": {},
   "outputs": [],
   "source": [
    "# colors for each objective\n",
    "colors = [\"tab:blue\", \"tab:orange\"]\n",
    "\n",
    "# main axe\n",
    "fig, ax0 = plt.subplots(figsize=(10, 6))\n",
    "ax0.set_xlabel(\"Optimization steps\")\n",
    "ax0.set_title(f\"Lexicographic optimization: {objectives}\")\n",
    "\n",
    "# first objective\n",
    "ax = ax0\n",
    "i_obj = 0\n",
    "color = colors[i_obj]\n",
    "obj = objectives[i_obj]\n",
    "obj_values = internal_obj_cb.objectives_values[obj]\n",
    "x_steps = list(range(1, len(obj_values) + 1))\n",
    "ax.set_ylabel(obj, color=color)\n",
    "ax.plot(x_steps, obj_values, color=color)\n",
    "ax.tick_params(axis=\"y\", labelcolor=color)\n",
    "\n",
    "# end of single-objective optimization\n",
    "ax.axvline(obj_end_step_cb.objective_end_step[obj], color=\"grey\", linestyle=\"--\")\n",
    "\n",
    "# second objective\n",
    "ax = ax0.twinx()\n",
    "i_obj = 1\n",
    "color = colors[i_obj]\n",
    "obj = objectives[i_obj]\n",
    "obj_values = internal_obj_cb.objectives_values[obj]\n",
    "x_steps = list(range(1, len(obj_values) + 1))\n",
    "ax.set_ylabel(obj, color=color)\n",
    "ax.plot(x_steps, obj_values, color=color)\n",
    "ax.tick_params(axis=\"y\", labelcolor=color)\n",
    "\n",
    "plt.show()"
   ]
  }
 ],
 "metadata": {
  "kernelspec": {
   "display_name": "Python 3 (ipykernel)",
   "language": "python",
   "name": "python3"
  },
  "language_info": {
   "codemirror_mode": {
    "name": "ipython",
    "version": 3
   },
   "file_extension": ".py",
   "mimetype": "text/x-python",
   "name": "python",
   "nbconvert_exporter": "python",
   "pygments_lexer": "ipython3",
   "version": "3.12.2"
  }
 },
 "nbformat": 4,
 "nbformat_minor": 5
}
