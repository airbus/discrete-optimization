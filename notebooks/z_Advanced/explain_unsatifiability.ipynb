{
 "cells": [
  {
   "cell_type": "markdown",
   "id": "4e3b58ce-e9a3-441d-b764-77a9f1042bda",
   "metadata": {},
   "source": [
    "# Explaining unsatisfiability\n",
    "\n",
    "In this tutorial, we are using tools [cpmpy](https://cpmpy.readthedocs.io/en/latest/) to explain unsatifiable problems.\n",
    "\n",
    "More precisely we are using our wrapper for cpmpy `CpmpySolver` (and derived classes for specific problems) which makes use of `cpmpy.model.Model` but also of the explaining tools from `cpmpy.tools.explain`."
   ]
  },
  {
   "cell_type": "markdown",
   "id": "1b5926a3-2697-4556-bbcf-2875281a1a60",
   "metadata": {},
   "source": [
    "To illustrate it, we will use the [coloring problem](https://en.wikipedia.org/wiki/Graph_coloring): it consists in coloring vertices of a graph with the minimal number of colors, such that 2 adjacent vertices do not have the same color.\n",
    "\n",
    "<img src=\"https://upload.wikimedia.org/wikipedia/commons/9/90/Petersen_graph_3-coloring.svg\" alt=\"Petersen graph 3-coloring.svg\"  width=\"280\">"
   ]
  },
  {
   "cell_type": "markdown",
   "id": "001209f4-858f-4768-8d31-010bdb89cab4",
   "metadata": {},
   "source": [
    "## Prerequisites\n",
    "\n",
    "Concerning the python kernel to use for this notebook:\n",
    "- If running locally, be sure to use an environment with discrete-optimization;\n",
    "- If running on colab, the next cell does it for you;\n",
    "- If running on binder, the environment should be ready.\n"
   ]
  },
  {
   "cell_type": "code",
   "execution_count": null,
   "id": "0798bed2-1fcb-4cb5-b639-f1921c1e7ebb",
   "metadata": {},
   "outputs": [],
   "source": [
    "# On Colab: install the library\n",
    "on_colab = \"google.colab\" in str(get_ipython())\n",
    "if on_colab:\n",
    "    import sys  # noqa: avoid having this import removed by pycln\n",
    "\n",
    "    !{sys.executable} -m pip install -U pip\n",
    "\n",
    "    # uninstall google protobuf conflicting with ray and sb3\n",
    "    ! pip uninstall -y protobuf\n",
    "\n",
    "    # install dev version for dev doc, or release version for release doc\n",
    "    !{sys.executable} -m pip install git+https://github.com/airbus/discrete-optimization@master#egg=discrete-optimization"
   ]
  },
  {
   "cell_type": "markdown",
   "id": "fa66ff70-fcd8-4785-9591-611a246577fa",
   "metadata": {},
   "source": [
    "### Imports"
   ]
  },
  {
   "cell_type": "code",
   "execution_count": null,
   "id": "758a3e79-f2d1-4c09-81f1-533cf8378c73",
   "metadata": {},
   "outputs": [],
   "source": [
    "from discrete_optimization.coloring.parser import get_data_available, parse_file\n",
    "from discrete_optimization.coloring.plot import (\n",
    "    plot_coloring_problem,\n",
    "    plot_coloring_solution,\n",
    ")\n",
    "from discrete_optimization.coloring.solvers.cpmpy import CpmpyColoringSolver\n",
    "from discrete_optimization.datasets import fetch_data_from_coursera"
   ]
  },
  {
   "cell_type": "markdown",
   "id": "e0935b19-e9ae-4311-8760-79a3149046a7",
   "metadata": {},
   "source": [
    "### Download datasets\n",
    "\n",
    "If not yet available, we import the datasets from [coursera](https://github.com/discreteoptimization/assignment)."
   ]
  },
  {
   "cell_type": "code",
   "execution_count": null,
   "id": "8914cabf-ac3e-454e-a584-37fbcd2e3228",
   "metadata": {},
   "outputs": [],
   "source": [
    "needed_datasets = [\"gc_20_1\"]\n",
    "download_needed = False\n",
    "try:\n",
    "    files_available_paths = get_data_available()\n",
    "    for dataset in needed_datasets:\n",
    "        if len([f for f in files_available_paths if dataset in f]) == 0:\n",
    "            download_needed = True\n",
    "            break\n",
    "except:\n",
    "    download_needed = True\n",
    "\n",
    "if download_needed:\n",
    "    fetch_data_from_coursera()"
   ]
  },
  {
   "cell_type": "markdown",
   "id": "4dcbc77a-edcf-410f-adaf-ea059f53e1a1",
   "metadata": {},
   "source": [
    "### Instantiate the color problem\n",
    "\n",
    "We choose here a small problem to have solvers running fast but feel free to choose a more complex one."
   ]
  },
  {
   "cell_type": "code",
   "execution_count": null,
   "id": "31e901af-c15b-4254-a0b1-261a814f3228",
   "metadata": {},
   "outputs": [],
   "source": [
    "instance = \"gc_20_1\"\n",
    "filepath = [f for f in get_data_available() if instance in f][0]\n",
    "color_problem = parse_file(filepath)"
   ]
  },
  {
   "cell_type": "markdown",
   "id": "011fce90-64d8-4b3c-9a64-b91da653c78b",
   "metadata": {},
   "source": [
    "Let us have a look to the underlying graph:"
   ]
  },
  {
   "cell_type": "code",
   "execution_count": null,
   "id": "2afc5630-bc21-4632-ab91-c1dfdae0d234",
   "metadata": {},
   "outputs": [],
   "source": [
    "plot_coloring_problem(color_problem)"
   ]
  },
  {
   "cell_type": "markdown",
   "id": "d0923126-c908-4a77-b934-fd8004a69d6c",
   "metadata": {},
   "source": [
    "## Unsatisfiable problem\n",
    "\n",
    "To make the problem unsatisfiable, we enforce the use of only 2 colors (we know here that the optimal number of colors is 3).\n"
   ]
  },
  {
   "cell_type": "code",
   "execution_count": null,
   "id": "bb8bea85-18bc-48b0-941b-0e9d73d3c3c5",
   "metadata": {},
   "outputs": [],
   "source": [
    "solver = CpmpyColoringSolver(color_problem)\n",
    "solver.init_model(nb_colors=2)\n",
    "res = solver.solve()\n",
    "print(solver.status_solver)\n",
    "print(f\"Nb of solutions found: {len(res)}\")"
   ]
  },
  {
   "cell_type": "markdown",
   "id": "4c647b9a-e147-44da-a5b4-e5d02e64ce1c",
   "metadata": {},
   "source": [
    "## Minimal unsatisfiable subset\n",
    "We first extract a minimal subset of conflicting constraints thanks to `cpmpy.tools.explain.mus`."
   ]
  },
  {
   "cell_type": "markdown",
   "id": "49301830-6e27-4b88-a407-fdbb2438c4f7",
   "metadata": {},
   "source": [
    "### Fine constraints\n",
    "We work directly on the constraints as modelled in the cpmpy model. Here we got one constraint by edge in the graph."
   ]
  },
  {
   "cell_type": "code",
   "execution_count": null,
   "id": "43ff8456-60d6-454a-964c-e1ce7d847a8c",
   "metadata": {},
   "outputs": [],
   "source": [
    "mus = solver.explain_unsat_fine()\n",
    "mus"
   ]
  },
  {
   "cell_type": "markdown",
   "id": "d84c4556-db15-4d5d-b719-8980096d604c",
   "metadata": {},
   "source": [
    "For coloring problems we have visualization tools available.\n",
    "- we use the cpmpy wrapper to convert the constraints into edges\n",
    "- we use the coloring plot utilities to highlight the corresponding edges"
   ]
  },
  {
   "cell_type": "code",
   "execution_count": null,
   "id": "d101782a-24e5-40c2-92fc-ae891d830586",
   "metadata": {},
   "outputs": [],
   "source": [
    "mus_edges = solver.convert_constraints2edges(mus)\n",
    "plot_coloring_problem(color_problem, highlighted_edges=mus_edges)"
   ]
  },
  {
   "cell_type": "markdown",
   "id": "29764b56-b7b4-481c-ba71-b58765a4f227",
   "metadata": {},
   "source": [
    "### Meta constraints\n",
    "\n",
    "We can also work on higher level constraints called \"meta-constraints\". They are not available for all problems. It is the case for the coloring problem though.\n",
    "Le us have a look to the meta-constraints defined:"
   ]
  },
  {
   "cell_type": "code",
   "execution_count": null,
   "id": "5728b41e-0f7b-45ed-963b-c2008bb8d4db",
   "metadata": {},
   "outputs": [],
   "source": [
    "solver.get_soft_meta_constraints()  # Soft constraints are constraints that can be relaxed opposed to hard ones that are modelling choices or computation tricks."
   ]
  },
  {
   "cell_type": "markdown",
   "id": "27f6b0a4-2039-4849-b9b2-d1837ec30588",
   "metadata": {},
   "source": [
    "Here each meta-constraint gather the constraints concerning one node: all neighbours of the given node must have a different color from its own color. Note that neighbours nodes will have their corresponding meta-constraints sharing a common fine constraint (the one corresponding to the edge between the 2 nodes)."
   ]
  },
  {
   "cell_type": "code",
   "execution_count": null,
   "id": "aefcfc66-3154-495d-8fef-a7c1f30de90a",
   "metadata": {},
   "outputs": [],
   "source": [
    "metaconstraint = solver.get_soft_meta_constraints()[2]\n",
    "print(metaconstraint.name)\n",
    "metaconstraint.constraints"
   ]
  },
  {
   "cell_type": "markdown",
   "id": "32cbd825-5bdc-448c-aa00-45ce14964e71",
   "metadata": {},
   "source": [
    "We can query for a minimal subset of meta-constraints explaining the unsatisfiability:"
   ]
  },
  {
   "cell_type": "code",
   "execution_count": null,
   "id": "974b03fb-974a-4242-b965-a548974d836e",
   "metadata": {},
   "outputs": [],
   "source": [
    "meta_mus = solver.explain_unsat_meta()\n",
    "meta_mus"
   ]
  },
  {
   "cell_type": "markdown",
   "id": "dfcbf37c-836a-4e89-bff6-473356f47ef3",
   "metadata": {},
   "source": [
    "We can again visualize the subset on the graph:\n",
    "- we use the cpmpy wrapper to convert the meta-constraints into nodes\n",
    "- we use the coloring plot utilities to highlight the corresponding nodes"
   ]
  },
  {
   "cell_type": "code",
   "execution_count": null,
   "id": "0ff88fc3-a98b-4219-ab42-9822eaa09eee",
   "metadata": {},
   "outputs": [],
   "source": [
    "meta_mus_nodes = solver.convert_metaconstraints2nodes(meta_mus)\n",
    "plot_coloring_problem(color_problem, highlighted_nodes=meta_mus_nodes)"
   ]
  },
  {
   "cell_type": "markdown",
   "id": "ed9aad0e-d4b5-4a9c-917c-e63e726e9cce",
   "metadata": {},
   "source": [
    "## Minimal correction subset\n",
    "\n",
    "We can now extract a minmal subset of constraints correcting the problem. This means that without these constraints the problem can be solved. Once again there are two versions: with the fine constraints or the meta-constraints."
   ]
  },
  {
   "cell_type": "markdown",
   "id": "85c59f32-2200-454e-9641-237328eb4e27",
   "metadata": {},
   "source": [
    "### Fine constraints"
   ]
  },
  {
   "cell_type": "code",
   "execution_count": null,
   "id": "12d282d3-f069-41d6-a22c-935aab6889a1",
   "metadata": {},
   "outputs": [],
   "source": [
    "mcs = solver.correct_unsat_fine()\n",
    "mcs"
   ]
  },
  {
   "cell_type": "markdown",
   "id": "cc63a1bc-34b2-4661-bae0-d49c951f9674",
   "metadata": {},
   "source": [
    "Let us visualize the correction subset"
   ]
  },
  {
   "cell_type": "code",
   "execution_count": null,
   "id": "e7cfc38c-2042-4b76-ad8f-a9927c586929",
   "metadata": {},
   "outputs": [],
   "source": [
    "mcs_edges = solver.convert_constraints2edges(mcs)\n",
    "plot_coloring_problem(\n",
    "    color_problem,\n",
    "    highlighted_edges=mcs_edges,\n",
    "    highlighted_edge_style=dict(edge_color=\"r\", width=2, style=\"dashed\"),\n",
    ")"
   ]
  },
  {
   "cell_type": "markdown",
   "id": "2ebdadde-91f4-45af-82cb-304b9c8f0f0a",
   "metadata": {},
   "source": [
    "Let us confirm that by removing the constraints we make the problem feasible."
   ]
  },
  {
   "cell_type": "code",
   "execution_count": null,
   "id": "ad96d78f-a8f1-4698-8cae-becb272c870f",
   "metadata": {},
   "outputs": [],
   "source": [
    "# NB: solver.model.constraints.remove(cstr) not working as expected\n",
    "constraints_mcs_ids = {id(c) for c in mcs}\n",
    "solver.model.constraints = [\n",
    "    c for c in solver.model.constraints if id(c) not in constraints_mcs_ids\n",
    "]\n",
    "res = solver.solve()\n",
    "print(solver.status_solver)\n",
    "print(f\"Nb of solutions found: {len(res)}\")"
   ]
  },
  {
   "cell_type": "code",
   "execution_count": null,
   "id": "975e8a22-b815-4893-9823-f5842adfeca4",
   "metadata": {},
   "outputs": [],
   "source": [
    "sol = res.get_best_solution()\n",
    "plot_coloring_solution(\n",
    "    sol,\n",
    "    highlighted_edges=mcs_edges,\n",
    ")"
   ]
  },
  {
   "cell_type": "markdown",
   "id": "12e63665-ecb9-4a13-a36a-04bec9395540",
   "metadata": {},
   "source": [
    "### Meta constraints"
   ]
  },
  {
   "cell_type": "markdown",
   "id": "7dbc98aa-a88c-456b-b374-e5376adab1ab",
   "metadata": {},
   "source": [
    "We first reinitialize the solver and try to solve it to be in a unsatisfiable situation.\n",
    "(Else we cannot call `correct_unsat_meta()`, nor `correct_unsat_fine()`, `explain_unsat_meta()`, and `explain_unsat_fine()`.)"
   ]
  },
  {
   "cell_type": "code",
   "execution_count": null,
   "id": "fd362ff8-96fe-4faf-8af8-7550d6b67b66",
   "metadata": {},
   "outputs": [],
   "source": [
    "solver = CpmpyColoringSolver(color_problem)\n",
    "solver.init_model(nb_colors=2)\n",
    "solver.solve()\n",
    "print(solver.status_solver)"
   ]
  },
  {
   "cell_type": "markdown",
   "id": "c3b4685b-ef37-4bc1-8f5f-6ae328026356",
   "metadata": {},
   "source": [
    "The correcting subset:"
   ]
  },
  {
   "cell_type": "code",
   "execution_count": null,
   "id": "ae07f9af-2812-4284-831b-2d4bee58f51c",
   "metadata": {},
   "outputs": [],
   "source": [
    "meta_mcs = solver.correct_unsat_meta()\n",
    "meta_mcs"
   ]
  },
  {
   "cell_type": "markdown",
   "id": "11cd22e3-5faf-4fca-af68-1250e3dbb259",
   "metadata": {},
   "source": [
    "Let us visualize the correction subset"
   ]
  },
  {
   "cell_type": "code",
   "execution_count": null,
   "id": "cbf9f289-5fdd-4dfd-8f51-721fed85dda1",
   "metadata": {},
   "outputs": [],
   "source": [
    "meta_mcs_nodes = solver.convert_metaconstraints2nodes(meta_mcs)\n",
    "plot_coloring_problem(\n",
    "    color_problem,\n",
    "    highlighted_nodes=meta_mcs_nodes,\n",
    ")"
   ]
  },
  {
   "cell_type": "markdown",
   "id": "60272f24-4e9c-4ac3-85e3-b7a583f3bfef",
   "metadata": {},
   "source": [
    "We solve without the corresponding constraints (all subconstraints covered by the meta-constraints)."
   ]
  },
  {
   "cell_type": "code",
   "execution_count": null,
   "id": "38847f81-30ec-4043-b9ca-63b9008ec3ef",
   "metadata": {},
   "outputs": [],
   "source": [
    "subconstraints_mcs_ids = set()\n",
    "for meta in meta_mcs:\n",
    "    subconstraints_mcs_ids.update({id(c) for c in meta.constraints})\n",
    "solver.model.constraints = [\n",
    "    c for c in solver.model.constraints if id(c) not in subconstraints_mcs_ids\n",
    "]\n",
    "res = solver.solve()\n",
    "print(solver.status_solver)\n",
    "print(f\"Nb of solutions found: {len(res)}\")"
   ]
  },
  {
   "cell_type": "code",
   "execution_count": null,
   "id": "1fce989f-502b-4f7b-9024-e0e099677d59",
   "metadata": {},
   "outputs": [],
   "source": [
    "sol = res.get_best_solution()\n",
    "plot_coloring_solution(\n",
    "    sol,\n",
    "    highlighted_nodes=meta_mcs_nodes,\n",
    ")"
   ]
  }
 ],
 "metadata": {
  "kernelspec": {
   "display_name": "Python 3 (ipykernel)",
   "language": "python",
   "name": "python3"
  },
  "language_info": {
   "codemirror_mode": {
    "name": "ipython",
    "version": 3
   },
   "file_extension": ".py",
   "mimetype": "text/x-python",
   "name": "python",
   "nbconvert_exporter": "python",
   "pygments_lexer": "ipython3",
   "version": "3.12.2"
  }
 },
 "nbformat": 4,
 "nbformat_minor": 5
}
