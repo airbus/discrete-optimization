{
 "cells": [
  {
   "cell_type": "markdown",
   "id": "4e5c98a1-76cb-45ce-8a1d-b20a2ac94626",
   "metadata": {},
   "source": [
    "# Callbacks usage\n",
    "\n",
    "When using discrete-optimization to solve a problem, \n",
    "it is possible to execute your own code at various stage of the solving process.\n",
    "\n",
    "\n",
    "To achieve that, you have to\n",
    "-  either create your own callback by inheriting from [Callback](https://airbus.github.io/discrete-optimization/master/api/discrete_optimization.generic_tools.callbacks.html#discrete_optimization.generic_tools.callbacks.callback.Callback) base class,\n",
    "  and implementing the hooks you need\n",
    "- or directly use one of the already implemented ones available in discrete_optimization.generic_tools.callbacks submodules\n",
    "  (like\n",
    "  [loggers](https://airbus.github.io/discrete-optimization/master/api/discrete_optimization.generic_tools.callbacks.html#module-discrete_optimization.generic_tools.callbacks.loggers),\n",
    "  [early_stoppers](https://airbus.github.io/discrete-optimization/master/api/discrete_optimization.generic_tools.callbacks.html#module-discrete_optimization.generic_tools.callbacks.early_stoppers),\n",
    "  or [optuna](https://airbus.github.io/discrete-optimization/master/api/discrete_optimization.generic_tools.callbacks.html#module-discrete_optimization.generic_tools.callbacks.optuna)\n",
    "  )\n",
    "- and put them in `callbacks` argument of `SolverDO.solve()`, as shown in the [API doc](https://airbus.github.io/discrete-optimization/master/api/discrete_optimization.generic_tools.html#discrete_optimization.generic_tools.do_solver.SolverDO.solve).\n",
    "\n",
    "The main usecases for using a callback are\n",
    "- Logging: you need to display more information about what happens during the solving process;\n",
    "- Backuping: you need to store a model at an intermediate stage;\n",
    "- Early stopping: you want to stop the solving process under your own specific condition, not available in the solver api;\n",
    "- [Tuning hyperparameters with Optuna](./optuna.ipynb): you want let Optuna having access to intermediate results so that it can decide whether to drop the current trial.\n",
    "  (See dedicated notebook.)\n"
   ]
  },
  {
   "cell_type": "markdown",
   "id": "8c9f1e1d-f362-4f04-bfe3-47bd8852bed8",
   "metadata": {},
   "source": [
    "Here we are using the knapsack problem, already presented in a [dedicated notebook](../Knapsack%20tutorial.ipynb). For details about the problem and the solvers used, please refer to it."
   ]
  },
  {
   "cell_type": "markdown",
   "id": "d8944fda-94b5-444a-bd5f-2a5178d53990",
   "metadata": {},
   "source": [
    "## Prerequisites\n",
    "\n",
    "Concerning the python kernel to use for this notebook:\n",
    "- If running locally, be sure to use an environment with discrete-optimization and minizinc.\n",
    "- If running on colab, the next cell does it for you.\n",
    "- If running on binder, the environment should be ready.\n"
   ]
  },
  {
   "cell_type": "code",
   "execution_count": null,
   "id": "222f6a8f-d0e9-4e95-8cf5-c5882747e710",
   "metadata": {},
   "outputs": [],
   "source": [
    "# On Colab: install the library\n",
    "on_colab = \"google.colab\" in str(get_ipython())\n",
    "if on_colab:\n",
    "    import importlib\n",
    "    import os\n",
    "    import sys  # noqa: avoid having this import removed by pycln\n",
    "\n",
    "    !{sys.executable} -m pip install -U pip\n",
    "\n",
    "    # uninstall google protobuf conflicting with ray and sb3\n",
    "    ! pip uninstall -y protobuf\n",
    "\n",
    "    # install dev version for dev doc, or release version for release doc\n",
    "    !{sys.executable} -m pip install git+https://github.com/airbus/discrete-optimization@master#egg=discrete-optimization\n",
    "\n",
    "    # be sure to load the proper cffi (downgraded compared to the one initially on colab)\n",
    "    import cffi\n",
    "\n",
    "    importlib.reload(cffi)\n",
    "\n",
    "    # install and configure minizinc\n",
    "    !curl -o minizinc.AppImage -L https://github.com/MiniZinc/MiniZincIDE/releases/download/2.6.3/MiniZincIDE-2.6.3-x86_64.AppImage\n",
    "    !chmod +x minizinc.AppImage\n",
    "    !./minizinc.AppImage --appimage-extract\n",
    "    os.environ[\"PATH\"] = f\"{os.getcwd()}/squashfs-root/usr/bin/:{os.environ['PATH']}\"\n",
    "    os.environ[\"LD_LIBRARY_PATH\"] = (\n",
    "        f\"{os.getcwd()}/squashfs-root/usr/lib/:{os.environ['LD_LIBRARY_PATH']}\"\n",
    "    )"
   ]
  },
  {
   "cell_type": "markdown",
   "id": "8f60b6ee-f58a-4ad1-93f7-c56fefdf344d",
   "metadata": {},
   "source": [
    "### Imports"
   ]
  },
  {
   "cell_type": "code",
   "execution_count": null,
   "id": "1d9d36f5",
   "metadata": {},
   "outputs": [],
   "source": [
    "from __future__ import annotations\n",
    "\n",
    "import logging\n",
    "import random\n",
    "\n",
    "import nest_asyncio\n",
    "import numpy as np\n",
    "\n",
    "from discrete_optimization.datasets import fetch_data_from_coursera\n",
    "from discrete_optimization.generic_tools.callbacks.callback import Callback\n",
    "from discrete_optimization.generic_tools.callbacks.early_stoppers import TimerStopper\n",
    "from discrete_optimization.generic_tools.callbacks.loggers import ObjectiveLogger\n",
    "from discrete_optimization.generic_tools.cp_tools import CPSolverName, ParametersCP\n",
    "from discrete_optimization.generic_tools.do_problem import get_default_objective_setup\n",
    "from discrete_optimization.generic_tools.lns_cp import LNS_CP\n",
    "from discrete_optimization.knapsack.knapsack_parser import (\n",
    "    get_data_available,\n",
    "    parse_file,\n",
    ")\n",
    "from discrete_optimization.knapsack.solvers.cp_solvers import CPKnapsackMZN2\n",
    "from discrete_optimization.knapsack.solvers.knapsack_lns_cp_solver import (\n",
    "    ConstraintHandlerKnapsack,\n",
    ")\n",
    "from discrete_optimization.knapsack.solvers.knapsack_lns_solver import (\n",
    "    InitialKnapsackMethod,\n",
    "    InitialKnapsackSolution,\n",
    ")\n",
    "\n",
    "# patch asyncio so that applications using async functions can run in jupyter\n",
    "nest_asyncio.apply()\n",
    "\n",
    "# set logging level\n",
    "logging.basicConfig(level=logging.WARNING, format=\"%(asctime)s:%(message)s\")"
   ]
  },
  {
   "cell_type": "markdown",
   "id": "2a9731bf-3aae-407a-8d01-91fedb5217ad",
   "metadata": {},
   "source": [
    "### Download datasets\n",
    "\n",
    "If not yet available, we import the datasets from [coursera](https://github.com/discreteoptimization/assignment)."
   ]
  },
  {
   "cell_type": "code",
   "execution_count": null,
   "id": "f4df9bb9",
   "metadata": {},
   "outputs": [],
   "source": [
    "needed_datasets = [\"ks_500_0\"]\n",
    "download_needed = False\n",
    "try:\n",
    "    files_available_paths = get_data_available()\n",
    "    for dataset in needed_datasets:\n",
    "        if len([f for f in files_available_paths if dataset in f]) == 0:\n",
    "            download_needed = True\n",
    "            break\n",
    "except:\n",
    "    download_needed = True\n",
    "\n",
    "if download_needed:\n",
    "    fetch_data_from_coursera()"
   ]
  },
  {
   "cell_type": "markdown",
   "id": "0703bedd-bdd0-48a2-9d1a-701cf87b0b80",
   "metadata": {},
   "source": [
    "We will use the dataset [ks_500_0](https://github.com/discreteoptimization/assignment/blob/master/knapsack/data/ks_500_0) where we have 500 items at hand to put in the knapsack."
   ]
  },
  {
   "cell_type": "code",
   "execution_count": null,
   "id": "365562ca-6a60-4ef5-a255-79f5ddad6b23",
   "metadata": {},
   "outputs": [],
   "source": [
    "files_available_paths = get_data_available()\n",
    "model_file = [f for f in files_available_paths if \"ks_500_0\" in f][0]\n",
    "model = parse_file(model_file, force_recompute_values=True)\n",
    "print(type(model))"
   ]
  },
  {
   "cell_type": "markdown",
   "id": "2bf55749-4a60-4c18-a0ce-86c487eec33a",
   "metadata": {},
   "source": [
    "### Set random seed\n",
    "\n",
    "If reproducible results are wanted, we can fix the random seed."
   ]
  },
  {
   "cell_type": "code",
   "execution_count": null,
   "id": "b68de4dd",
   "metadata": {},
   "outputs": [],
   "source": [
    "def set_random_seed(seed=42):\n",
    "    random.seed(seed)\n",
    "    np.random.seed(seed)\n",
    "\n",
    "\n",
    "set_random_seed()"
   ]
  },
  {
   "cell_type": "markdown",
   "id": "c5468460-7365-4574-8916-356d2f9f7955",
   "metadata": {},
   "source": [
    "## Using existing callbacks\n",
    "\n",
    "We first show how to plug already existing callbacks."
   ]
  },
  {
   "cell_type": "markdown",
   "id": "40e61c5f-fe2d-4224-8bb2-612d4855b4f6",
   "metadata": {},
   "source": [
    "We initialize a solver where we will plug the callbacks."
   ]
  },
  {
   "cell_type": "code",
   "execution_count": null,
   "id": "283c4604-2d6d-4995-9f2e-c57bc4557b12",
   "metadata": {},
   "outputs": [],
   "source": [
    "set_random_seed()\n",
    "params_objective_function = get_default_objective_setup(problem=model)\n",
    "params_cp = ParametersCP.default()\n",
    "params_cp.time_limit = 5\n",
    "params_cp.time_limit_iter0 = 5\n",
    "nb_iteration_lns = 5\n",
    "\n",
    "# Base CP solver.\n",
    "cp_solver = CPKnapsackMZN2(\n",
    "    model,\n",
    "    cp_solver_name=CPSolverName.CHUFFED,\n",
    "    params_objective_function=params_objective_function,\n",
    ")\n",
    "\n",
    "# initial solution: DUMMY corresponds to a starting solution filled with 0!\n",
    "initial_solution_provider = InitialKnapsackSolution(\n",
    "    problem=model,\n",
    "    initial_method=InitialKnapsackMethod.DUMMY,\n",
    "    params_objective_function=params_objective_function,\n",
    ")\n",
    "\n",
    "# constraint handler: will fix 80% of variables to current solution.\n",
    "constraint_handler = ConstraintHandlerKnapsack(problem=model, fraction_to_fix=0.8)\n",
    "\n",
    "# LNS Solver.\n",
    "lns_solver = LNS_CP(\n",
    "    problem=model,\n",
    "    cp_solver=cp_solver,\n",
    "    initial_solution_provider=initial_solution_provider,\n",
    "    constraint_handler=constraint_handler,\n",
    "    params_objective_function=params_objective_function,\n",
    ")"
   ]
  },
  {
   "cell_type": "markdown",
   "id": "496d3dbf-486c-48e3-a021-962334e19198",
   "metadata": {},
   "source": [
    "### Logger\n",
    "\n",
    "In this first example, we add a callback that will track the current iteration and display the current objective.\n",
    "We set the logging level to warning, because the lns solver used here produced already a lot of log at info level \n",
    "and we wish to show you only the information displayed by our callback.\n",
    "\n",
    "To plug the callback, we only need to specify it in `solve()` `callbacks` argument."
   ]
  },
  {
   "cell_type": "code",
   "execution_count": null,
   "id": "8fbbfcd8-4825-4eb1-a437-54c79a9b2431",
   "metadata": {},
   "outputs": [],
   "source": [
    "# callbacks\n",
    "tracker = ObjectiveLogger(\n",
    "    step_verbosity_level=logging.WARNING, end_verbosity_level=logging.WARNING\n",
    ")\n",
    "\n",
    "# solve\n",
    "set_random_seed()\n",
    "result_lns = lns_solver.solve(\n",
    "    parameters_cp=params_cp, nb_iteration_lns=nb_iteration_lns, callbacks=tracker\n",
    ")"
   ]
  },
  {
   "cell_type": "markdown",
   "id": "09b4fd29-cf63-4f3a-a5fe-121a1f27dfa1",
   "metadata": {},
   "source": [
    "Note that we have here 6 iterations logged even though we set `nb_iteration_lns = 5`.\n",
    "\n",
    "This is because the callback is called already at the end of the initial CP solve, \n",
    "which is not counted for `nb_iteration_lns` by `LNS_CP` solver."
   ]
  },
  {
   "cell_type": "markdown",
   "id": "cac284c8-822c-4457-a48d-70e69645d281",
   "metadata": {},
   "source": [
    "### Timer\n",
    "Here we use a callback that can stop the solving process after a given timeout. \n",
    "\n",
    "More precisely, as it is called only at the end of an iteration, \n",
    "this will stop whenever an iteration finishes after the given elapsed time since the start of the solving process.\n",
    "\n",
    "As we want to plug several callbacks, we need to pass them as a list."
   ]
  },
  {
   "cell_type": "code",
   "execution_count": null,
   "id": "ad51bf3e-14b2-473a-aea7-88de75a21bbd",
   "metadata": {},
   "outputs": [],
   "source": [
    "# callbacks\n",
    "tracker = ObjectiveLogger(\n",
    "    step_verbosity_level=logging.WARNING, end_verbosity_level=logging.WARNING\n",
    ")\n",
    "timer = TimerStopper(total_seconds=10)\n",
    "callbacks = [tracker, timer]\n",
    "\n",
    "# solve\n",
    "set_random_seed()\n",
    "result_lns = lns_solver.solve(\n",
    "    parameters_cp=params_cp, nb_iteration_lns=nb_iteration_lns, callbacks=callbacks\n",
    ")"
   ]
  },
  {
   "cell_type": "markdown",
   "id": "2d10cad7-5d5d-411c-aa6b-197fa793173b",
   "metadata": {},
   "source": [
    "## Implementing its own callback\n",
    "\n",
    "You can implement your own callback to display specific information at each step or stops the solving process at your own particular condition.\n",
    "\n",
    "First you need to derive from the base class `Callback`, and then implement one, or several methods depending on \n",
    "which points you need to hook to execute your code:\n",
    "\n",
    "- start of solve: `on_solve_start()`\n",
    "- end of solve: `on_solve_end()`\n",
    "- end of a step in the optimization process: `on_step_end()`, and you need to return `True` to stop the solving process\n",
    "\n"
   ]
  },
  {
   "cell_type": "code",
   "execution_count": null,
   "id": "ee325cab-fc35-45e0-ba81-afd545c64818",
   "metadata": {},
   "outputs": [],
   "source": [
    "class MyCallback(Callback):\n",
    "    \"\"\"Custom callback\n",
    "\n",
    "    We print the number of items taken at each iteration\n",
    "    and stop whenever at least 15 items have been taken.\n",
    "\n",
    "    \"\"\"\n",
    "\n",
    "    def on_step_end(\n",
    "        self, step: int, res: ResultStorage, solver: SolverDO\n",
    "    ) -> Optional[bool]:\n",
    "        \"\"\"Called at the end of an optimization step.\n",
    "\n",
    "        Args:\n",
    "            step: index of step\n",
    "            res: current result storage\n",
    "            solver: solvers using the callback\n",
    "\n",
    "        Returns:\n",
    "            If `True`, the optimization process is stopped, else it goes on.\n",
    "\n",
    "        \"\"\"\n",
    "        sol, fit = res.get_best_solution_fit()\n",
    "        nb_items = sum(sol.list_taken)\n",
    "        print(f\"Number of items: {nb_items}\")\n",
    "\n",
    "        # we stop if at least 15 items have been taken\n",
    "        stopping = nb_items >= 15\n",
    "\n",
    "        return stopping"
   ]
  },
  {
   "cell_type": "code",
   "execution_count": null,
   "id": "40a92fa5-396a-41be-9ec8-9130fd6b564c",
   "metadata": {},
   "outputs": [],
   "source": [
    "# callbacks\n",
    "tracker = ObjectiveLogger(\n",
    "    step_verbosity_level=logging.WARNING, end_verbosity_level=logging.WARNING\n",
    ")\n",
    "timer = TimerStopper(total_seconds=30)\n",
    "mycallback = MyCallback()\n",
    "callbacks = [tracker, timer, mycallback]\n",
    "\n",
    "# solve\n",
    "set_random_seed()\n",
    "result_lns = lns_solver.solve(\n",
    "    parameters_cp=params_cp, nb_iteration_lns=nb_iteration_lns, callbacks=callbacks\n",
    ")"
   ]
  }
 ],
 "metadata": {
  "kernelspec": {
   "display_name": "Python 3 (ipykernel)",
   "language": "python",
   "name": "python3"
  },
  "language_info": {
   "codemirror_mode": {
    "name": "ipython",
    "version": 3
   },
   "file_extension": ".py",
   "mimetype": "text/x-python",
   "name": "python",
   "nbconvert_exporter": "python",
   "pygments_lexer": "ipython3",
   "version": "3.8.18"
  }
 },
 "nbformat": 4,
 "nbformat_minor": 5
}
