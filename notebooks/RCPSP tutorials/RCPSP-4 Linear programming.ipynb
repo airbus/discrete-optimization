{
 "cells": [
  {
   "cell_type": "markdown",
   "id": "2abb0ff7",
   "metadata": {},
   "source": [
    "# Solve RCPSP by linear programming: MILP\n",
    "\n",
    "We admit that you followed the [first notebook](RCPSP%20%231%20Introduction.ipynb) that introduced you all the basics for RCPSP Problems, on which we will apply here linear programming.\n",
    "\n",
    "Linear programming is a paradigm to model optimisation problem where the objective function and constraints are linear in terms of the variables : \n",
    "\n",
    "$ y = max_{x}(c^t.x) $\n",
    "such that $A.x \\leq b $\n",
    "\n",
    "$x$ can be either floating or integer values, which explains the Mixed Integer Linear Programming denomination."
   ]
  },
  {
   "cell_type": "code",
   "execution_count": null,
   "id": "eb8c79db",
   "metadata": {},
   "outputs": [],
   "source": [
    "import logging\n",
    "\n",
    "import nest_asyncio\n",
    "\n",
    "# patch asyncio so that applications using async functions can run in jupyter\n",
    "nest_asyncio.apply()\n",
    "\n",
    "# set logging level\n",
    "logging.basicConfig(level=logging.INFO)"
   ]
  },
  {
   "cell_type": "markdown",
   "id": "3abee795",
   "metadata": {},
   "source": [
    "## Parsing model"
   ]
  },
  {
   "cell_type": "code",
   "execution_count": null,
   "id": "bbe176a2",
   "metadata": {},
   "outputs": [],
   "source": [
    "from discrete_optimization.rcpsp.rcpsp_parser import get_data_available, parse_file\n",
    "\n",
    "# Parse some rcpsp file\n",
    "filepath = [f for f in get_data_available() if \"j601_1.sm\" in f][0]\n",
    "rcpsp_problem = parse_file(filepath)"
   ]
  },
  {
   "cell_type": "markdown",
   "id": "510a98ab",
   "metadata": {},
   "source": [
    "## LP Solver "
   ]
  },
  {
   "cell_type": "code",
   "execution_count": null,
   "id": "c5af7be7",
   "metadata": {},
   "outputs": [],
   "source": [
    "from discrete_optimization.rcpsp.solver.rcpsp_lp_solver import LP_RCPSP, ParametersMilp"
   ]
  },
  {
   "cell_type": "markdown",
   "id": "cd02ce1f",
   "metadata": {},
   "source": [
    "We have a few MILP model/solver available for single mode RCPSP, ```LP_RCPSP``` and ```LP_MRCPSP``` are using [mip](https://www.python-mip.com) python library and are adapted to single and multimode RCPSP.\n",
    "```LP_MRCPSP_GUROBI``` is using gurobi solver and can be used if you have the required licence. In this notebook we'll use open source solver ```CBC``` via the `mip` based solver."
   ]
  },
  {
   "cell_type": "markdown",
   "id": "c7ce5fc6",
   "metadata": {},
   "source": [
    "The LP modelling of the problem is based on time-indexed binary variable : $x[task, time]$ indicates if the given task is started at the given time.\n",
    "Constraints of *RCPSP* can be then written with a bit of effort. The LP models are written in ```model.init_model``` function of the solvers.\n",
    "\n",
    "If we note $c(task, r)$ the consumption of ressource $r$ of a task and $cap(r)$ the capacity of the resource $r$ : \n",
    "\n",
    "- Precedence constraints \n",
    "$\\forall t_1, \\forall t_2 \\in \\text{successors}(t_1) \\sum_{t} t.x[t_2,t] \\geq \\sum_{t} t.x[t_1,t]$\n",
    "- Cumulative constraints\n",
    "$\\forall r \\in \\text{ressources}, \\forall t\\in[0,horizon] \\sum_{task}c(task,r)*\\sum_{t'\\in[t-dur(task)+1, t]}x[task,t'] \\leq cap(r)$\n",
    "Here the second sum represents the fact that the task is running at time $t$ and thus is contributing by $c(task,r)$ to the resource co\n"
   ]
  },
  {
   "cell_type": "code",
   "execution_count": null,
   "id": "cd89fb09",
   "metadata": {},
   "outputs": [],
   "source": [
    "solver = LP_RCPSP(problem=rcpsp_problem)\n",
    "parameters_milp = ParametersMilp.default()\n",
    "solver.init_model(greedy_start=True)\n",
    "results = solver.solve(parameters_milp=parameters_milp)"
   ]
  },
  {
   "cell_type": "markdown",
   "id": "1052157f",
   "metadata": {},
   "source": [
    "### Plot the quality of solutions found by LP solver"
   ]
  },
  {
   "cell_type": "code",
   "execution_count": null,
   "id": "716a6ea5",
   "metadata": {},
   "outputs": [],
   "source": [
    "%matplotlib notebook\n",
    "import matplotlib.pyplot as plt\n",
    "\n",
    "fig, ax = plt.subplots(1)\n",
    "ax.plot([x[1] for x in results.list_solution_fits[::-1]], marker=\"o\")\n",
    "ax.set_ylabel(\"- makespan\")\n",
    "ax.set_xlabel(\"# solution found\")\n",
    "plt.show()"
   ]
  },
  {
   "cell_type": "code",
   "execution_count": null,
   "id": "c11054f8",
   "metadata": {},
   "outputs": [],
   "source": [
    "# Retrieve the best_solution, fit found by the solver.\n",
    "best_solution, fit = results.get_best_solution_fit()\n",
    "# Print fitness\n",
    "print(fit)\n",
    "# Check if the solution satisfies the constraints\n",
    "print(\"Satisfaction :\", rcpsp_problem.satisfy(best_solution))\n",
    "# Evaluation :\n",
    "print(\"Evaluation :\", rcpsp_problem.evaluate(best_solution))"
   ]
  },
  {
   "cell_type": "markdown",
   "id": "86bbb328",
   "metadata": {},
   "source": [
    "### Plot the solution"
   ]
  },
  {
   "cell_type": "code",
   "execution_count": null,
   "id": "705581c8",
   "metadata": {},
   "outputs": [],
   "source": [
    "from discrete_optimization.rcpsp.rcpsp_utils import plot_ressource_view\n",
    "\n",
    "plot_ressource_view(rcpsp_model=rcpsp_problem, rcpsp_sol=best_solution)\n",
    "# plot_task_gantt(rcpsp_model=rcpsp_problem, rcpsp_sol=best_solution)"
   ]
  },
  {
   "cell_type": "markdown",
   "id": "ae968f54",
   "metadata": {},
   "source": [
    "Linear programming is a suitable solving approach for scheduling approaches, though it can lead to some bottlenecks when number of variables increase : here the time indexed approach would lose efficiency when the horizon is one order of magnitude higher !\n",
    "Other linear formulation could be implemented that has better scaling property."
   ]
  }
 ],
 "metadata": {
  "kernelspec": {
   "display_name": "Python 3 (ipykernel)",
   "language": "python",
   "name": "python3"
  },
  "language_info": {
   "codemirror_mode": {
    "name": "ipython",
    "version": 3
   },
   "file_extension": ".py",
   "mimetype": "text/x-python",
   "name": "python",
   "nbconvert_exporter": "python",
   "pygments_lexer": "ipython3",
   "version": "3.8.11"
  },
  "toc": {
   "base_numbering": 1,
   "nav_menu": {},
   "number_sections": true,
   "sideBar": true,
   "skip_h1_title": true,
   "title_cell": "Table of Contents",
   "title_sidebar": "Contents",
   "toc_cell": false,
   "toc_position": {},
   "toc_section_display": true,
   "toc_window_display": true
  }
 },
 "nbformat": 4,
 "nbformat_minor": 5
}
