{
 "cells": [
  {
   "cell_type": "markdown",
   "id": "f69a3b12",
   "metadata": {},
   "source": [
    "# Solving RCPSP with heuristics\n",
    "\n",
    "We admit that you followed the following [notebook](RCPSP%20%231%20Introduction.ipynb) that introduced you all the basics for RCPSP Problems, in this notebook we will test two greedy heuristics that builds feasible solution."
   ]
  },
  {
   "cell_type": "markdown",
   "id": "00cf9c75-84ad-4324-8063-2a1d330dbcdb",
   "metadata": {},
   "source": [
    "## Prerequisites\n",
    "\n",
    "Concerning the python kernel to use for this notebook:\n",
    "- If running locally, be sure to use an environment with discrete-optimization and minizinc.\n",
    "- If running on colab, the next cell does it for you.\n",
    "- If running on binder, the environment should be ready.\n"
   ]
  },
  {
   "cell_type": "code",
   "execution_count": null,
   "id": "554ceb6e-b5aa-4c41-b542-7d98d2dda9da",
   "metadata": {},
   "outputs": [],
   "source": [
    "# On Colab: install the library\n",
    "on_colab = \"google.colab\" in str(get_ipython())\n",
    "if on_colab:\n",
    "    import importlib\n",
    "    import os\n",
    "    import sys  # noqa: avoid having this import removed by pycln\n",
    "\n",
    "    !{sys.executable} -m pip install -U pip\n",
    "\n",
    "    # uninstall google protobuf conflicting with ray and sb3\n",
    "    ! pip uninstall -y protobuf\n",
    "\n",
    "    # install dev version for dev doc, or release version for release doc\n",
    "    !{sys.executable} -m pip install git+https://github.com/airbus/discrete-optimization@master#egg=discrete-optimization\n",
    "\n",
    "    # be sure to load the proper cffi (downgraded compared to the one initially on colab)\n",
    "    import cffi\n",
    "\n",
    "    importlib.reload(cffi)\n",
    "\n",
    "    # install and configure minizinc\n",
    "    !curl -o minizinc.AppImage -L https://github.com/MiniZinc/MiniZincIDE/releases/download/2.6.3/MiniZincIDE-2.6.3-x86_64.AppImage\n",
    "    !chmod +x minizinc.AppImage\n",
    "    !./minizinc.AppImage --appimage-extract\n",
    "    os.environ[\"PATH\"] = f\"{os.getcwd()}/squashfs-root/usr/bin/:{os.environ['PATH']}\"\n",
    "    os.environ[\"LD_LIBRARY_PATH\"] = (\n",
    "        f\"{os.getcwd()}/squashfs-root/usr/lib/:{os.environ['LD_LIBRARY_PATH']}\"\n",
    "    )"
   ]
  },
  {
   "cell_type": "markdown",
   "id": "17a05859",
   "metadata": {},
   "source": [
    "### Imports"
   ]
  },
  {
   "cell_type": "code",
   "execution_count": null,
   "id": "3f711179",
   "metadata": {},
   "outputs": [],
   "source": [
    "import logging\n",
    "\n",
    "import nest_asyncio\n",
    "\n",
    "from discrete_optimization.datasets import fetch_data_from_psplib\n",
    "from discrete_optimization.rcpsp.rcpsp_model import RCPSPSolution\n",
    "from discrete_optimization.rcpsp.rcpsp_parser import get_data_available, parse_file\n",
    "from discrete_optimization.rcpsp.rcpsp_utils import plot_ressource_view, plot_task_gantt\n",
    "from discrete_optimization.rcpsp.solver.cpm import CPM\n",
    "\n",
    "# patch asyncio so that applications using async functions can run in jupyter\n",
    "nest_asyncio.apply()\n",
    "\n",
    "# set logging level\n",
    "logging.basicConfig(level=logging.INFO)"
   ]
  },
  {
   "cell_type": "markdown",
   "id": "a8e6d7b4-8483-462a-b53e-e5976a97ea94",
   "metadata": {},
   "source": [
    "### Download datasets\n",
    "\n",
    "If not yet available, we import the datasets from [psplib](https://www.om-db.wi.tum.de/psplib/data.html)."
   ]
  },
  {
   "cell_type": "code",
   "execution_count": null,
   "id": "af4d5572-25ac-4855-84b8-eda66f1ff3ad",
   "metadata": {},
   "outputs": [],
   "source": [
    "needed_datasets = [\"j301_1.sm\"]\n",
    "download_needed = False\n",
    "try:\n",
    "    files_available_paths = get_data_available()\n",
    "    for dataset in needed_datasets:\n",
    "        if len([f for f in files_available_paths if dataset in f]) == 0:\n",
    "            download_needed = True\n",
    "            break\n",
    "except:\n",
    "    download_needed = True\n",
    "\n",
    "if download_needed:\n",
    "    fetch_data_from_psplib()"
   ]
  },
  {
   "cell_type": "markdown",
   "id": "530fbfb3",
   "metadata": {},
   "source": [
    "## First greedy solver : The RCPSP \"Pile\" solver \n",
    "A first idea can be to iteratively build a schedule from source to sink, considering available task at each time, and choosing among the available task with a greedy objective.\n",
    "\n",
    "A quite natural greedy choice is to use the graph structure of the precedence graph. We consider that task that have a lot of successors state in the graph is more important than the others : indeed it means that doing this task will unlock more following tasks. \n",
    "\n",
    "That is what the greedy solver called \"Pile\" is doing. \n",
    "\n",
    "N.B We use the \"Pile\" name which is the french for \"heap\", a special structure that we use in the implementation of the solver."
   ]
  },
  {
   "cell_type": "code",
   "execution_count": null,
   "id": "b1a1b490",
   "metadata": {},
   "outputs": [],
   "source": [
    "# Parse some rcpsp file\n",
    "filepath = [f for f in get_data_available() if \"j301_1.sm\" in f][0]\n",
    "rcpsp_problem = parse_file(filepath)"
   ]
  },
  {
   "cell_type": "code",
   "execution_count": null,
   "id": "090a8725",
   "metadata": {},
   "outputs": [],
   "source": [
    "from discrete_optimization.rcpsp.solver.rcpsp_pile import GreedyChoice, PileSolverRCPSP"
   ]
  },
  {
   "cell_type": "code",
   "execution_count": null,
   "id": "aab626d7",
   "metadata": {},
   "outputs": [],
   "source": [
    "solver = PileSolverRCPSP(problem=rcpsp_problem)\n",
    "result_storage = solver.solve(greedy_choice=GreedyChoice.MOST_SUCCESSORS)"
   ]
  },
  {
   "cell_type": "code",
   "execution_count": null,
   "id": "f3d50e7a",
   "metadata": {},
   "outputs": [],
   "source": [
    "best_solution_greedy = result_storage.get_best_solution()\n",
    "fitnesses = rcpsp_problem.evaluate(best_solution_greedy)\n",
    "print(\"fitnesses: \", fitnesses)"
   ]
  },
  {
   "cell_type": "code",
   "execution_count": null,
   "id": "592e5091",
   "metadata": {},
   "outputs": [],
   "source": [
    "fig_resource_view = plot_ressource_view(\n",
    "    rcpsp_model=rcpsp_problem,\n",
    "    rcpsp_sol=best_solution_greedy,\n",
    "    title_figure=\"Pile solution\",\n",
    ")\n",
    "fig_gantt = plot_task_gantt(\n",
    "    rcpsp_model=rcpsp_problem,\n",
    "    rcpsp_sol=best_solution_greedy,\n",
    ")"
   ]
  },
  {
   "cell_type": "markdown",
   "id": "d20d1ee7",
   "metadata": {},
   "source": [
    "We observe that the schedule is quite compact, the resource usage seems hard to improve and we are not that far from the theoretical lower bound of 38, that is the optimal duration of the schedule if there was no resource constraint."
   ]
  },
  {
   "cell_type": "markdown",
   "id": "50947e73",
   "metadata": {},
   "source": [
    "## Heuristic based on critical path computation output : SGS\n",
    "\n",
    "SGS can be seen as a priority based greedy algorithm, the more the task id is on the left side of the permutation, the more it has chance to be scheduled faster. \n",
    "We can therefore build heuristic ordering of the task and run SGS on it. One idea it to reuse output of the CPM algorithm to schedule first the task that have the lowest earliest finish date for example, but you can imagine other rules. Let's rerun the ```CPM``` utility already used in previous notebook. "
   ]
  },
  {
   "cell_type": "code",
   "execution_count": null,
   "id": "acd49675",
   "metadata": {},
   "outputs": [],
   "source": [
    "CPM??"
   ]
  },
  {
   "cell_type": "code",
   "execution_count": null,
   "id": "0a962203",
   "metadata": {},
   "outputs": [],
   "source": [
    "solver = CPM(problem=rcpsp_problem)\n",
    "critical_path = solver.run_classic_cpm()\n",
    "sol = solver.solve().get_best_solution()\n",
    "sol.get_start_time(rcpsp_problem.sink_task)"
   ]
  },
  {
   "cell_type": "code",
   "execution_count": null,
   "id": "2cd20101",
   "metadata": {},
   "outputs": [],
   "source": [
    "print(\"Available fields in CPM output : \", solver.map_node[1].__dict__.keys())\n",
    "\n",
    "# list sorted by EFD ?\n",
    "perm_lfd = sorted(rcpsp_problem.tasks_list, key=lambda x: solver.map_node[x]._LFD)\n",
    "index_perm_lfd = [\n",
    "    rcpsp_problem.index_task_non_dummy[i]\n",
    "    for i in perm_lfd\n",
    "    if i in rcpsp_problem.index_task_non_dummy\n",
    "]\n",
    "sol_lfd = RCPSPSolution(problem=rcpsp_problem, rcpsp_permutation=index_perm_lfd)\n",
    "perm_lsd = sorted(rcpsp_problem.tasks_list, key=lambda x: solver.map_node[x]._LSD)\n",
    "index_perm_lsd = [\n",
    "    rcpsp_problem.index_task_non_dummy[i]\n",
    "    for i in perm_lsd\n",
    "    if i in rcpsp_problem.index_task_non_dummy\n",
    "]\n",
    "sol_lsd = RCPSPSolution(problem=rcpsp_problem, rcpsp_permutation=index_perm_lsd)\n",
    "# Try different methods ?\n",
    "# What would be your best results ?\n",
    "print(\"LFD \", rcpsp_problem.evaluate(sol_lfd))\n",
    "print(\"LSD \", rcpsp_problem.evaluate(sol_lsd))\n",
    "\n",
    "sol_lsd = RCPSPSolution(problem=rcpsp_problem, rcpsp_permutation=index_perm_lsd)"
   ]
  },
  {
   "cell_type": "markdown",
   "id": "428fb988",
   "metadata": {},
   "source": [
    "We let you image better priority rules that could be used, because we are a bit disappointed with the priority list so far :) !"
   ]
  }
 ],
 "metadata": {
  "kernelspec": {
   "display_name": "Python 3 (ipykernel)",
   "language": "python",
   "name": "python3"
  },
  "language_info": {
   "codemirror_mode": {
    "name": "ipython",
    "version": 3
   },
   "file_extension": ".py",
   "mimetype": "text/x-python",
   "name": "python",
   "nbconvert_exporter": "python",
   "pygments_lexer": "ipython3",
   "version": "3.8.18"
  },
  "toc": {
   "base_numbering": 1,
   "nav_menu": {},
   "number_sections": true,
   "sideBar": true,
   "skip_h1_title": true,
   "title_cell": "Table of Contents",
   "title_sidebar": "Contents",
   "toc_cell": false,
   "toc_position": {},
   "toc_section_display": true,
   "toc_window_display": true
  }
 },
 "nbformat": 4,
 "nbformat_minor": 5
}
