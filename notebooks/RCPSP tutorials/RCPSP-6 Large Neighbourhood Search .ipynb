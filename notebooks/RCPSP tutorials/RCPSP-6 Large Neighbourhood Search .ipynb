{
 "cells": [
  {
   "cell_type": "markdown",
   "id": "66c93520",
   "metadata": {},
   "source": [
    "# Large neighborhood search + CP to solve RCPSP\n",
    "LNS is an iterative heuristic method consisting in freezing randomly part of the solutions and optimize the remaining part. Full solution is then rebuilt and hopefully, repeating the process lead to a good solution to the original problem.\n",
    "\n"
   ]
  },
  {
   "cell_type": "markdown",
   "id": "81320a6c-7d07-483f-a5a3-3bcca0a89ea7",
   "metadata": {},
   "source": [
    "## Prerequisites\n",
    "\n",
    "\n",
    "Concerning the python kernel to use for this notebook:\n",
    "- If running locally, be sure to use an environment with discrete-optimization and minizinc.\n",
    "- If running on colab, the next cell does it for you.\n",
    "- If running on binder, the environment should be ready.\n"
   ]
  },
  {
   "cell_type": "code",
   "execution_count": null,
   "id": "95bb6816-f993-44c0-9cda-71ecbeb44d2d",
   "metadata": {},
   "outputs": [],
   "source": [
    "# On Colab: install the library\n",
    "on_colab = \"google.colab\" in str(get_ipython())\n",
    "if on_colab:\n",
    "    import importlib\n",
    "    import os\n",
    "    import sys  # noqa: avoid having this import removed by pycln\n",
    "\n",
    "    !{sys.executable} -m pip install -U pip\n",
    "\n",
    "    # uninstall google protobuf conflicting with ray and sb3\n",
    "    ! pip uninstall -y protobuf\n",
    "\n",
    "    # install dev version for dev doc, or release version for release doc\n",
    "    !{sys.executable} -m pip install git+https://github.com/airbus/discrete-optimization@master#egg=discrete-optimization\n",
    "\n",
    "    # be sure to load the proper cffi (downgraded compared to the one initially on colab)\n",
    "    import cffi\n",
    "\n",
    "    importlib.reload(cffi)\n",
    "\n",
    "    # install and configure minizinc\n",
    "    !curl -o minizinc.AppImage -L https://github.com/MiniZinc/MiniZincIDE/releases/download/2.6.3/MiniZincIDE-2.6.3-x86_64.AppImage\n",
    "    !chmod +x minizinc.AppImage\n",
    "    !./minizinc.AppImage --appimage-extract\n",
    "    os.environ[\"PATH\"] = f\"{os.getcwd()}/squashfs-root/usr/bin/:{os.environ['PATH']}\"\n",
    "    os.environ[\"LD_LIBRARY_PATH\"] = (\n",
    "        f\"{os.getcwd()}/squashfs-root/usr/lib/:{os.environ['LD_LIBRARY_PATH']}\"\n",
    "    )"
   ]
  },
  {
   "cell_type": "markdown",
   "id": "67deb23a-5e05-44b8-9ab9-61180918b008",
   "metadata": {},
   "source": [
    "### Imports"
   ]
  },
  {
   "cell_type": "code",
   "execution_count": null,
   "id": "ed9cd47e",
   "metadata": {},
   "outputs": [],
   "source": [
    "import logging\n",
    "\n",
    "import matplotlib.pyplot as plt\n",
    "import nest_asyncio\n",
    "\n",
    "from discrete_optimization.datasets import fetch_data_from_psplib\n",
    "from discrete_optimization.generic_rcpsp_tools.large_neighborhood_search_scheduling import (\n",
    "    LargeNeighborhoodSearchScheduling,\n",
    ")\n",
    "from discrete_optimization.generic_rcpsp_tools.neighbor_builder import (\n",
    "    ObjectiveSubproblem,\n",
    "    ParamsConstraintBuilder,\n",
    "    mix_lot,\n",
    ")\n",
    "from discrete_optimization.generic_tools.cp_tools import CPSolverName, ParametersCP\n",
    "from discrete_optimization.generic_tools.lns_cp import LNS_CP\n",
    "from discrete_optimization.generic_tools.lns_mip import TrivialInitialSolution\n",
    "from discrete_optimization.generic_tools.result_storage.result_storage import (\n",
    "    from_solutions_to_result_storage,\n",
    ")\n",
    "from discrete_optimization.rcpsp.rcpsp_parser import get_data_available, parse_file\n",
    "from discrete_optimization.rcpsp.solver.cp_solvers import (\n",
    "    CP_RCPSP_MZN,\n",
    "    CPSolverName,\n",
    "    ParametersCP,\n",
    ")\n",
    "from discrete_optimization.rcpsp.solver.rcpsp_cp_lns_solver import (\n",
    "    ConstraintHandlerStartTimeInterval_CP,\n",
    ")\n",
    "\n",
    "# patch asyncio so that applications using async functions can run in jupyter\n",
    "nest_asyncio.apply()\n",
    "\n",
    "# set logging level\n",
    "logging.basicConfig(level=logging.INFO)"
   ]
  },
  {
   "cell_type": "markdown",
   "id": "a2b35b30-7975-40e3-a573-125bc87c0252",
   "metadata": {},
   "source": [
    "### Download datasets\n",
    "\n",
    "If not yet available, we import the datasets from [psplib](https://www.om-db.wi.tum.de/psplib/data.html)."
   ]
  },
  {
   "cell_type": "code",
   "execution_count": null,
   "id": "8f2af0a0-e130-491b-84fb-a5b26e18d776",
   "metadata": {},
   "outputs": [],
   "source": [
    "needed_datasets = [\"j301_1.sm\"]\n",
    "download_needed = False\n",
    "try:\n",
    "    files_available_paths = get_data_available()\n",
    "    for dataset in needed_datasets:\n",
    "        if len([f for f in files_available_paths if dataset in f]) == 0:\n",
    "            download_needed = True\n",
    "            break\n",
    "except:\n",
    "    download_needed = True\n",
    "\n",
    "if download_needed:\n",
    "    fetch_data_from_psplib()"
   ]
  },
  {
   "cell_type": "markdown",
   "id": "d4bcabb7-1ed1-4684-a7da-6ce879e62236",
   "metadata": {},
   "source": [
    "This time we'll use a more complicated instance of RCPSP to highlight the benefit of LNS. (For introduction about RCPSP problem, see [this notebook](RCPSP%20%231%20Introduction.ipynb).)"
   ]
  },
  {
   "cell_type": "code",
   "execution_count": null,
   "id": "2dcd8f77",
   "metadata": {},
   "outputs": [],
   "source": [
    "# Parse some rcpsp file\n",
    "filepath = [f for f in get_data_available() if \"j1201_3.sm\" in f][0]\n",
    "rcpsp_problem = parse_file(filepath)"
   ]
  },
  {
   "cell_type": "markdown",
   "id": "511122ef",
   "metadata": {},
   "source": [
    "## Baseline solver "
   ]
  },
  {
   "cell_type": "code",
   "execution_count": null,
   "id": "9c2b3ea6",
   "metadata": {},
   "outputs": [],
   "source": [
    "solver = CP_RCPSP_MZN(problem=rcpsp_problem, cp_solver_name=CPSolverName.CHUFFED)\n",
    "params_cp = ParametersCP.default()\n",
    "params_cp.time_limit = 20\n",
    "solver.init_model(output_type=True)\n",
    "results = solver.solve(parameters_cp=params_cp)"
   ]
  },
  {
   "cell_type": "code",
   "execution_count": null,
   "id": "d8401afe",
   "metadata": {},
   "outputs": [],
   "source": [
    "best_solution_cp, fit = results.get_best_solution_fit()\n",
    "print(\"Best makespan found by CP: \", -fit)"
   ]
  },
  {
   "cell_type": "markdown",
   "id": "454048f3",
   "metadata": {},
   "source": [
    "## LNS"
   ]
  },
  {
   "cell_type": "code",
   "execution_count": null,
   "id": "9ebfdc3b",
   "metadata": {},
   "outputs": [],
   "source": [
    "constraint_handler = ConstraintHandlerStartTimeInterval_CP(\n",
    "    problem=rcpsp_problem,\n",
    "    fraction_to_fix=0.8,\n",
    "    # here i want to apply bounds constraint on all the tasks\n",
    "    minus_delta=10,\n",
    "    plus_delta=10,\n",
    ")\n",
    "\n",
    "some_solution = rcpsp_problem.get_dummy_solution()  # starting solution\n",
    "initial_solution_provider = TrivialInitialSolution(\n",
    "    solution=from_solutions_to_result_storage([some_solution], problem=rcpsp_problem)\n",
    ")\n",
    "parameters_cp = ParametersCP.default()\n",
    "parameters_cp.time_limit_iter0 = 5\n",
    "parameters_cp.time_limit = 2\n",
    "lns_solver = LNS_CP(\n",
    "    problem=rcpsp_problem,\n",
    "    cp_solver=solver,\n",
    "    initial_solution_provider=initial_solution_provider,\n",
    "    constraint_handler=constraint_handler,\n",
    ")\n",
    "result_store = lns_solver.solve_lns(\n",
    "    max_time_seconds=100, parameters_cp=parameters_cp, nb_iteration_lns=100\n",
    ")"
   ]
  },
  {
   "cell_type": "markdown",
   "id": "4f8ff1bf",
   "metadata": {},
   "source": [
    "## Easier LNS for scheduling"
   ]
  },
  {
   "cell_type": "markdown",
   "id": "ca743106",
   "metadata": {},
   "source": [
    "Ease the use of LNS solver, with by default initial solution provider, constraint handler etc. By default parameters may work less good than customized ones."
   ]
  },
  {
   "cell_type": "code",
   "execution_count": null,
   "id": "43c37b55",
   "metadata": {},
   "outputs": [],
   "source": [
    "lns_solver = LargeNeighborhoodSearchScheduling(problem=rcpsp_problem)"
   ]
  },
  {
   "cell_type": "code",
   "execution_count": null,
   "id": "82782f1a",
   "metadata": {},
   "outputs": [],
   "source": [
    "parameters_cp = ParametersCP.default()\n",
    "parameters_cp.time_limit_iter0 = 5\n",
    "parameters_cp.time_limit = 2\n",
    "results = lns_solver.solve(\n",
    "    nb_iteration_lns=1000,\n",
    "    skip_first_iteration=False,\n",
    "    stop_first_iteration_if_optimal=False,\n",
    "    parameters_cp=parameters_cp,\n",
    "    nb_iteration_no_improvement=200,\n",
    "    max_time_seconds=100,\n",
    ")"
   ]
  },
  {
   "cell_type": "markdown",
   "id": "06c3d441",
   "metadata": {},
   "source": [
    "## Advanced LNS settings\n",
    "More advanced user can use \"port-folio\" constraint handler. "
   ]
  },
  {
   "cell_type": "code",
   "execution_count": null,
   "id": "493675fc",
   "metadata": {},
   "outputs": [],
   "source": [
    "# Different constraint handler methods\n",
    "constraint_handler = mix_lot(\n",
    "    rcpsp_model=rcpsp_problem,\n",
    "    nb_cut_parts=[4, 5, 6],\n",
    "    fraction_subproblems=[0.3],\n",
    "    params_list=[\n",
    "        ParamsConstraintBuilder(\n",
    "            minus_delta_primary=60,\n",
    "            plus_delta_primary=60,\n",
    "            minus_delta_secondary=20,\n",
    "            plus_delta_secondary=20,\n",
    "            constraint_max_time_to_current_solution=True,\n",
    "        )\n",
    "    ],\n",
    "    objective_subproblem=ObjectiveSubproblem.MAKESPAN_SUBTASKS,\n",
    ")"
   ]
  },
  {
   "cell_type": "markdown",
   "id": "f858bfb2",
   "metadata": {},
   "source": [
    "This constraint handler is choosing randomly different ways of building subproblems : \n",
    "- cut parts (depending on some integer values) make the optim focused on some subpart of the current solution\n",
    "- random subproblem (specified by `fraction_subproblems`) : a given fraction of the problem is set to be the main focus of the subproblem.\n",
    "By specifying a list of \"cut_part\" and \"fraction_subproblems\", all the different methods are \"mixed\" and randomly chosen during the LNS iterations. This allows a more diverse LNS and can help the overall optimisation.\n",
    "\n",
    "The method is more detailed in an upcoming scientific paper that will be linked in this tutorial."
   ]
  },
  {
   "cell_type": "code",
   "execution_count": null,
   "id": "85a0390d",
   "metadata": {},
   "outputs": [],
   "source": [
    "solver = CP_RCPSP_MZN(problem=rcpsp_problem, cp_solver_name=CPSolverName.CHUFFED)\n",
    "solver.init_model(\n",
    "    output_type=True, ignore_sec_objective=False, add_objective_makespan=False\n",
    ")\n",
    "some_solution = rcpsp_problem.get_dummy_solution()  # starting solution\n",
    "initial_solution_provider = TrivialInitialSolution(\n",
    "    solution=from_solutions_to_result_storage([some_solution], problem=rcpsp_problem)\n",
    ")\n",
    "lns_solver = LargeNeighborhoodSearchScheduling(\n",
    "    problem=rcpsp_problem,\n",
    "    cp_solver=solver,\n",
    "    constraint_handler=constraint_handler,\n",
    "    initial_solution_provider=initial_solution_provider,\n",
    ")"
   ]
  },
  {
   "cell_type": "code",
   "execution_count": null,
   "id": "ebf2600f",
   "metadata": {},
   "outputs": [],
   "source": [
    "parameters_cp = ParametersCP.default()\n",
    "parameters_cp.time_limit_iter0 = 5\n",
    "parameters_cp.time_limit = 3\n",
    "parameters_cp.free_search = True\n",
    "results = lns_solver.solve(\n",
    "    nb_iteration_lns=1000,\n",
    "    skip_first_iteration=False,\n",
    "    stop_first_iteration_if_optimal=False,\n",
    "    parameters_cp=parameters_cp,\n",
    "    nb_iteration_no_improvement=200,\n",
    "    max_time_seconds=100,\n",
    ")"
   ]
  },
  {
   "cell_type": "code",
   "execution_count": null,
   "id": "b18376d4",
   "metadata": {},
   "outputs": [],
   "source": [
    "fig, ax = plt.subplots(1)\n",
    "ax.plot([x[1] for x in results.list_solution_fits], marker=\"o\")\n",
    "ax.set_ylabel(\"- makespan\")\n",
    "ax.set_xlabel(\"# solution found\")\n",
    "plt.show()"
   ]
  }
 ],
 "metadata": {
  "kernelspec": {
   "display_name": "Python 3 (ipykernel)",
   "language": "python",
   "name": "python3"
  },
  "language_info": {
   "codemirror_mode": {
    "name": "ipython",
    "version": 3
   },
   "file_extension": ".py",
   "mimetype": "text/x-python",
   "name": "python",
   "nbconvert_exporter": "python",
   "pygments_lexer": "ipython3",
   "version": "3.8.18"
  },
  "toc": {
   "base_numbering": 1,
   "nav_menu": {},
   "number_sections": true,
   "sideBar": true,
   "skip_h1_title": true,
   "title_cell": "Table of Contents",
   "title_sidebar": "Contents",
   "toc_cell": false,
   "toc_position": {},
   "toc_section_display": true,
   "toc_window_display": true
  }
 },
 "nbformat": 4,
 "nbformat_minor": 5
}
