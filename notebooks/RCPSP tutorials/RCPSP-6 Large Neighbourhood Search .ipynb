{
 "cells": [
  {
   "cell_type": "markdown",
   "id": "66c93520",
   "metadata": {},
   "source": [
    "# Large neighborhood search + CP to solve RCPSP\n",
    "LNS is an iterative heuristic method consisting in freezing randomly part of the solutions and optimize the remaining part. Full solution is then rebuilt and hopefully, repeating the process lead to a good solution to the original problem.\n",
    "\n"
   ]
  },
  {
   "cell_type": "code",
   "execution_count": null,
   "id": "ed9cd47e",
   "metadata": {},
   "outputs": [],
   "source": [
    "import logging\n",
    "\n",
    "import nest_asyncio\n",
    "\n",
    "# patch asyncio so that applications using async functions can run in jupyter\n",
    "nest_asyncio.apply()\n",
    "\n",
    "# set logging level\n",
    "logging.basicConfig(level=logging.INFO)"
   ]
  },
  {
   "cell_type": "markdown",
   "id": "14cfe667",
   "metadata": {},
   "source": [
    "## Parsing model\n",
    "\n",
    "This time we'll use a more complicated instance of RCPSP to highlight the benefit of LNS. (For introduction about RCPSP problem, see [this notebook](RCPSP%20%231%20Introduction.ipynb).)"
   ]
  },
  {
   "cell_type": "code",
   "execution_count": null,
   "id": "2dcd8f77",
   "metadata": {},
   "outputs": [],
   "source": [
    "from discrete_optimization.rcpsp.rcpsp_parser import get_data_available, parse_file\n",
    "\n",
    "# Parse some rcpsp file\n",
    "filepath = [f for f in get_data_available() if \"j1201_3.sm\" in f][0]\n",
    "rcpsp_problem = parse_file(filepath)"
   ]
  },
  {
   "cell_type": "markdown",
   "id": "511122ef",
   "metadata": {},
   "source": [
    "## Baseline solver "
   ]
  },
  {
   "cell_type": "code",
   "execution_count": null,
   "id": "9c2b3ea6",
   "metadata": {},
   "outputs": [],
   "source": [
    "from discrete_optimization.rcpsp.solver.cp_solvers import (\n",
    "    CP_RCPSP_MZN,\n",
    "    CPSolverName,\n",
    "    ParametersCP,\n",
    ")\n",
    "\n",
    "solver = CP_RCPSP_MZN(problem=rcpsp_problem, cp_solver_name=CPSolverName.CHUFFED)\n",
    "params_cp = ParametersCP.default()\n",
    "params_cp.time_limit = 20\n",
    "solver.init_model(output_type=True)\n",
    "results = solver.solve(parameters_cp=params_cp)"
   ]
  },
  {
   "cell_type": "code",
   "execution_count": null,
   "id": "d8401afe",
   "metadata": {},
   "outputs": [],
   "source": [
    "best_solution_cp, fit = results.get_best_solution_fit()\n",
    "print(\"Best makespan found by CP: \", -fit)"
   ]
  },
  {
   "cell_type": "markdown",
   "id": "454048f3",
   "metadata": {},
   "source": [
    "## LNS"
   ]
  },
  {
   "cell_type": "code",
   "execution_count": null,
   "id": "ec2b8cbd",
   "metadata": {},
   "outputs": [],
   "source": [
    "from discrete_optimization.generic_tools.cp_tools import CPSolverName, ParametersCP\n",
    "from discrete_optimization.generic_tools.lns_cp import LNS_CP\n",
    "from discrete_optimization.generic_tools.lns_mip import TrivialInitialSolution\n",
    "from discrete_optimization.generic_tools.result_storage.result_storage import (\n",
    "    from_solutions_to_result_storage,\n",
    ")\n",
    "from discrete_optimization.rcpsp.solver.rcpsp_cp_lns_solver import (\n",
    "    ConstraintHandlerStartTimeInterval_CP,\n",
    ")"
   ]
  },
  {
   "cell_type": "code",
   "execution_count": null,
   "id": "9ebfdc3b",
   "metadata": {},
   "outputs": [],
   "source": [
    "constraint_handler = ConstraintHandlerStartTimeInterval_CP(\n",
    "    problem=rcpsp_problem,\n",
    "    fraction_to_fix=0.8,\n",
    "    # here i want to apply bounds constraint on all the tasks\n",
    "    minus_delta=10,\n",
    "    plus_delta=10,\n",
    ")\n",
    "\n",
    "some_solution = rcpsp_problem.get_dummy_solution()  # starting solution\n",
    "initial_solution_provider = TrivialInitialSolution(\n",
    "    solution=from_solutions_to_result_storage([some_solution], problem=rcpsp_problem)\n",
    ")\n",
    "parameters_cp = ParametersCP.default()\n",
    "parameters_cp.time_limit_iter0 = 5\n",
    "parameters_cp.time_limit = 2\n",
    "lns_solver = LNS_CP(\n",
    "    problem=rcpsp_problem,\n",
    "    cp_solver=solver,\n",
    "    initial_solution_provider=initial_solution_provider,\n",
    "    constraint_handler=constraint_handler,\n",
    ")\n",
    "result_store = lns_solver.solve_lns(\n",
    "    max_time_seconds=100, parameters_cp=parameters_cp, nb_iteration_lns=100\n",
    ")"
   ]
  },
  {
   "cell_type": "markdown",
   "id": "4f8ff1bf",
   "metadata": {},
   "source": [
    "## Easier LNS for scheduling"
   ]
  },
  {
   "cell_type": "markdown",
   "id": "ca743106",
   "metadata": {},
   "source": [
    "Ease the use of LNS solver, with by default initial solution provider, constraint handler etc. By default parameters may work less good than customized ones."
   ]
  },
  {
   "cell_type": "code",
   "execution_count": null,
   "id": "40d53dd0",
   "metadata": {},
   "outputs": [],
   "source": [
    "from discrete_optimization.generic_rcpsp_tools.large_neighborhood_search_scheduling import (\n",
    "    LargeNeighborhoodSearchScheduling,\n",
    ")"
   ]
  },
  {
   "cell_type": "code",
   "execution_count": null,
   "id": "43c37b55",
   "metadata": {},
   "outputs": [],
   "source": [
    "lns_solver = LargeNeighborhoodSearchScheduling(problem=rcpsp_problem)"
   ]
  },
  {
   "cell_type": "code",
   "execution_count": null,
   "id": "82782f1a",
   "metadata": {},
   "outputs": [],
   "source": [
    "parameters_cp = ParametersCP.default()\n",
    "parameters_cp.time_limit_iter0 = 5\n",
    "parameters_cp.time_limit = 2\n",
    "results = lns_solver.solve(\n",
    "    nb_iteration_lns=1000,\n",
    "    skip_first_iteration=False,\n",
    "    stop_first_iteration_if_optimal=False,\n",
    "    parameters_cp=parameters_cp,\n",
    "    nb_iteration_no_improvement=200,\n",
    "    max_time_seconds=100,\n",
    ")"
   ]
  },
  {
   "cell_type": "markdown",
   "id": "06c3d441",
   "metadata": {},
   "source": [
    "## Advanced LNS settings\n",
    "More advanced user can use \"port-folio\" constraint handler. "
   ]
  },
  {
   "cell_type": "code",
   "execution_count": null,
   "id": "493675fc",
   "metadata": {},
   "outputs": [],
   "source": [
    "# Different constraint handler methods\n",
    "from discrete_optimization.generic_rcpsp_tools.neighbor_builder import (\n",
    "    ObjectiveSubproblem,\n",
    "    ParamsConstraintBuilder,\n",
    "    mix_lot,\n",
    ")\n",
    "\n",
    "constraint_handler = mix_lot(\n",
    "    rcpsp_model=rcpsp_problem,\n",
    "    nb_cut_parts=[4, 5, 6],\n",
    "    fraction_subproblems=[0.3],\n",
    "    params_list=[\n",
    "        ParamsConstraintBuilder(\n",
    "            minus_delta_primary=60,\n",
    "            plus_delta_primary=60,\n",
    "            minus_delta_secondary=20,\n",
    "            plus_delta_secondary=20,\n",
    "            constraint_max_time_to_current_solution=True,\n",
    "        )\n",
    "    ],\n",
    "    objective_subproblem=ObjectiveSubproblem.MAKESPAN_SUBTASKS,\n",
    ")"
   ]
  },
  {
   "cell_type": "markdown",
   "id": "f858bfb2",
   "metadata": {},
   "source": [
    "This constraint handler is choosing randomly different ways of building subproblems : \n",
    "- cut parts (depending on some integer values) make the optim focused on some subpart of the current solution\n",
    "- random subproblem (specified by `fraction_subproblems`) : a given fraction of the problem is set to be the main focus of the subproblem.\n",
    "By specifying a list of \"cut_part\" and \"fraction_subproblems\", all the different methods are \"mixed\" and randomly chosen during the LNS iterations. This allows a more diverse LNS and can help the overall optimisation.\n",
    "\n",
    "The method is more detailed in an upcoming scientific paper that will be linked in this tutorial."
   ]
  },
  {
   "cell_type": "code",
   "execution_count": null,
   "id": "85a0390d",
   "metadata": {},
   "outputs": [],
   "source": [
    "solver = CP_RCPSP_MZN(problem=rcpsp_problem, cp_solver_name=CPSolverName.CHUFFED)\n",
    "solver.init_model(\n",
    "    output_type=True, ignore_sec_objective=False, add_objective_makespan=False\n",
    ")\n",
    "some_solution = rcpsp_problem.get_dummy_solution()  # starting solution\n",
    "initial_solution_provider = TrivialInitialSolution(\n",
    "    solution=from_solutions_to_result_storage([some_solution], problem=rcpsp_problem)\n",
    ")\n",
    "lns_solver = LargeNeighborhoodSearchScheduling(\n",
    "    problem=rcpsp_problem,\n",
    "    cp_solver=solver,\n",
    "    constraint_handler=constraint_handler,\n",
    "    initial_solution_provider=initial_solution_provider,\n",
    ")"
   ]
  },
  {
   "cell_type": "code",
   "execution_count": null,
   "id": "ebf2600f",
   "metadata": {},
   "outputs": [],
   "source": [
    "parameters_cp = ParametersCP.default()\n",
    "parameters_cp.time_limit_iter0 = 5\n",
    "parameters_cp.time_limit = 3\n",
    "parameters_cp.free_search = True\n",
    "results = lns_solver.solve(\n",
    "    nb_iteration_lns=1000,\n",
    "    skip_first_iteration=False,\n",
    "    stop_first_iteration_if_optimal=False,\n",
    "    parameters_cp=parameters_cp,\n",
    "    nb_iteration_no_improvement=200,\n",
    "    max_time_seconds=100,\n",
    ")"
   ]
  },
  {
   "cell_type": "code",
   "execution_count": null,
   "id": "b18376d4",
   "metadata": {},
   "outputs": [],
   "source": [
    "import matplotlib.pyplot as plt\n",
    "\n",
    "%matplotlib inline\n",
    "fig, ax = plt.subplots(1)\n",
    "ax.plot([x[1] for x in results.list_solution_fits], marker=\"o\")\n",
    "ax.set_ylabel(\"- makespan\")\n",
    "ax.set_xlabel(\"# solution found\")\n",
    "plt.show()"
   ]
  },
  {
   "cell_type": "code",
   "execution_count": null,
   "id": "9bed3315-16ef-47a4-acce-f84d27f17046",
   "metadata": {},
   "outputs": [],
   "source": []
  }
 ],
 "metadata": {
  "kernelspec": {
   "display_name": "Python 3 (ipykernel)",
   "language": "python",
   "name": "python3"
  },
  "language_info": {
   "codemirror_mode": {
    "name": "ipython",
    "version": 3
   },
   "file_extension": ".py",
   "mimetype": "text/x-python",
   "name": "python",
   "nbconvert_exporter": "python",
   "pygments_lexer": "ipython3",
   "version": "3.9.18"
  },
  "toc": {
   "base_numbering": 1,
   "nav_menu": {},
   "number_sections": true,
   "sideBar": true,
   "skip_h1_title": true,
   "title_cell": "Table of Contents",
   "title_sidebar": "Contents",
   "toc_cell": false,
   "toc_position": {},
   "toc_section_display": true,
   "toc_window_display": true
  }
 },
 "nbformat": 4,
 "nbformat_minor": 5
}
