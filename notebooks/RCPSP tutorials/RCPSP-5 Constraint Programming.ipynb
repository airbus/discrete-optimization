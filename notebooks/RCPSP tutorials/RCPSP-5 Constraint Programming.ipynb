{
 "cells": [
  {
   "cell_type": "markdown",
   "id": "7999d3db",
   "metadata": {},
   "source": [
    "# Solve RCPSP by constraint programming\n",
    "\n",
    "One of the main class of methods to solve discrete optimization problem is Constraint programming [(CP)](https://en.wikipedia.org/wiki/Constraint_programming). CP solvers explore the state variables and propagate constraints in a clever way. Using constraint programming, users declaratively state the constraints on the feasible solutions for a set of decision variables. Constraints specify the properties of a solution to be found.\n",
    "In discrete-optimization library, [minizinc](https://www.minizinc.org/) declarative language and its [python api](https://minizinc-python.readthedocs.io/en/latest/) is used extensively. However it is quite easy to use other modeling library such as [Cpmpy](https://github.com/CPMpy/cpmpy/tree/master/cpmpy) in the future.\n",
    "Some constraint programming models are stored in discrete_optimization/knapsack/minizinc folder.\n",
    "\n",
    "In this notebook, we'll use the [chuffed](https://github.com/chuffed/chuffed#description) solver which is a state of the art lazy clause solver. \n",
    "\n",
    "We assume that you have already been introduced to RCPSP problems thanks to this [notebook](RCPSP%20%231%20Introduction.ipynb)."
   ]
  },
  {
   "cell_type": "markdown",
   "id": "ae6ddf73-6e8a-400c-a2f8-8877ea73f51e",
   "metadata": {},
   "source": [
    "## Prerequisites\n",
    "\n",
    "\n",
    "Concerning the python kernel to use for this notebook:\n",
    "- If running locally, be sure to use an environment with discrete-optimization and minizinc.\n",
    "- If running on colab, the next cell does it for you.\n",
    "- If running on binder, the environment should be ready.\n"
   ]
  },
  {
   "cell_type": "code",
   "execution_count": null,
   "id": "ffce731e-2cc2-4fe7-8920-039466d840f5",
   "metadata": {},
   "outputs": [],
   "source": [
    "# On Colab: install the library\n",
    "on_colab = \"google.colab\" in str(get_ipython())\n",
    "if on_colab:\n",
    "    import importlib\n",
    "    import os\n",
    "    import sys  # noqa: avoid having this import removed by pycln\n",
    "\n",
    "    !{sys.executable} -m pip install -U pip\n",
    "\n",
    "    # uninstall google protobuf conflicting with ray and sb3\n",
    "    ! pip uninstall -y protobuf\n",
    "\n",
    "    # install dev version for dev doc, or release version for release doc\n",
    "    !{sys.executable} -m pip install git+https://github.com/airbus/discrete-optimization@master#egg=discrete-optimization\n",
    "\n",
    "    # be sure to load the proper cffi (downgraded compared to the one initially on colab)\n",
    "    import cffi\n",
    "\n",
    "    importlib.reload(cffi)\n",
    "\n",
    "    # install and configure minizinc\n",
    "    !curl -o minizinc.AppImage -L https://github.com/MiniZinc/MiniZincIDE/releases/download/2.6.3/MiniZincIDE-2.6.3-x86_64.AppImage\n",
    "    !chmod +x minizinc.AppImage\n",
    "    !./minizinc.AppImage --appimage-extract\n",
    "    os.environ[\"PATH\"] = f\"{os.getcwd()}/squashfs-root/usr/bin/:{os.environ['PATH']}\"\n",
    "    os.environ[\"LD_LIBRARY_PATH\"] = (\n",
    "        f\"{os.getcwd()}/squashfs-root/usr/lib/:{os.environ['LD_LIBRARY_PATH']}\"\n",
    "    )"
   ]
  },
  {
   "cell_type": "markdown",
   "id": "36c6f94d-932a-4da4-9c32-06e63903c3f4",
   "metadata": {},
   "source": [
    "### Imports"
   ]
  },
  {
   "cell_type": "code",
   "execution_count": null,
   "id": "25ae659e",
   "metadata": {},
   "outputs": [],
   "source": [
    "import logging\n",
    "\n",
    "import matplotlib.pyplot as plt\n",
    "import nest_asyncio\n",
    "\n",
    "from discrete_optimization.datasets import fetch_data_from_psplib\n",
    "from discrete_optimization.rcpsp.rcpsp_parser import get_data_available, parse_file\n",
    "from discrete_optimization.rcpsp.rcpsp_utils import plot_ressource_view\n",
    "from discrete_optimization.rcpsp.solver.cp_solvers import (\n",
    "    CP_RCPSP_MZN,\n",
    "    CPSolverName,\n",
    "    ParametersCP,\n",
    ")\n",
    "\n",
    "# patch asyncio so that applications using async functions can run in jupyter\n",
    "nest_asyncio.apply()\n",
    "\n",
    "# set logging level\n",
    "logging.basicConfig(level=logging.INFO)"
   ]
  },
  {
   "cell_type": "markdown",
   "id": "83c2686d-c3a0-479d-a08b-eee1b4dc9286",
   "metadata": {},
   "source": [
    "### Download datasets\n",
    "\n",
    "If not yet available, we import the datasets from [psplib](https://www.om-db.wi.tum.de/psplib/data.html)."
   ]
  },
  {
   "cell_type": "code",
   "execution_count": null,
   "id": "60b8c173-7cbf-4ffd-91ac-03c4a3d21bf6",
   "metadata": {},
   "outputs": [],
   "source": [
    "needed_datasets = [\"j301_1.sm\"]\n",
    "download_needed = False\n",
    "try:\n",
    "    files_available_paths = get_data_available()\n",
    "    for dataset in needed_datasets:\n",
    "        if len([f for f in files_available_paths if dataset in f]) == 0:\n",
    "            download_needed = True\n",
    "            break\n",
    "except:\n",
    "    download_needed = True\n",
    "\n",
    "if download_needed:\n",
    "    fetch_data_from_psplib()"
   ]
  },
  {
   "cell_type": "code",
   "execution_count": null,
   "id": "c773a252",
   "metadata": {},
   "outputs": [],
   "source": [
    "# Parse some rcpsp file\n",
    "filepath = [f for f in get_data_available() if \"j601_1.sm\" in f][0]\n",
    "rcpsp_problem = parse_file(filepath)"
   ]
  },
  {
   "cell_type": "markdown",
   "id": "9f9d2c67",
   "metadata": {},
   "source": [
    "## Constraint modelling\n",
    "The simplest constraint model for RCPSP can be found in the library at this [path](../discrete_optimization/rcpsp/minizinc/rcpsp_single_mode_mzn.mzn) (rcpsp/minizinc/rcpsp_single_mode_mzn.mzn). \n",
    "\n",
    "Contrary to the linear programming formulation, no need of binary variable (that were needed to make the formulation linear). The decisions variable are directly the starting time of the task. \n",
    "The precedence constraints are then quite trivial to write\n",
    "\n",
    "$\\forall t_1, \\forall t_2 \\in \\text{successors}(t_1), start[t_2]\\geq start[t_1]$\n",
    "\n",
    "About the cumulative constraint, we use the <b>global</b> constraint *cumulative* that is native in minizing language : see [here](https://www.minizinc.org/doc-2.5.5/en/lib-globals.html#index-119) for more details."
   ]
  },
  {
   "cell_type": "markdown",
   "id": "6df9aed2",
   "metadata": {},
   "source": [
    "## CP Solver "
   ]
  },
  {
   "cell_type": "code",
   "execution_count": null,
   "id": "c662147b",
   "metadata": {},
   "outputs": [],
   "source": [
    "solver = CP_RCPSP_MZN(problem=rcpsp_problem, cp_solver_name=CPSolverName.CHUFFED)\n",
    "solver.init_model()\n",
    "parameters_cp = ParametersCP.default()\n",
    "parameters_cp.time_limit = 20\n",
    "results = solver.solve(parameters_cp=parameters_cp)"
   ]
  },
  {
   "cell_type": "markdown",
   "id": "f75762ae",
   "metadata": {},
   "source": [
    "For this instance, the solving is very fast (should be faster than when testing the previous Linear Programming isn't it ?). CP is here able to return optimal solution almost instantly."
   ]
  },
  {
   "cell_type": "code",
   "execution_count": null,
   "id": "f7ac63b5",
   "metadata": {},
   "outputs": [],
   "source": [
    "fig, ax = plt.subplots(1)\n",
    "ax.plot([x[1] for x in results.list_solution_fits], marker=\"o\")\n",
    "ax.set_ylabel(\"- makespan\")\n",
    "ax.set_xlabel(\"# solution found\")\n",
    "plt.show()"
   ]
  },
  {
   "cell_type": "code",
   "execution_count": null,
   "id": "31249031",
   "metadata": {},
   "outputs": [],
   "source": [
    "# Retrieve the best_solution, fit found by the solver.\n",
    "best_solution, fit = results.get_best_solution_fit()\n",
    "# Print fitness\n",
    "print(fit)\n",
    "# Check if the solution satisfies the constraints\n",
    "print(\"Satisfaction :\", rcpsp_problem.satisfy(best_solution))\n",
    "# Evaluation :\n",
    "print(\"Evaluation :\", rcpsp_problem.evaluate(best_solution))"
   ]
  },
  {
   "cell_type": "markdown",
   "id": "65640170",
   "metadata": {},
   "source": [
    "### Plot the solution"
   ]
  },
  {
   "cell_type": "code",
   "execution_count": null,
   "id": "2264fc7e",
   "metadata": {},
   "outputs": [],
   "source": [
    "plot_ressource_view(rcpsp_model=rcpsp_problem, rcpsp_sol=best_solution)"
   ]
  },
  {
   "cell_type": "markdown",
   "id": "52b0d3b4",
   "metadata": {},
   "source": [
    "Constraint programming is the state of the art method to solve scheduling problems like $RCPSP$. It is therefore not surprising to get fast and good solutions for this limited-size instance. \n",
    "Many other models have been developed in the library to tackle complex variants of scheduling problems.\n",
    "Few characteristics of such scheduling problems are the following : \n",
    "- variable resource availability\n",
    "- multimode task execution (for example a task can be fast+highly resource demanding or slow+low resource demanding)\n",
    "- preemptive scheduling : ability to pause and resume task.\n"
   ]
  }
 ],
 "metadata": {
  "kernelspec": {
   "display_name": "Python 3 (ipykernel)",
   "language": "python",
   "name": "python3"
  },
  "language_info": {
   "codemirror_mode": {
    "name": "ipython",
    "version": 3
   },
   "file_extension": ".py",
   "mimetype": "text/x-python",
   "name": "python",
   "nbconvert_exporter": "python",
   "pygments_lexer": "ipython3",
   "version": "3.8.18"
  },
  "toc": {
   "base_numbering": 1,
   "nav_menu": {},
   "number_sections": true,
   "sideBar": true,
   "skip_h1_title": true,
   "title_cell": "Table of Contents",
   "title_sidebar": "Contents",
   "toc_cell": false,
   "toc_position": {},
   "toc_section_display": true,
   "toc_window_display": false
  }
 },
 "nbformat": 4,
 "nbformat_minor": 5
}
